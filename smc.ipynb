{
 "cells": [
  {
   "cell_type": "code",
   "execution_count": 93,
   "id": "bfef5b59-aea2-4ba4-b4fe-597475cfee0b",
   "metadata": {},
   "outputs": [],
   "source": [
    "import numpy as np\n",
    "import time\n",
    "from timeit import timeit as timeit\n",
    "import subprocess\n",
    "import os"
   ]
  },
  {
   "cell_type": "code",
   "execution_count": 94,
   "id": "0df23efe-f3ea-4af6-be56-eb3a2dbfbd45",
   "metadata": {},
   "outputs": [],
   "source": [
    "def SNPtoSMC(dist, SNP, POS):\n",
    "    \"\"\"\n",
    "    dist : distinguished ind\n",
    "    SNP : snp matrix\n",
    "    POS : positions matrix of SNP\n",
    "    \"\"\"\n",
    "    N = SNP.shape[0]\n",
    "    N = N if N%2 == 0 else N - 1\n",
    "    assert dist < N/2\n",
    "    \n",
    "    dist *= 2\n",
    "    M = POS.shape[0]\n",
    "    SMC = np.zeros((2*M,4), dtype=int)\n",
    "    SMC[:,-1] = N*np.ones(2*M, dtype=int) - 2\n",
    "    SMC[:, 0] = np.ones(2*M, dtype=int)\n",
    "    d = SNP[dist, :] + SNP[dist+1, :]\n",
    "    u = np.sum(SNP, axis=0, dtype=int) - d\n",
    "    SMC[1::2, 1:-1] = np.transpose([d, u]) \n",
    "    SMC[0::2, 0:-1] = np.transpose([POS - 1, np.zeros(M, dtype=int), np.zeros(M, dtype=int)])\n",
    "    todelete = np.argwhere(POS <= 1).transpose()*2\n",
    "    return np.delete(SMC, todelete, 0)"
   ]
  },
  {
   "cell_type": "code",
   "execution_count": 95,
   "id": "292bc258-7d7d-4e46-9308-3d1ce447aff5",
   "metadata": {},
   "outputs": [],
   "source": [
    "def deleteZerosSNP(SNP, POS):\n",
    "    ids = POS == 0\n",
    "    return np.delete(SNP, ids, 1), np.delete(POS, ids)\n",
    "\n",
    "def loadfile(scenario, i):\n",
    "    file_name = \"hdgp/scenario_\" + scenario +\"/hdgp_\" + scenario + \"_\" + str(i) + \".npz\"\n",
    "    data = np.load(file_name)\n",
    "    return data"
   ]
  },
  {
   "cell_type": "code",
   "execution_count": 96,
   "id": "584e4d93-8be0-426e-8692-ba739baede58",
   "metadata": {},
   "outputs": [],
   "source": [
    "def header_smc(pid, dist, n_ind):\n",
    "    \"\"\"\n",
    "    pid: id de la population considérée\n",
    "    dist: individu distingué\n",
    "    n_ind: nombre d'individus\n",
    "    \"\"\"\n",
    "    header = 'SMC++ {\"version\": \"1.15.4.dev18+gca077da\", \"pids\": [\"'+ pid +'\"], \"undist\": [['\n",
    "    for i in range(n_ind):\n",
    "        if(i != dist):\n",
    "            indid = pid + str(i)\n",
    "            header += '[\"' + indid + '\", 0], [\"' + indid + '\", 1], '\n",
    "    indid = pid + str(dist)\n",
    "    header = header[:-2] + ']], \"dist\": [[[\"' + indid +'\", 0], [\"' + indid + '\", 1]]]}'\n",
    "    return header"
   ]
  },
  {
   "cell_type": "code",
   "execution_count": 97,
   "id": "add46594-ae50-45f1-b0a0-269e94a43e32",
   "metadata": {},
   "outputs": [
    {
     "name": "stdout",
     "output_type": "stream",
     "text": [
      "[[2 0 0 4]\n",
      " [1 0 2 4]\n",
      " [4 0 0 4]\n",
      " [1 0 1 4]\n",
      " [1 1 0 4]\n",
      " [9 0 0 4]\n",
      " [1 2 1 4]]\n",
      "[[2 0 0 4]\n",
      " [1 2 0 4]\n",
      " [4 0 0 4]\n",
      " [1 0 1 4]\n",
      " [1 0 1 4]\n",
      " [9 0 0 4]\n",
      " [1 0 3 4]]\n",
      "[[2 0 0 4]\n",
      " [1 0 2 4]\n",
      " [4 0 0 4]\n",
      " [1 1 0 4]\n",
      " [1 0 1 4]\n",
      " [9 0 0 4]\n",
      " [1 1 2 4]]\n"
     ]
    }
   ],
   "source": [
    "## test sur un exemple simple\n",
    "def test():\n",
    "    snp = np.array([\n",
    "    [0, 0, 1, 1],\n",
    "    [0, 0, 0, 1],\n",
    "    [1, 0, 0, 0],\n",
    "    [1, 0, 0, 0],\n",
    "    [0, 1, 0, 0],\n",
    "    [0, 0, 0, 1],\n",
    "    ])\n",
    "    pos = np.array([3, 5, 1, 10])\n",
    "    print(SNPtoSMC(0, snp, pos))\n",
    "    print(SNPtoSMC(1, snp, pos))\n",
    "    print(SNPtoSMC(2, snp, pos))\n",
    "test()"
   ]
  },
  {
   "cell_type": "code",
   "execution_count": 98,
   "id": "6a5793a5-ad3b-480c-afc1-297eaa5d6f0a",
   "metadata": {},
   "outputs": [
    {
     "name": "stdout",
     "output_type": "stream",
     "text": [
      "[[13774     0     0    10]\n",
      " [    1     1     0    10]\n",
      " [29507     0     0    10]\n",
      " [    1     0     1    10]\n",
      " [50438     0     0    10]\n",
      " [    1     1     8    10]\n",
      " [ 6364     0     0    10]\n",
      " [    1     1     0    10]\n",
      " [29786     0     0    10]\n",
      " [    1     1     7    10]]\n",
      "\n",
      "SNPtoSMC exec time 0.00066s\n"
     ]
    }
   ],
   "source": [
    "## mesure du temps prise par la fonction SNPtoSMC\n",
    "data = loadfile(scenario=\"11687\", i=\"3\")\n",
    "n = 1000\n",
    "SNP, POS = deleteZerosSNP(data['SNP'], data['POS'])\n",
    "SMC = SNPtoSMC(0, data['SNP'], data['POS'])\n",
    "print(SMC[:10])\n",
    "time = timeit(\"SNPtoSMC(0, data['SNP'], data['POS'])\", globals=globals(), number=n)/n\n",
    "print(f\"\\nSNPtoSMC exec time {time:.5f}s\")\n",
    "\n",
    "assert SMC[:, 0].any() > 0"
   ]
  },
  {
   "cell_type": "code",
   "execution_count": 99,
   "id": "ca565e48-aa5f-4f34-914f-dc2bd38a461f",
   "metadata": {},
   "outputs": [],
   "source": [
    "def boucle():\n",
    "    for d in os.listdir(\"hdgp\"):\n",
    "        for f in os.listdir(\"hdgp/\" + d):\n",
    "            data = np.load(\"hdgp/\" + d + \"/\" + f)\n",
    "            SNP, POS = deleteZerosSNP(data['SNP'], data['POS'])\n",
    "            N = data['SNP'].shape[0]\n",
    "            N = N if N%2 == 0 else N - 1\n",
    "            for dist in range(0, int(N/2)):\n",
    "                SMC = SNPtoSMC(dist, SNP, POS)\n",
    "                filename = \"out/\" + d + \"/\" + f + str(dist) + \".smc\"\n",
    "                header = header_smc(\"hdgp\", dist, N)\n",
    "                np.savetxt(filename , SMC, delimiter=' ', fmt = \"%d\", header=header)\n",
    "                \n",
    "def one_scenario(d=\"11687\"):\n",
    "    d = f\"scenario_{d}\"\n",
    "    for f in os.listdir(\"hdgp/\" + d):\n",
    "        data = np.load(\"hdgp/\" + d + \"/\" + f)\n",
    "        SNP, POS = deleteZerosSNP(data['SNP'], data['POS'])\n",
    "        N = data['SNP'].shape[0]\n",
    "        N = N if N%2 == 0 else N - 1\n",
    "        for dist in range(0, int(N/2)):\n",
    "            SMC = SNPtoSMC(dist, SNP, POS)\n",
    "            filename = \"out/\" + d + \"/\" + f + str(dist) + \".smc\"\n",
    "            header = header_smc(\"hdgp\", dist, N)\n",
    "            np.savetxt(filename , SMC, delimiter=' ', fmt = \"%d\", header=header)"
   ]
  },
  {
   "cell_type": "code",
   "execution_count": 100,
   "id": "96a2762d-0e91-4102-9f5c-7a379b40eabb",
   "metadata": {},
   "outputs": [
    {
     "name": "stdout",
     "output_type": "stream",
     "text": [
      "1.12s pour convertir tous les fichiers du scénario\n",
      "1.12s pour convertir tous les fichiers du scénario\n"
     ]
    }
   ],
   "source": [
    "n = 3\n",
    "time = timeit(\"one_scenario()\", globals=globals(), number=n)/n\n",
    "print(f\"{time:.2f}s pour convertir tous les fichiers du scénario\")\n",
    "\n",
    "n = 3\n",
    "time = timeit(\"one_scenario(d='16844')\", globals=globals(), number=n)/n\n",
    "print(f\"{time:.2f}s pour convertir tous les fichiers du scénario\")"
   ]
  },
  {
   "cell_type": "code",
   "execution_count": 92,
   "id": "a9a47c3b-0d5b-46b5-a59f-3dee3de9c0b9",
   "metadata": {},
   "outputs": [
    {
     "ename": "KeyboardInterrupt",
     "evalue": "",
     "output_type": "error",
     "traceback": [
      "\u001b[0;31m---------------------------------------------------------------------------\u001b[0m",
      "\u001b[0;31mKeyboardInterrupt\u001b[0m                         Traceback (most recent call last)",
      "\u001b[0;32m<ipython-input-92-c1aabd33829f>\u001b[0m in \u001b[0;36m<module>\u001b[0;34m\u001b[0m\n\u001b[0;32m----> 1\u001b[0;31m \u001b[0msubprocess\u001b[0m\u001b[0;34m.\u001b[0m\u001b[0mcheck_output\u001b[0m\u001b[0;34m(\u001b[0m\u001b[0;34m\"smc++ estimate .5e-9 --knots 22 --timepoints 0 34483 out/scenario_11687/*.smc\"\u001b[0m\u001b[0;34m,\u001b[0m \u001b[0mshell\u001b[0m\u001b[0;34m=\u001b[0m\u001b[0;32mTrue\u001b[0m\u001b[0;34m)\u001b[0m\u001b[0;34m\u001b[0m\u001b[0;34m\u001b[0m\u001b[0m\n\u001b[0m",
      "\u001b[0;32m/usr/lib/python3.9/subprocess.py\u001b[0m in \u001b[0;36mcheck_output\u001b[0;34m(timeout, *popenargs, **kwargs)\u001b[0m\n\u001b[1;32m    422\u001b[0m         \u001b[0mkwargs\u001b[0m\u001b[0;34m[\u001b[0m\u001b[0;34m'input'\u001b[0m\u001b[0;34m]\u001b[0m \u001b[0;34m=\u001b[0m \u001b[0mempty\u001b[0m\u001b[0;34m\u001b[0m\u001b[0;34m\u001b[0m\u001b[0m\n\u001b[1;32m    423\u001b[0m \u001b[0;34m\u001b[0m\u001b[0m\n\u001b[0;32m--> 424\u001b[0;31m     return run(*popenargs, stdout=PIPE, timeout=timeout, check=True,\n\u001b[0m\u001b[1;32m    425\u001b[0m                **kwargs).stdout\n\u001b[1;32m    426\u001b[0m \u001b[0;34m\u001b[0m\u001b[0m\n",
      "\u001b[0;32m/usr/lib/python3.9/subprocess.py\u001b[0m in \u001b[0;36mrun\u001b[0;34m(input, capture_output, timeout, check, *popenargs, **kwargs)\u001b[0m\n\u001b[1;32m    505\u001b[0m     \u001b[0;32mwith\u001b[0m \u001b[0mPopen\u001b[0m\u001b[0;34m(\u001b[0m\u001b[0;34m*\u001b[0m\u001b[0mpopenargs\u001b[0m\u001b[0;34m,\u001b[0m \u001b[0;34m**\u001b[0m\u001b[0mkwargs\u001b[0m\u001b[0;34m)\u001b[0m \u001b[0;32mas\u001b[0m \u001b[0mprocess\u001b[0m\u001b[0;34m:\u001b[0m\u001b[0;34m\u001b[0m\u001b[0;34m\u001b[0m\u001b[0m\n\u001b[1;32m    506\u001b[0m         \u001b[0;32mtry\u001b[0m\u001b[0;34m:\u001b[0m\u001b[0;34m\u001b[0m\u001b[0;34m\u001b[0m\u001b[0m\n\u001b[0;32m--> 507\u001b[0;31m             \u001b[0mstdout\u001b[0m\u001b[0;34m,\u001b[0m \u001b[0mstderr\u001b[0m \u001b[0;34m=\u001b[0m \u001b[0mprocess\u001b[0m\u001b[0;34m.\u001b[0m\u001b[0mcommunicate\u001b[0m\u001b[0;34m(\u001b[0m\u001b[0minput\u001b[0m\u001b[0;34m,\u001b[0m \u001b[0mtimeout\u001b[0m\u001b[0;34m=\u001b[0m\u001b[0mtimeout\u001b[0m\u001b[0;34m)\u001b[0m\u001b[0;34m\u001b[0m\u001b[0;34m\u001b[0m\u001b[0m\n\u001b[0m\u001b[1;32m    508\u001b[0m         \u001b[0;32mexcept\u001b[0m \u001b[0mTimeoutExpired\u001b[0m \u001b[0;32mas\u001b[0m \u001b[0mexc\u001b[0m\u001b[0;34m:\u001b[0m\u001b[0;34m\u001b[0m\u001b[0;34m\u001b[0m\u001b[0m\n\u001b[1;32m    509\u001b[0m             \u001b[0mprocess\u001b[0m\u001b[0;34m.\u001b[0m\u001b[0mkill\u001b[0m\u001b[0;34m(\u001b[0m\u001b[0;34m)\u001b[0m\u001b[0;34m\u001b[0m\u001b[0;34m\u001b[0m\u001b[0m\n",
      "\u001b[0;32m/usr/lib/python3.9/subprocess.py\u001b[0m in \u001b[0;36mcommunicate\u001b[0;34m(self, input, timeout)\u001b[0m\n\u001b[1;32m   1119\u001b[0m                 \u001b[0mself\u001b[0m\u001b[0;34m.\u001b[0m\u001b[0m_stdin_write\u001b[0m\u001b[0;34m(\u001b[0m\u001b[0minput\u001b[0m\u001b[0;34m)\u001b[0m\u001b[0;34m\u001b[0m\u001b[0;34m\u001b[0m\u001b[0m\n\u001b[1;32m   1120\u001b[0m             \u001b[0;32melif\u001b[0m \u001b[0mself\u001b[0m\u001b[0;34m.\u001b[0m\u001b[0mstdout\u001b[0m\u001b[0;34m:\u001b[0m\u001b[0;34m\u001b[0m\u001b[0;34m\u001b[0m\u001b[0m\n\u001b[0;32m-> 1121\u001b[0;31m                 \u001b[0mstdout\u001b[0m \u001b[0;34m=\u001b[0m \u001b[0mself\u001b[0m\u001b[0;34m.\u001b[0m\u001b[0mstdout\u001b[0m\u001b[0;34m.\u001b[0m\u001b[0mread\u001b[0m\u001b[0;34m(\u001b[0m\u001b[0;34m)\u001b[0m\u001b[0;34m\u001b[0m\u001b[0;34m\u001b[0m\u001b[0m\n\u001b[0m\u001b[1;32m   1122\u001b[0m                 \u001b[0mself\u001b[0m\u001b[0;34m.\u001b[0m\u001b[0mstdout\u001b[0m\u001b[0;34m.\u001b[0m\u001b[0mclose\u001b[0m\u001b[0;34m(\u001b[0m\u001b[0;34m)\u001b[0m\u001b[0;34m\u001b[0m\u001b[0;34m\u001b[0m\u001b[0m\n\u001b[1;32m   1123\u001b[0m             \u001b[0;32melif\u001b[0m \u001b[0mself\u001b[0m\u001b[0;34m.\u001b[0m\u001b[0mstderr\u001b[0m\u001b[0;34m:\u001b[0m\u001b[0;34m\u001b[0m\u001b[0;34m\u001b[0m\u001b[0m\n",
      "\u001b[0;31mKeyboardInterrupt\u001b[0m: "
     ]
    }
   ],
   "source": [
    "subprocess.check_output(\"smc++ estimate .5e-9 --knots 22 --timepoints 0 34483 out/scenario_11687/*.smc\", shell=True)"
   ]
  },
  {
   "cell_type": "code",
   "execution_count": 101,
   "id": "26c79336-232d-4e36-88f7-3683c0a5e9b5",
   "metadata": {},
   "outputs": [
    {
     "data": {
      "text/plain": [
       "b'RUNNING THE L-BFGS-B CODE\\n\\n           * * *\\n\\nMachine precision = 2.220D-16\\n N =           11     M =           10\\n\\nAt X0         0 variables are exactly at the bounds\\n\\nAt iterate    0    f=  1.16985D+09    |proj g|=  3.00000D+00\\n\\nAt iterate    1    f=  1.16981D+09    |proj g|=  3.66800D+00\\n\\nAt iterate    2    f=  1.16980D+09    |proj g|=  3.83224D+00\\n\\nAt iterate    3    f=  1.16980D+09    |proj g|=  3.87279D+00\\n\\nAt iterate    4    f=  1.16980D+09    |proj g|=  3.89727D+00\\n\\nAt iterate    5    f=  1.16980D+09    |proj g|=  4.23485D+00\\n\\nAt iterate    6    f=  1.16980D+09    |proj g|=  4.30274D+00\\n\\nAt iterate    7    f=  1.16980D+09    |proj g|=  4.42938D+00\\n\\nAt iterate    8    f=  1.16980D+09    |proj g|=  4.49623D+00\\n\\nAt iterate    9    f=  1.16980D+09    |proj g|=  4.50274D+00\\n\\nAt iterate   10    f=  1.16980D+09    |proj g|=  4.52009D+00\\n\\nAt iterate   11    f=  1.16980D+09    |proj g|=  4.47547D+00\\n\\nAt iterate   12    f=  1.16980D+09    |proj g|=  4.54752D+00\\n\\nAt iterate   13    f=  1.16980D+09    |proj g|=  4.53875D+00\\n\\nAt iterate   14    f=  1.16980D+09    |proj g|=  4.56619D+00\\n\\nAt iterate   15    f=  1.16980D+09    |proj g|=  4.58836D+00\\n\\nAt iterate   16    f=  1.16980D+09    |proj g|=  4.64016D+00\\n\\nAt iterate   17    f=  1.16980D+09    |proj g|=  4.65987D+00\\n\\nAt iterate   18    f=  1.16980D+09    |proj g|=  4.61316D+00\\n\\nAt iterate   19    f=  1.16980D+09    |proj g|=  4.68202D+00\\n\\nAt iterate   20    f=  1.16980D+09    |proj g|=  4.67093D+00\\n\\n           * * *\\n\\nTit   = total number of iterations\\nTnf   = total number of function evaluations\\nTnint = total number of segments explored during Cauchy searches\\nSkip  = number of BFGS updates skipped\\nNact  = number of active bounds at final generalized Cauchy point\\nProjg = norm of the final projected gradient\\nF     = final function value\\n\\n           * * *\\n\\n   N    Tit     Tnf  Tnint  Skip  Nact     Projg        F\\n   11     20     23     30     0     0   4.671D+00   1.170D+09\\n  F =   1169799292.8858848     \\n\\nCONVERGENCE: REL_REDUCTION_OF_F_<=_FACTR*EPSMCH             \\n'"
      ]
     },
     "execution_count": 101,
     "metadata": {},
     "output_type": "execute_result"
    }
   ],
   "source": [
    "subprocess.check_output(\"smc++ estimate .5e-9 --knots 22 --timepoints 0 34483 out/scenario_16844/*.smc\", shell=True)"
   ]
  },
  {
   "cell_type": "code",
   "execution_count": null,
   "id": "eb1d79bf-033a-4064-87a2-e6ed0ec88525",
   "metadata": {},
   "outputs": [],
   "source": []
  }
 ],
 "metadata": {
  "kernelspec": {
   "display_name": "Python 3",
   "language": "python",
   "name": "python3"
  },
  "language_info": {
   "codemirror_mode": {
    "name": "ipython",
    "version": 3
   },
   "file_extension": ".py",
   "mimetype": "text/x-python",
   "name": "python",
   "nbconvert_exporter": "python",
   "pygments_lexer": "ipython3",
   "version": "3.9.5"
  }
 },
 "nbformat": 4,
 "nbformat_minor": 5
}
