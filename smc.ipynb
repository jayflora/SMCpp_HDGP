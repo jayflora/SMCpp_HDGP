{
 "cells": [
  {
   "cell_type": "code",
   "execution_count": 86,
   "id": "e819fe92",
   "metadata": {},
   "outputs": [],
   "source": [
    "import numpy as np\n",
    "from timeit import timeit as timeit\n",
    "import os\n",
    "import matplotlib.pyplot as plt\n",
    "import subprocess\n",
    "from joblib import Parallel, delayed\n",
    "import multiprocessing \n",
    "import pandas as pd"
   ]
  },
  {
   "cell_type": "markdown",
   "id": "7686954b",
   "metadata": {},
   "source": [
    "# **I - Formatage des données**"
   ]
  },
  {
   "cell_type": "markdown",
   "id": "ed1faf10",
   "metadata": {},
   "source": [
    "## Conversion du format SNP vers SMC\n",
    "Ici on convertit une matrice SNP en SMC. Dans ces deux fonctions on va juste gérer les colonnes ( données )"
   ]
  },
  {
   "cell_type": "markdown",
   "id": "60556ea4",
   "metadata": {},
   "source": [
    "**15,1 Go sans compression vs 2,31 Go avec compression**"
   ]
  },
  {
   "cell_type": "code",
   "execution_count": 87,
   "id": "3c74cda8",
   "metadata": {},
   "outputs": [],
   "source": [
    "def SNPtoSMC(dist, SNP, POS):\n",
    "    \"\"\"\n",
    "    dist : id de l'individu distingué\n",
    "    SNP : matrice de SNPs\n",
    "    POS : postions de la matrice de SNPs\n",
    "    return : une matrice au format SMC\n",
    "    \"\"\"\n",
    "    N = SNP.shape[0]\n",
    "    M = POS.shape[0]\n",
    "    N = N if N%2 == 0 else N - 1\n",
    "    SNP = SNP[:N]\n",
    "    # on remplace les 0 de la matrice de position par des 1\n",
    "    POS[POS == 0] = 1\n",
    "    assert dist < N/2\n",
    "    \n",
    "    dist *= 2\n",
    "    SMC = np.zeros((2*M,4), dtype=int)\n",
    "    SMC[:,-1] = N*np.ones(2*M, dtype=int) - 2\n",
    "    SMC[:, 0] = np.ones(2*M, dtype=int)\n",
    "    d = SNP[dist, :] + SNP[dist+1, :]\n",
    "    u = np.sum(SNP, axis=0, dtype=int) - d\n",
    "    SMC[1::2, 1:-1] = np.transpose([d, u]) \n",
    "    SMC[0::2, 0:-1] = np.transpose([POS - 1, np.zeros(M, dtype=int), np.zeros(M, dtype=int)])\n",
    "    todelete = np.argwhere(POS <= 1).transpose()*2\n",
    "    # cas extrèmes\n",
    "    for i in todelete[0,:]:\n",
    "        if (SMC[i-1] == SMC[i+1]).all():\n",
    "            SMC[i-1, 0] += SMC[i+1, 0]\n",
    "            todelete = np.append(todelete, [[i+1]])\n",
    "    # il y a un dernier problème :\n",
    "    # si un 1 est remplacé par un 2,il y aura forcément un décalage\n",
    "    return np.delete(SMC, todelete, 0)"
   ]
  },
  {
   "cell_type": "markdown",
   "id": "a5058ec4-b108-4808-bfe7-7ba819186c1f",
   "metadata": {},
   "source": [
    "### **Fonctions de manipulation de fichiers**\n",
    "\n",
    "Ces fonctions permettent le charger et de manipuler différents fichiers"
   ]
  },
  {
   "cell_type": "code",
   "execution_count": 88,
   "id": "7c557bc3-f1e0-4cc3-8634-5c3adf1af294",
   "metadata": {},
   "outputs": [],
   "source": [
    "def loadCSV_plot(file):\n",
    "    smcData = pd.read_csv(file, sep=',')\n",
    "    X = smcData['x'].to_numpy()\n",
    "    Y = smcData['y'].to_numpy()\n",
    "    return X, Y\n",
    "    \n",
    "def loadCSV_subsample(scenario = 11687, dist = 0):\n",
    "    trueData = np.genfromtxt('hdgp_demo_parameters_subsample.csv',delimiter=',', dtype=int)\n",
    "    trueX = trueData[1,6:27]\n",
    "    ids = np.argwhere(trueData[:,0] == scenario)\n",
    "    trueY = trueData[ids,27:].flatten()\n",
    "    \n",
    "    file = f'out/scenario_{scenario}/dist_{dist}/plot.csv'\n",
    "    smcData = pd.read_csv(file)\n",
    "    smcX = smcData['x'].to_numpy()\n",
    "    smcY = smcData['y'].to_numpy()\n",
    "    return trueX, trueY, smcX, smcY\n",
    "\n",
    "def loadfile(scenario, i, path=\"hdgp/scenario_\",form=\".npz\"):\n",
    "    file_name = path + scenario +\"/hdgp_\" + scenario + \"_\" + str(i) + form\n",
    "    print(file_name)\n",
    "    data = np.load(file_name)\n",
    "    return data"
   ]
  },
  {
   "cell_type": "markdown",
   "id": "6f465b80",
   "metadata": {},
   "source": [
    "Le les fichiers SMC ont besoin d'un header qui décrit la version du logiciel, une liste des individus distingués et une liste des individus non distingués.\n",
    "On crée alors une fonction qui prend en paramèmtre l'identifiant de la population considérée, l'individu distingué et le nombre total d'individus.\n",
    "La fonction renvoie le header correspondant."
   ]
  },
  {
   "cell_type": "code",
   "execution_count": 89,
   "id": "b91baab7",
   "metadata": {},
   "outputs": [],
   "source": [
    "def header_smc(pid, dist, n_ind):\n",
    "    \"\"\"\n",
    "    pid: id de la population considérée\n",
    "    dist: individu distingué\n",
    "    n_ind: nombre d'individus\n",
    "    return: le header correspondant pour le format SMC\n",
    "    \"\"\"\n",
    "    header = 'SMC++ {\"version\": \"1.15.4.dev18+gca077da\", \"pids\": [\"'+ pid +'\"], \"undist\": [['\n",
    "    for i in range(n_ind):\n",
    "        if(i != dist):\n",
    "            indid = pid + str(i)\n",
    "            header += '[\"' + indid + '\", 0], [\"' + indid + '\", 1], '\n",
    "    indid = pid + str(dist)\n",
    "    header = header[:-2] + ']], \"dist\": [[[\"' + indid +'\", 0], [\"' + indid + '\", 1]]]}'\n",
    "    return header\n",
    "\n",
    "def generate_string_vcftosmc(pop, N):\n",
    "    \"\"\"\n",
    "    pop: the name of the poppulation\n",
    "    N: the number of individuals (not the number of chromosomes)\n",
    "    return: the string to use in the command vcf2smc\n",
    "    \"\"\"\n",
    "    string = f\"{pop}:\"\n",
    "    for i in range(N):\n",
    "        string += f\"{pop}_{i},\"\n",
    "    return string[:-1]"
   ]
  },
  {
   "cell_type": "code",
   "execution_count": 54,
   "id": "dba6c667",
   "metadata": {},
   "outputs": [],
   "source": [
    "## test sur un exemple simple\n",
    "def test():\n",
    "    snp = np.array([\n",
    "    [0, 0, 1, 1],\n",
    "    [0, 0, 0, 1],\n",
    "    [1, 0, 0, 0],\n",
    "    [1, 0, 0, 0],\n",
    "    [0, 1, 0, 0],\n",
    "    [0, 0, 0, 1],\n",
    "    ])\n",
    "    pos = np.array([3, 5, 1, 9])\n",
    "    print(SNPtoSMC(0, snp, pos))\n",
    "    print(SNPtoSMC(1, snp, pos))\n",
    "    print(SNPtoSMC(2, snp, pos))\n",
    "    print(snp)\n",
    "    print(pos)\n",
    "#test()"
   ]
  },
  {
   "cell_type": "code",
   "execution_count": 55,
   "id": "8459f7ff",
   "metadata": {},
   "outputs": [
    {
     "name": "stdout",
     "output_type": "stream",
     "text": [
      "hdgp/scenario_6/hdgp_6_5.npz\n",
      "[[ 320    0    0   34]\n",
      " [   1    1   17   34]\n",
      " [1091    0    0   34]\n",
      " [   1    0    3   34]\n",
      " [  54    0    0   34]\n",
      " [   1    1   17   34]\n",
      " [ 705    0    0   34]\n",
      " [   1    1    4   34]\n",
      " [ 210    0    0   34]\n",
      " [   1    0    2   34]]\n",
      "\n",
      "SNPtoSMC exec time 0.00186s\n",
      "Nombre de 0 dans la matrice de position : 19\n"
     ]
    }
   ],
   "source": [
    "## mesure du temps prise par la fonction SNPtoSMC\n",
    "n = 1000\n",
    "data = loadfile(scenario=\"6\", i=\"5\")\n",
    "SMC = SNPtoSMC(0, data['SNP'], data['POS'])\n",
    "print(SMC[:10])\n",
    "time = timeit(\"SNPtoSMC(0, data['SNP'], data['POS'])\", globals=globals(), number=n)/n\n",
    "print(f\"\\nSNPtoSMC exec time {time:.5f}s\")\n",
    "\n",
    "print(f\"Nombre de 0 dans la matrice de position : {np.sum(data['POS'] == 0)}\")\n",
    "assert (SMC[:, 0] > 0).any()"
   ]
  },
  {
   "cell_type": "markdown",
   "id": "2d4e2c3e",
   "metadata": {},
   "source": [
    "La première fonction sert à générer tous les fichiers SMC pour toutes données.\n",
    "Alors que la seconde fonction c'est juste pour un scénario en particulier"
   ]
  },
  {
   "cell_type": "code",
   "execution_count": 46,
   "id": "0c06bf39",
   "metadata": {},
   "outputs": [],
   "source": [
    "def one_scenario(d=\"scenario_11687\", save_dir=\"smc_files\"):\n",
    "    if save_dir not in os.listdir():\n",
    "        os.mkdir(save_dir)\n",
    "    for file in os.listdir(\"hdgp/\" + d):\n",
    "        # chargement des données\n",
    "        data = np.load(\"hdgp/\" + d + \"/\" + file)\n",
    "        SNP, POS = data['SNP'], data['POS']\n",
    "        # remplace tous les 0 de la matrice de positions par des 1\n",
    "        POS[POS == 0] = 1 \n",
    "        # on récupère le nombre d'individus (on le suppose pair)\n",
    "        N = data['SNP'].shape[0]\n",
    "        N = N if N%2 == 0 else N - 1\n",
    "        # création du dossier du scénario\n",
    "        scenario_dir = save_dir + \"/\" + d\n",
    "        if d not in os.listdir(save_dir):\n",
    "            os.mkdir(scenario_dir)\n",
    "            \n",
    "        for dist in range(0, int(N/2)):\n",
    "            # pour chaque individu distingué, on crée un dossier qui contient les fichiers smc associés\n",
    "            dist_dir = scenario_dir + \"/\" + \"dist_\" + str(dist)\n",
    "            if \"dist_\" + str(dist) not in os.listdir(scenario_dir):\n",
    "                os.mkdir(dist_dir)\n",
    "            SMC = SNPtoSMC(dist, SNP, POS)\n",
    "            filename = dist_dir + \"/\" + file + str(dist) + \".smc\"\n",
    "            header = header_smc(\"hdgp\", dist, N)\n",
    "            np.savetxt(filename , SMC, delimiter=' ', fmt = \"%d\", header=header)\n",
    "            \n",
    "def one_scenario_compressed (d=\"scenario_11687\", save_dir=\"smc.gz_files\"):\n",
    "    if save_dir not in os.listdir():\n",
    "        os.mkdir(save_dir)\n",
    "    for file in os.listdir(\"hdgp/\" + d):\n",
    "        # chargement des données\n",
    "        data = np.load(\"hdgp/\" + d + \"/\" + file)\n",
    "        SNP, POS = data['SNP'], data['POS']\n",
    "        # remplace tous les 0 de la matrice de positions par des 1\n",
    "        POS[POS == 0] = 1 \n",
    "        # on récupère le nombre d'individus (on le suppose pair)\n",
    "        N = data['SNP'].shape[0]\n",
    "        N = N if N%2 == 0 else N - 1\n",
    "        # création du dossier du scénario\n",
    "        scenario_dir = save_dir + \"/\" + d\n",
    "        if d not in os.listdir(save_dir):\n",
    "            os.mkdir(scenario_dir)\n",
    "            \n",
    "        for dist in range(0, int(N/2)):\n",
    "            # pour chaque individu distingué, on crée un dossier qui contient les fichiers smc associés\n",
    "            dist_dir = scenario_dir + \"/\" + \"dist_\" + str(dist)\n",
    "            if \"dist_\" + str(dist) not in os.listdir(scenario_dir):\n",
    "                os.mkdir(dist_dir)\n",
    "            SMC = SNPtoSMC(dist, SNP, POS)\n",
    "            filename = dist_dir + \"/\" + file + str(dist) + \".smc.gz\"\n",
    "            header = header_smc(\"hdgp\", dist, N)\n",
    "            np.savetxt(filename , SMC, delimiter=' ', fmt = \"%d\", header=header)\n",
    "            \n",
    "def all_scenarios(multi_thread=False, compressed=True):\n",
    "    if(multi_thread):\n",
    "        num_cores = multiprocessing.cpu_count()\n",
    "        if not compressed:\n",
    "            Parallel(n_jobs=num_cores)(delayed(one_scenario)(d) for d in os.listdir(\"hdgp\"))\n",
    "        else: \n",
    "            Parallel(n_jobs=num_cores)(delayed(one_scenario_compressed)(d) for d in os.listdir(\"hdgp\"))\n",
    "    else:\n",
    "        for d in os.listdir(\"hdgp\"):\n",
    "            if not compressed:\n",
    "                one_scenario(d)\n",
    "            else:\n",
    "                one_scenario_compressed(d)"
   ]
  },
  {
   "cell_type": "markdown",
   "id": "64cc2ced",
   "metadata": {},
   "source": [
    "## Transformations de tous les scénarios au format smc compressé"
   ]
  },
  {
   "cell_type": "code",
   "execution_count": 35,
   "id": "575349ed",
   "metadata": {},
   "outputs": [],
   "source": [
    "#n = 1\n",
    "#time = timeit(\"all_scenarios(True)\", globals=globals(), number=n)/n\n",
    "#print(f\"{time:.2f}s pour convertir tous les scénarios\")"
   ]
  },
  {
   "cell_type": "markdown",
   "id": "f4057dae",
   "metadata": {},
   "source": [
    "# **II - Prédictions**"
   ]
  },
  {
   "cell_type": "code",
   "execution_count": 100,
   "id": "75ac9155",
   "metadata": {},
   "outputs": [],
   "source": [
    "def run_smc_estimate(scenario, out_dir=\"out\", smc_dir = \"smc.gz_files\", display=False, dist=-1):\n",
    "    scenario_dir = f\"{smc_dir}/scenario_{scenario}\"\n",
    "    scenario_out_dir = f\"{out_dir}/scenario_{scenario}\"\n",
    "    if out_dir not in os.listdir():\n",
    "        os.mkdir(out_dir)\n",
    "    if f\"scenario_{scenario}\" not in os.listdir(out_dir):\n",
    "        os.mkdir(scenario_out_dir)\n",
    "    if(dist == -1):\n",
    "        for dist in os.listdir(scenario_dir):\n",
    "            scenario_out_dist_dir = f\"{scenario_out_dir}/{dist}\"\n",
    "            if dist not in os.listdir(scenario_out_dir):\n",
    "                os.mkdir(scenario_out_dist_dir)\n",
    "            command_estimate = f'smc++ estimate 1.45e-08 --knots 21 --timepoints 0 34483 -o {scenario_out_dist_dir} {scenario_dir}/{dist}/*.gz'\n",
    "            command_plot = f'smc++ plot -c {scenario_out_dist_dir}/plot.png {scenario_out_dist_dir}/model.final.json' \n",
    "            print(f\"running : {command_estimate}\")\n",
    "            # estimate\n",
    "            process = subprocess.Popen(command_estimate, shell=True,  stdout=subprocess.PIPE, stderr=subprocess.PIPE, universal_newlines=True)\n",
    "            stdout, stderr = process.communicate()\n",
    "            if(display):\n",
    "                print(stdout, stderr)\n",
    "            # plot the result\n",
    "            process = subprocess.Popen(command_plot, shell=True, stdout=subprocess.PIPE, stderr=subprocess.PIPE)\n",
    "            stdout, stderr = process.communicate()\n",
    "    else:\n",
    "        dist = f\"dist_{dist}\"\n",
    "        scenario_out_dist_dir = f\"{scenario_out_dir}/{dist}\"\n",
    "        if dist not in os.listdir(scenario_out_dir):\n",
    "            os.mkdir(scenario_out_dist_dir)\n",
    "        command_estimate = f'smc++ estimate 1.45e-08 --knots 21 --timepoints 0 34483 -o {scenario_out_dist_dir} {scenario_dir}/{dist}/*.gz'\n",
    "        command_plot = f'smc++ plot -c {scenario_out_dist_dir}/plot.png {scenario_out_dist_dir}/model.final.json' \n",
    "        print(f\"running : {command_estimate}\")\n",
    "        # estimate\n",
    "        process = subprocess.Popen(command_estimate, shell=True,  stdout=subprocess.PIPE, stderr=subprocess.PIPE, universal_newlines=True)\n",
    "        stdout, stderr = process.communicate()\n",
    "        if(display):\n",
    "            print(stdout, stderr)\n",
    "        # plot the result\n",
    "        process = subprocess.Popen(command_plot, shell=True, stdout=subprocess.PIPE, stderr=subprocess.PIPE)\n",
    "        stdout, stderr = process.communicate()"
   ]
  },
  {
   "cell_type": "code",
   "execution_count": 41,
   "id": "c8b392f4",
   "metadata": {},
   "outputs": [],
   "source": [
    "def run_smc_plot(scenario, out_dir=\"out\", scenario_dir = f\"smc_files/{scenario}\", display=False):\n",
    "    scenario_out_dir = f\"{out_dir}/{scenario}\"\n",
    "    assert out_dir in os.listdir()\n",
    "    assert scenario in os.listdir(out_dir)\n",
    "    for dist in os.listdir(scenario_dir):\n",
    "        scenario_out_dist_dir = f\"{scenario_out_dir}/{dist}\"\n",
    "        assert dist in os.listdir(scenario_out_dir)\n",
    "        command_plot = f'smc++ plot -c {scenario_out_dist_dir}/plot.png {scenario_out_dist_dir}/model.final.json' \n",
    "        print(f\"running : {command_plot}\")\n",
    "        # plot the result\n",
    "        process = subprocess.Popen(command_plot, shell=True, stdout=subprocess.PIPE, stderr=subprocess.PIPE)\n",
    "        stdout, stderr = process.communicate()"
   ]
  },
  {
   "cell_type": "code",
   "execution_count": 10,
   "id": "86b52414",
   "metadata": {},
   "outputs": [
    {
     "name": "stdout",
     "output_type": "stream",
     "text": [
      "running : smc++ plot -c out/scenario_11687/dist_5/plot.png out/scenario_11687/dist_5/model.final.json\n",
      "running : smc++ plot -c out/scenario_11687/dist_3/plot.png out/scenario_11687/dist_3/model.final.json\n",
      "running : smc++ plot -c out/scenario_11687/dist_0/plot.png out/scenario_11687/dist_0/model.final.json\n",
      "running : smc++ plot -c out/scenario_11687/dist_4/plot.png out/scenario_11687/dist_4/model.final.json\n",
      "running : smc++ plot -c out/scenario_11687/dist_1/plot.png out/scenario_11687/dist_1/model.final.json\n",
      "running : smc++ plot -c out/scenario_11687/dist_2/plot.png out/scenario_11687/dist_2/model.final.json\n"
     ]
    }
   ],
   "source": [
    "run_smc_plot(\"11687\")"
   ]
  },
  {
   "cell_type": "code",
   "execution_count": 81,
   "id": "35023a66",
   "metadata": {},
   "outputs": [],
   "source": [
    "def plotDist(scenario, populationStyle=True):\n",
    "    fig, ax = plt.subplots(1, 1, figsize=(13,6))\n",
    "    n_ind = len(os.listdir(f'out/scenario_{scenario}'))\n",
    "    for dist in range(n_ind):\n",
    "        file = f'out/scenario_{scenario}/dist_{dist}/plot.csv'\n",
    "        csv = pd.read_csv(file)\n",
    "        if populationStyle:\n",
    "            X, Y = toPlotPopulation(csv['x'].to_numpy(), csv['y'].to_numpy())\n",
    "        else:\n",
    "            X, Y = csv['x'].to_numpy(), csv['y'].to_numpy()\n",
    "        ax.plot(X, Y, label=f'dist_{dist}')\n",
    "    \n",
    "    ax.set_xlim(0,10e3+1000)\n",
    "    ax.set_yscale('log')\n",
    "    ax.legend()\n",
    "    ax.plot()"
   ]
  },
  {
   "cell_type": "code",
   "execution_count": 82,
   "id": "5a7c950c",
   "metadata": {},
   "outputs": [
    {
     "data": {
      "image/png": "[encoded data removed]",
      "text/plain": [
       "<Figure size 936x432 with 1 Axes>"
      ]
     },
     "metadata": {
      "needs_background": "light"
     },
     "output_type": "display_data"
    },
    {
     "data": {
      "image/png": "[encoded data removed]",
      "text/plain": [
       "<Figure size 936x432 with 1 Axes>"
      ]
     },
     "metadata": {
      "needs_background": "light"
     },
     "output_type": "display_data"
    }
   ],
   "source": [
    "plotDist(11687)\n",
    "plotDist(11687, False)"
   ]
  },
  {
   "cell_type": "markdown",
   "id": "350d35a1-eb78-4733-b93f-d2b08e4606f2",
   "metadata": {},
   "source": [
    "# **Partie Adygei**\n",
    "\n",
    "Dans cette partie, on va comparer le temps d'exécution et les résultats sur l'estimation smc, entre les fichiers de SNP et le fichier VCF.\n",
    "Les fichiers SNPs et les VCFs représentent les mêmes données, sous deux formats différents.\n",
    "\n",
    "On se concentre sur le chromosome21, avec 16 individus comme sample.\n",
    "\n",
    "Voici les fichiers SNPs associées\n",
    "```\n",
    "npz_data_pop_ancestral_derived $ ls -l | grep chr21\n",
    "-rw-r--r-- 1 jerome jerome  5665 Dec  1  2020 Adygei_chr21_1.npz\n",
    "-rw-r--r-- 1 jerome jerome  6266 Dec  1  2020 Adygei_chr21_10.npz\n",
    "-rw-r--r-- 1 jerome jerome  6071 Dec  1  2020 Adygei_chr21_11.npz\n",
    "-rw-r--r-- 1 jerome jerome  3672 Dec  1  2020 Adygei_chr21_12.npz\n",
    "-rw-r--r-- 1 jerome jerome  5833 Dec  1  2020 Adygei_chr21_13.npz\n",
    "-rw-r--r-- 1 jerome jerome  4055 Dec  1  2020 Adygei_chr21_14.npz\n",
    "-rw-r--r-- 1 jerome jerome  5206 Dec  1  2020 Adygei_chr21_15.npz\n",
    "-rw-r--r-- 1 jerome jerome  7222 Dec  1  2020 Adygei_chr21_16.npz\n",
    "-rw-r--r-- 1 jerome jerome  5802 Dec  1  2020 Adygei_chr21_2.npz\n",
    "-rw-r--r-- 1 jerome jerome  6950 Dec  1  2020 Adygei_chr21_3.npz\n",
    "-rw-r--r-- 1 jerome jerome  6251 Dec  1  2020 Adygei_chr21_4.npz\n",
    "-rw-r--r-- 1 jerome jerome  6116 Dec  1  2020 Adygei_chr21_5.npz\n",
    "-rw-r--r-- 1 jerome jerome  5602 Dec  1  2020 Adygei_chr21_6.npz\n",
    "-rw-r--r-- 1 jerome jerome  5624 Dec  1  2020 Adygei_chr21_7.npz\n",
    "-rw-r--r-- 1 jerome jerome  6579 Dec  1  2020 Adygei_chr21_8.npz\n",
    "-rw-r--r-- 1 jerome jerome  6916 Dec  1  2020 Adygei_chr21_9.npz\n",
    "\n",
    "```\n",
    "\n",
    "Voici les 16 individus du fichier VCF\n",
    "```\n",
    "HGDP01396\tHGDP01382\tHGDP01403\tHGDP01404\tHGDP01402\tHGDP01383\tHGDP01401\tHGDP01400\tHGDP01384\tHGDP01398\tHGDP01397\tHGDP01388\tHGDP01387\tHGDP01386\tHGDP01385\tHGDP01399\n",
    "```"
   ]
  },
  {
   "cell_type": "markdown",
   "id": "9b459b0d-331a-485a-a2be-6c2ed818911a",
   "metadata": {},
   "source": [
    "**On commence par transformer le fichier vcf dans le format accepté par SMC :\n",
    "Pour cela, il faut indexer le vcf et le fichier mask avec tabix**"
   ]
  },
  {
   "cell_type": "code",
   "execution_count": 81,
   "id": "61604c6c-a28c-4a7c-ae2e-094d5faca30a",
   "metadata": {},
   "outputs": [
    {
     "name": "stdout",
     "output_type": "stream",
     "text": [
      "executing: smc++ vcf2smc Adygei/Adygei_hgdp_wgs.20190516.full.chr21.vcf.gz Adygei/out.smc -m Adygei/hgdp_wgs.20190516.mask.bed.gz chr21 HGPD:HGDP01396,HGDP01382,HGDP01403,HGDP01404,HGDP01402,HGDP01383,HGDP01401,HGDP01400,HGDP01384,HGDP01398,HGDP01397,HGDP01388,HGDP01387,HGDP01386,HGDP01385,HGDP01399\n"
     ]
    }
   ],
   "source": [
    "adygei_folder = \"Adygei\"\n",
    "vcf_file = \"Adygei_hgdp_wgs.20190516.full.chr21.vcf\"\n",
    "mask_file = \"hgdp_wgs.20190516.mask.bed\"\n",
    "for file in [vcf_file, mask_file]:\n",
    "    bgzip = f\"bgzip {adygei_folder}/{file}\"\n",
    "    tabix = f\"tabix {adygei_folder}/{file}.gz\"\n",
    "    process = subprocess.Popen(bgzip, shell=True,  stdout=subprocess.PIPE, stderr=subprocess.PIPE, universal_newlines=True)\n",
    "    stdout, stderr = process.communicate()\n",
    "    #print(stdout, stderr)\n",
    "    process = subprocess.Popen(tabix, shell=True,  stdout=subprocess.PIPE, stderr=subprocess.PIPE, universal_newlines=True)\n",
    "    stdout, stderr = process.communicate()\n",
    "    #print(stdout, stderr)\n",
    "vcf2smc = f\"smc++ vcf2smc {adygei_folder}/{vcf_file}.gz {adygei_folder}/out.smc -m {adygei_folder}/hgdp_wgs.20190516.mask.bed.gz chr21 HGPD:HGDP01396,HGDP01382,HGDP01403,HGDP01404,HGDP01402,HGDP01383,HGDP01401,HGDP01400,HGDP01384,HGDP01398,HGDP01397,HGDP01388,HGDP01387,HGDP01386,HGDP01385,HGDP01399\"\n",
    "process = subprocess.Popen(vcf2smc, shell=True,  stdout=subprocess.PIPE, stderr=subprocess.PIPE, universal_newlines=True)\n",
    "print(f\"executing: {vcf2smc}\")\n",
    "stdout, stderr = process.communicate()\n",
    "#print(stdout, stderr)"
   ]
  },
  {
   "cell_type": "markdown",
   "id": "69046a73-b446-484a-bbdc-027a48faa603",
   "metadata": {},
   "source": [
    "**Puis on fait une estimation:**"
   ]
  },
  {
   "cell_type": "code",
   "execution_count": null,
   "id": "fbcb3ca5-c317-4ece-b51d-049289ac08b0",
   "metadata": {},
   "outputs": [],
   "source": [
    "estimate = f\"smc++ estimate 1e-8 {adygei_folder}/out.smc -o {adygei_folder} --timepoints 0 10000\"\n",
    "process = subprocess.Popen(estimate, shell=True,  stdout=subprocess.PIPE, stderr=subprocess.PIPE, universal_newlines=True)\n",
    "stdout, stderr = process.communicate()\n",
    "print(stdout, stderr)"
   ]
  },
  {
   "cell_type": "markdown",
   "id": "41647614-05a3-4f41-a6cc-b164eb9ead01",
   "metadata": {},
   "source": [
    "**On fait la même chose mais avec notre fonction adygei_folder**"
   ]
  },
  {
   "cell_type": "code",
   "execution_count": null,
   "id": "4ea5a05d-3593-46a8-8008-33b611a281a8",
   "metadata": {},
   "outputs": [],
   "source": [
    "if \"snptosmc\" not in os.listdir(adygei_folder):\n",
    "    os.mkdir(f\"{adygei_folder}/snptosmc\")\n",
    "for i in range(1, 17):\n",
    "    data = np.load(f\"{adygei_folder}/snps/Adygei_chr21_{i}.npz\")\n",
    "    SNP = data[\"SNP\"]\n",
    "    POS = data[\"POS\"]\n",
    "    SMC = SNPtoSMC(1, SNP, POS)\n",
    "    header = header_smc(\"adygei\", 1, SNP.shape[0])\n",
    "    np.savetxt(f\"{adygei_folder}/snptosmc/chr21_{i}.smc\" , SMC, delimiter=' ', fmt = \"%d\", header=header)"
   ]
  },
  {
   "cell_type": "markdown",
   "id": "3a65087a-b7ae-4eb3-a00b-a45358131f25",
   "metadata": {},
   "source": [
    "**On fait l'estimation**"
   ]
  },
  {
   "cell_type": "code",
   "execution_count": 122,
   "id": "e8ccaa1f-e664-4c3b-814d-3c86b1ca0745",
   "metadata": {},
   "outputs": [],
   "source": [
    "estimate = f\"smc++ estimate 1e-8 {adygei_folder}/snptosmc/*.smc -o {adygei_folder}/snptosmc --timepoints 0 10000\"\n",
    "process = subprocess.Popen(estimate, shell=True,  stdout=subprocess.PIPE, stderr=subprocess.PIPE, universal_newlines=True)\n",
    "stdout, stderr = process.communicate()\n",
    "print(stdout, stderr)"
   ]
  },
  {
   "cell_type": "markdown",
   "id": "0d00abff-2910-4455-b141-9414ebd9afb8",
   "metadata": {},
   "source": [
    "**On affiche ces deux estimations**"
   ]
  },
  {
   "cell_type": "code",
   "execution_count": null,
   "id": "c62157bc-7429-4a75-93ff-02dd1798f4f5",
   "metadata": {},
   "outputs": [],
   "source": [
    "plot = f\"smc++ plot -c {adygei_folder}/plot.png {adygei_folder}/model.final.json\"\n",
    "process = subprocess.Popen(plot, shell=True,  stdout=subprocess.PIPE, stderr=subprocess.PIPE, universal_newlines=True)\n",
    "stdout, stderr = process.communicate()\n",
    "print(stdout, stderr)\n",
    "plot = f\"smc++ plot -c {adygei_folder}/snptosmc/plot.png {adygei_folder}/snptosmc/model.final.json\"\n",
    "process = subprocess.Popen(plot, shell=True,  stdout=subprocess.PIPE, stderr=subprocess.PIPE, universal_newlines=True)\n",
    "stdout, stderr = process.communicate()\n",
    "print(stdout, stderr)\n",
    "figsnp = plt.imread(f\"{adygei_folder}/snptosmc/plot.png\")\n",
    "figvcf = plt.imread(f\"{adygei_folder}/plot.png\")\n",
    "plt.title(f\"snp\")\n",
    "plt.imshow(figsnp)\n",
    "plt.show()\n",
    "plt.title(f\"vcf\")\n",
    "plt.imshow(figvcf)\n",
    "plt.show()\n",
    "\n",
    "print(f\"temps pour snp :{timesnp/60:.1f}min,\\npour csv {timecsv/60:.1f}min\")\n",
    "\n",
    "X_smc, Y_smc = loadCSV_plot(f\"{adygei_folder}/snptosmc/plot.csv\")\n",
    "X_csv, Y_csv = loadCSV_plot(f\"{adygei_folder}/plot.csv\")\n",
    "assert X_smc[0] == X_csv[0]\n",
    "assert X_smc[-1] == X_csv[-1]\n",
    "plotError(X_csv, Y_csv, X_smc, Y_smc)"
   ]
  },
  {
   "cell_type": "markdown",
   "id": "cacc0033-908e-4374-ab45-062d6281ece3",
   "metadata": {},
   "source": [
    "On ne comprend pas pourquoi sur l'estimation à partir du csv, on n'a pas le bon intervalle.\n",
    "Comme les résultats sont différents, on ne peut pas conclure sur le temps de calcul."
   ]
  },
  {
   "cell_type": "code",
   "execution_count": null,
   "id": "219a0d79-2c13-4102-8dd6-02e502d4b07b",
   "metadata": {},
   "outputs": [],
   "source": [
    "print(X_smc[-1], X_csv[-1])"
   ]
  },
  {
   "cell_type": "markdown",
   "id": "40133947-133d-47b8-930f-41dbed2b43ed",
   "metadata": {},
   "source": [
    "# **MSE**\n",
    "\n",
    "* On s'interesse à calculer la MSE entre deux courbres sur les mêmes intervalles, mais avec des découpages différents.\n",
    "* On prend donc un découpage de référence (ici le premier donné à la fonction MSE)\n",
    "* On fait alors la moyenne pondéré de la taille de l'intervalle pour calculer l'erreur entre les deux courbes."
   ]
  },
  {
   "cell_type": "code",
   "execution_count": 90,
   "id": "67b1dfc9-5d71-43b9-991b-a680ed3dc5e0",
   "metadata": {},
   "outputs": [],
   "source": [
    "def toPlotPopulation(X, Y):\n",
    "    \"\"\"\n",
    "    Cette fonction permet la création de \n",
    "    tableaux numpy pour faire un affichage\n",
    "    de populations sur des intervalles\n",
    "    \"\"\"\n",
    "    X2 = np.zeros(2*X.size)\n",
    "    Y2 = np.zeros(2*Y.size)\n",
    "    X2[1::2], X2[::2] = X, X\n",
    "    Y2[1::2], Y2[::2] = Y, Y\n",
    "    X2 = X2[1:]\n",
    "    Y2 = Y2[:-1]\n",
    "    N = X.size\n",
    "    interval_size = max(X2) - min(X2)\n",
    "    X2 = np.append(X2, X2[-1] + interval_size/N)\n",
    "    Y2 = np.append(Y2, Y2[-1])\n",
    "    return X2, Y2"
   ]
  },
  {
   "cell_type": "code",
   "execution_count": 91,
   "id": "c1a240c6-b10d-43f2-96df-4a8b4178b7e8",
   "metadata": {},
   "outputs": [],
   "source": [
    "def plotError(trueX, trueY, smcX, smcY, true=\"true\", sample=\"sample\"):\n",
    "    mse, error = MSE(trueX, trueY, smcX, smcY)\n",
    "    trueX2, trueY2 = toPlotPopulation(trueX, trueY)\n",
    "    smcX2, smcY2 = toPlotPopulation(smcX, smcY)\n",
    "    trueX2, error2 = toPlotPopulation(trueX, error)\n",
    "    fig, ax = plt.subplots(1, 1, figsize=(13, 6))\n",
    "    ax.plot(trueX2, trueY2, label=true)\n",
    "    ax.plot(smcX2, smcY2, label=sample)\n",
    "    ax.plot(trueX2, error2, c='red', label='error')\n",
    "    ax.set_title(f\"MSE={mse:.2f}\")\n",
    "    ax.set_yscale('log')\n",
    "    ax.legend()"
   ]
  },
  {
   "cell_type": "code",
   "execution_count": 92,
   "id": "c9d1a9ef-b8af-4c76-b196-44178e0077b6",
   "metadata": {},
   "outputs": [],
   "source": [
    "def MSE(trueX, trueY, smcX, smcY):\n",
    "    \"\"\"\n",
    "    Prend deux estimations sur des intervalles de même taille, mais avec des découpages différents.\n",
    "    Renvoie l'erreur et la MSE par rapport au découpage des données \"true\"\n",
    "    \"\"\"\n",
    "    assert trueX[0] == smcX[0]\n",
    "    assert trueX[-1] == smcX[-1]\n",
    "    if trueX.size == 21:\n",
    "        mean = np.array([  9.356916799486353, 9.323732471995893, 9.30978449335766, 9.33964656878526, 9.392022200854134, 9.434276632234456, 9.478676589026684, 9.527309373520657, 9.548713117944578, 9.570245267992675, 9.56750493829087, 9.565466907025149, 9.512536156065158, 9.434521582633796, 9.398206892470371, 9.36322667955644, 9.356504174765535, 9.329018397849097, 9.308910313027818, 9.29553514154116, 9.325170711244999 ])\n",
    "        std = np.array([ 2.471321525407103, 2.366336778710189, 2.2903378627404347, 2.258010461601245, 2.2503056614138743, 2.248511795954469, 2.233141299490089, 2.248305394343526, 2.2713535468274735, 2.3053573120835487, 2.3326904929251353, 2.3771672792991487, 2.4230819160770842, 2.4615326247187124, 2.487310767175101, 2.506719689289493, 2.52233336318805, 2.531117934134914, 2.5455292792267863, 2.5353273524949906, 2.566884053369089 ])\n",
    "    else:\n",
    "        mean = np.zeros(len(trueX))\n",
    "        std = np.ones(len(trueX))\n",
    "    trueY = (np.log(trueY) - mean)/std\n",
    "    \n",
    "    error = np.zeros(len(trueX))\n",
    "    error_relative = np.zeros(len(trueX))\n",
    "    for i in range(1, len(trueX)):\n",
    "        validIds = (smcX >= trueX[i-1]) * (smcX <= trueX[i])\n",
    "        subX = smcX[validIds]\n",
    "        subY = smcY[validIds]\n",
    "        if trueX[i-1] not in subX:\n",
    "            subX = np.insert(subX, 0, trueX[i-1])\n",
    "            lastId = np.argwhere(smcX < trueX[i-1])[-1]\n",
    "            subY = np.insert(subY, 0, smcY[lastId])\n",
    "        if trueX[i] not in subX:\n",
    "            subX = np.append(subX, trueX[i])\n",
    "            subY = np.append(subY, subY[-1])\n",
    "        subY = (np.log(subY)-mean[i-1])/std[i-1]\n",
    "        subX /= (max(subX) - min(subX))\n",
    "        subX = subX[1:] - subX[:-1]\n",
    "        error[i-1] = abs(np.dot(subX, subY[:-1]) - trueY[i-1])\n",
    "        error_relative[i-1] = error[i-1] / max([np.dot(subX, subY[:-1]), trueY[i-1]]) \n",
    "    error[-1] = abs(np.dot(subX[-1], subY[-1]) - trueY[-1])\n",
    "    error_relative[-1] = error[-1] / max([np.dot(subX[-1], subY[-1]), trueY[-1]]) \n",
    "    mse = np.sum(np.dot(error_relative, error_relative))/len(error_relative)\n",
    "    return mse, error"
   ]
  },
  {
   "cell_type": "markdown",
   "id": "ac1851a5-1b75-4844-91ce-b6706bdde9be",
   "metadata": {},
   "source": [
    "**On teste les fonctions plotError et MSE avec des fonctions simples**"
   ]
  },
  {
   "cell_type": "code",
   "execution_count": 73,
   "id": "caa88904-e02b-4316-8268-853566621b8b",
   "metadata": {},
   "outputs": [
    {
     "data": {
      "image/png": "[encoded data removed]",
      "text/plain": [
       "<Figure size 1440x720 with 1 Axes>"
      ]
     },
     "metadata": {
      "needs_background": "light"
     },
     "output_type": "display_data"
    }
   ],
   "source": [
    "trueX = np.linspace(1, 10, 20)\n",
    "smcX = np.linspace(1, 10, 100)\n",
    "trueY = np.sin(trueX) + 2.4\n",
    "smcY = np.sin(smcX)  + 3\n",
    "plotError(trueX, trueY, smcX, smcY)"
   ]
  },
  {
   "cell_type": "markdown",
   "id": "5347f17d-5669-4edc-ae02-de0fafd0740f",
   "metadata": {},
   "source": [
    "# **Partie comparaison VCF et SMC**"
   ]
  },
  {
   "cell_type": "markdown",
   "id": "68422517-24fb-4639-b0d8-952dd2674ddd",
   "metadata": {},
   "source": [
    "L'objectif est de comparer notre parser SNP → SMC avec le programme vcf2smc de smc++.\n",
    "On commence par charger les données en mémoire."
   ]
  },
  {
   "cell_type": "code",
   "execution_count": 45,
   "id": "04db745d-135a-4340-beb4-957f3404925a",
   "metadata": {},
   "outputs": [],
   "source": [
    "directory = \"data_hdgp_2mb_vcf\"\n",
    "hdgp_dir = f\"{directory}/hdgp\"\n",
    "debug = False\n",
    "scenario = \"46\"\n",
    "dist = 0\n",
    "smc_files_vcf = f\"{smc_dir}/scenario_{scenario}/hdgp_{scenario}_*.vcf.smc\"\n",
    "smc_files_snp = f\"{smc_dir}/scenario_{scenario}/hdgp_{scenario}_*.snp.smc\"\n",
    "for i in range(100):\n",
    "    indiv = str(i)\n",
    "    scenario_dir = f\"{hdgp_dir}/scenario_{scenario}\"\n",
    "    file = f\"{scenario_dir}/hdgp_{scenario}_{indiv}\"\n",
    "    smc_dir = f\"{directory}/smc\"\n",
    "    if \"smc\" not in os.listdir(directory):\n",
    "        os.mkdir(smc_dir)\n",
    "    if f\"scenario_{scenario}\" not in os.listdir(smc_dir):\n",
    "        os.mkdir(f\"{smc_dir}/scenario_{scenario}\")\n",
    "    smc_file_vcf = f\"{smc_dir}/scenario_{scenario}/hdgp_{scenario}_{indiv}.vcf.smc\"\n",
    "    smc_file_snp = f\"{smc_dir}/scenario_{scenario}/hdgp_{scenario}_{indiv}.snp.smc\"\n",
    "\n",
    "    ## convertir le snp en smc\n",
    "    data = np.load(f\"{file}.npz\")\n",
    "    SNP, POS = data[\"SNP\"], data[\"POS\"]\n",
    "    N = len(SNP) if len(SNP) % 2 == 0 else len(SNP) - 1\n",
    "    SMC_snp = SNPtoSMC(dist, SNP, POS)\n",
    "    header = header_smc(\"tsk\", dist, N)\n",
    "    np.savetxt(smc_file_snp, SMC_snp, delimiter=' ', fmt = \"%d\", header=header)\n",
    "\n",
    "    ## convertir le vcf en smc\n",
    "    bgzip = f\"bgzip {file}.vcf\"\n",
    "    tabix = f\"tabix {file}.vcf.gz\"\n",
    "    process = subprocess.Popen(bgzip, shell=True,  stdout=subprocess.PIPE, stderr=subprocess.PIPE, universal_newlines=True)\n",
    "    stdout, stderr = process.communicate()\n",
    "    #print(bgzip, stdout, stderr)\n",
    "    process = subprocess.Popen(tabix, shell=True,  stdout=subprocess.PIPE, stderr=subprocess.PIPE, universal_newlines=True)\n",
    "    stdout, stderr = process.communicate()\n",
    "    #print(tabix, stdout, stderr)\n",
    "    string = generate_string_vcftosmc(\"tsk\", int(N/2))\n",
    "    vcf2smc = f\"smc++ vcf2smc {file}.vcf.gz {smc_file_vcf} 1 {string}\"\n",
    "    process = subprocess.Popen(vcf2smc, shell=True,  stdout=subprocess.PIPE, stderr=subprocess.PIPE, universal_newlines=True)\n",
    "    stdout, stderr = process.communicate()\n",
    "    #print(stdout, stderr)\n",
    "\n",
    "    ## pour debug\n",
    "    if debug:\n",
    "        command = f'gunzip {file}.vcf.gz; awk ' + \"'{print $2}'\" + f\" {file}.vcf | tr '\\n' ',' | sed -E 's/.*POS,//' | sed -E 's/.$//' \"\n",
    "        process = subprocess.Popen(command, shell=True,  stdout=subprocess.PIPE, stderr=subprocess.PIPE, universal_newlines=True)\n",
    "        stdout, stderr = process.communicate()\n",
    "        tab = np.fromstring(stdout, sep=',', dtype=int)\n",
    "        tab_relative = np.zeros(len(tab), dtype=int)\n",
    "        tab_relative[0] = tab[0]\n",
    "        for i in range(1, len(tab)):\n",
    "            tab_relative[i] = tab[i] - tab[i-1]\n",
    "\n",
    "        ## récupérer les smc en mémoire\n",
    "        SMC_vcf = np.loadtxt(f\"{smc_file_vcf}\", dtype=int)\n",
    "        minSize = min([SMC_snp.shape[0], SMC_vcf.shape[0]])\n",
    "        diffs = np.argwhere((SMC_vcf[:minSize] - SMC_snp[:minSize]) > 1)\n",
    "        if(diffs.size != 0):\n",
    "            n = np.argwhere((SMC_vcf[:minSize] - SMC_snp[:minSize]) > 1)[0,0] - 2\n",
    "            m = int(n/2)\n",
    "            print(tab_relative[m: m+10])\n",
    "            print(POS[m: m+10])\n",
    "            print()\n",
    "            print(SMC_vcf[n:n+10], '\\n')\n",
    "            print(SMC_snp[n:n+10], '\\n')\n",
    "            print((SMC_vcf[:minSize] - SMC_snp[:minSize])[n:n+10])\n",
    "        else:\n",
    "            n = 10\n",
    "            print(SMC_vcf[-n:], '\\n')\n",
    "            print(SMC_snp[-n:], '\\n')\n",
    "            print((SMC_vcf[:minSize] - SMC_snp[:minSize])[-n:])\n",
    "\n",
    "        print( f\"{100*(SMC_vcf[:minSize] != SMC_snp[:minSize]).sum() / SMC_vcf.size:.2f}\" , \"% de différence\")"
   ]
  },
  {
   "cell_type": "markdown",
   "id": "5b2171c2-0f7e-4e05-bd70-3e5b9ba6cdfb",
   "metadata": {},
   "source": [
    "**On observe 26% de différence. Cela est du aux décallages qu'il y a entre les deux fichiers.\n",
    "En effet, on s'apercoit que les positions (transformées en positions relatives) du fichier VCF et les positions relatives du fichier SNP ne sont pas tout à fait identiques.**\n",
    "\n",
    "**De plus, il y a des zéros dans les fichiers.\n",
    "Sur ce scénario, il n'y a pas de 0 sur le VCF mais c'est n'est pas le cas de tous les scénarios.\n",
    "Pour les SNP, nous remplaçons tous les 0 par des 1 dans notre fonction SNPtoSMC.**"
   ]
  },
  {
   "cell_type": "markdown",
   "id": "3342001e-4c60-41cd-aa3f-e0fb8dccecbf",
   "metadata": {},
   "source": [
    "### Prédictions sur ces fichiers\n",
    "\n",
    "**Malgré les grosses différences entre les fichiers générés, on va quand même faire une estimation, puis comparer les résultats.**"
   ]
  },
  {
   "cell_type": "code",
   "execution_count": 46,
   "id": "052971c3-fb3d-49d8-b024-bdb048522394",
   "metadata": {},
   "outputs": [],
   "source": [
    "model_vcf = f\"{smc_dir}/scenario_{scenario}/model_{scenario}.vcf.json\"\n",
    "model_snp = f\"{smc_dir}/scenario_{scenario}/model_{scenario}.snp.json\"\n",
    "\n",
    "plot_vcf = f\"{smc_dir}/scenario_{scenario}/plot_{scenario}.vcf.png\"\n",
    "plot_snp = f\"{smc_dir}/scenario_{scenario}/plot_{scenario}.snp.png\"\n",
    "\n",
    "csv_snp = f\"{smc_dir}/scenario_{scenario}/plot_{scenario}.snp.csv\"\n",
    "csv_vcf = f\"{smc_dir}/scenario_{scenario}/plot_{scenario}.vcf.csv\""
   ]
  },
  {
   "cell_type": "code",
   "execution_count": 47,
   "id": "709e1337-d882-446f-8b38-349cfdd46c90",
   "metadata": {},
   "outputs": [],
   "source": [
    "# pour le fichier snp\n",
    "estimate = f'smc++ estimate 1.45e-08 --knots 21 --timepoints 0 34483 {smc_files_snp}'\n",
    "process = subprocess.Popen(estimate, shell=True,  stdout=subprocess.PIPE, stderr=subprocess.PIPE, universal_newlines=True)\n",
    "stdout, stderr = process.communicate()\n",
    "os.rename('model.final.json', model_snp)\n",
    "\n",
    "# pour le ficher vcf\n",
    "estimate = f'smc++ estimate 1.45e-08 --knots 21 --timepoints 0 34483 {smc_files_vcf}'\n",
    "process = subprocess.Popen(estimate, shell=True,  stdout=subprocess.PIPE, stderr=subprocess.PIPE, universal_newlines=True)\n",
    "stdout, stderr = process.communicate()\n",
    "os.rename('model.final.json', model_vcf)"
   ]
  },
  {
   "cell_type": "code",
   "execution_count": 48,
   "id": "986e275f-e832-4a49-b105-e6bd9f011fe7",
   "metadata": {},
   "outputs": [
    {
     "name": "stdout",
     "output_type": "stream",
     "text": [
      " \n",
      " \n"
     ]
    }
   ],
   "source": [
    "# finalement on enregistre les résultats dans les fichiers csv\n",
    "plot = f\"smc++ plot -c {plot_snp} {model_snp}\"\n",
    "process = subprocess.Popen(plot, shell=True,  stdout=subprocess.PIPE, stderr=subprocess.PIPE, universal_newlines=True)\n",
    "stdout, stderr = process.communicate()\n",
    "print(stdout, stderr)\n",
    "\n",
    "plot = f\"smc++ plot -c {plot_vcf} {model_vcf}\"\n",
    "process = subprocess.Popen(plot, shell=True,  stdout=subprocess.PIPE, stderr=subprocess.PIPE, universal_newlines=True)\n",
    "stdout, stderr = process.communicate()\n",
    "print(stdout, stderr)"
   ]
  },
  {
   "cell_type": "code",
   "execution_count": 49,
   "id": "d21a2d08-eff1-437d-8120-24a4152f351d",
   "metadata": {},
   "outputs": [
    {
     "data": {
      "image/png": "[encoded data removed]",
      "text/plain": [
       "<Figure size 1440x720 with 1 Axes>"
      ]
     },
     "metadata": {
      "needs_background": "light"
     },
     "output_type": "display_data"
    }
   ],
   "source": [
    "# affichage de l'erreur\n",
    "Xsnp, Ysnp = loadCSV_plot(csv_snp)\n",
    "Xvcf, Yvcf = loadCSV_plot(csv_vcf)\n",
    "mse, error = MSE(Xvcf, Yvcf, Xsnp, Ysnp)\n",
    "plotError(Xsnp, Ysnp, Xvcf, Yvcf, \"VCF\", \"SNP\")"
   ]
  },
  {
   "cell_type": "markdown",
   "id": "924c4825-8af9-46f3-bc90-405820359564",
   "metadata": {},
   "source": [
    "# **Ici, on compare autre le csv des données réelles avec nos estimations**"
   ]
  },
  {
   "cell_type": "markdown",
   "id": "72983621-49a7-42ea-a836-b1fbd149e54f",
   "metadata": {},
   "source": [
    "**on check les scenario qui ont le moins d'individus (on a remarqué qu'ils sont plus rapides à process)**"
   ]
  },
  {
   "cell_type": "code",
   "execution_count": 105,
   "id": "f6e20ad0-936e-42cd-af3e-8529d360d9d3",
   "metadata": {},
   "outputs": [
    {
     "name": "stdout",
     "output_type": "stream",
     "text": [
      "scenario_3530 84\n",
      "scenario_28596 47\n",
      "scenario_13688 40\n",
      "scenario_6 37\n",
      "scenario_22805 71\n",
      "scenario_12563 48\n",
      "scenario_7739 29\n",
      "scenario_8527 66\n",
      "scenario_22376 23\n",
      "scenario_17857 22\n",
      "scenario_17778 59\n",
      "scenario_22261 58\n",
      "scenario_4859 86\n",
      "scenario_13949 37\n",
      "scenario_2723 17\n",
      "scenario_14891 35\n",
      "scenario_14222 31\n",
      "scenario_23966 35\n",
      "scenario_22339 25\n",
      "scenario_13554 75\n",
      "scenario_2731 73\n",
      "scenario_3201 25\n",
      "scenario_28446 59\n",
      "scenario_8266 74\n",
      "scenario_21840 75\n",
      "scenario_13157 18\n",
      "scenario_16641 81\n",
      "scenario_4542 85\n",
      "scenario_25960 72\n",
      "scenario_1419 61\n",
      "scenario_2746 73\n",
      "scenario_4141 90\n",
      "scenario_16965 24\n",
      "scenario_8784 73\n",
      "scenario_11068 81\n",
      "scenario_3177 49\n",
      "scenario_9429 37\n",
      "scenario_6322 91\n",
      "scenario_28622 30\n",
      "scenario_19909 71\n",
      "scenario_18167 33\n",
      "scenario_20599 96\n",
      "scenario_10255 30\n",
      "scenario_21602 30\n",
      "scenario_11049 92\n",
      "scenario_15320 18\n",
      "scenario_2179 57\n",
      "scenario_157 52\n",
      "scenario_11037 63\n",
      "scenario_17175 76\n",
      "scenario_3169 37\n",
      "scenario_28661 98\n",
      "scenario_24548 61\n",
      "scenario_27500 95\n",
      "scenario_3712 73\n",
      "scenario_12842 20\n",
      "scenario_4077 88\n",
      "scenario_18416 10\n",
      "scenario_18530 37\n",
      "scenario_20708 84\n",
      "scenario_11505 45\n",
      "scenario_26606 35\n",
      "scenario_8883 72\n",
      "scenario_28028 72\n",
      "scenario_18273 84\n",
      "scenario_6148 71\n",
      "scenario_19672 63\n",
      "scenario_16844 10\n",
      "scenario_1576 74\n",
      "scenario_28432 35\n",
      "scenario_7318 21\n",
      "scenario_29877 89\n",
      "scenario_6985 90\n",
      "scenario_8618 26\n",
      "scenario_21437 33\n",
      "scenario_9204 74\n",
      "scenario_10312 92\n",
      "scenario_23201 62\n",
      "scenario_11687 13\n",
      "scenario_20709 80\n",
      "scenario_22164 95\n",
      "scenario_15399 52\n",
      "scenario_6525 62\n",
      "scenario_17254 69\n",
      "scenario_21349 96\n",
      "scenario_25956 24\n",
      "scenario_22972 13\n",
      "scenario_16216 16\n",
      "scenario_565 35\n",
      "scenario_21892 44\n",
      "scenario_13327 25\n",
      "scenario_3992 93\n",
      "scenario_5920 63\n",
      "scenario_21445 78\n",
      "scenario_16419 24\n",
      "scenario_7924 13\n",
      "scenario_20169 48\n",
      "scenario_23445 39\n",
      "scenario_5034 63\n",
      "scenario_6518 40\n"
     ]
    }
   ],
   "source": [
    "snp_dir = \"hdgp\"\n",
    "list_scenarios = os.listdir(snp_dir)\n",
    "for scenario in list_scenarios:\n",
    "    scenario_dir = f\"{snp_dir}/{scenario}\"\n",
    "    file = os.listdir(scenario_dir)[0]\n",
    "    file = f\"{scenario_dir}/{file}\"\n",
    "    data = np.load(file)\n",
    "    print(scenario, data[\"SNP\"].shape[0])"
   ]
  },
  {
   "cell_type": "code",
   "execution_count": 110,
   "id": "f60dd54c-edf8-44d2-b99e-ade732189662",
   "metadata": {},
   "outputs": [],
   "source": [
    "estimate = False"
   ]
  },
  {
   "cell_type": "code",
   "execution_count": 96,
   "id": "b8c97bf8-9731-41a1-b5eb-e39671501196",
   "metadata": {},
   "outputs": [
    {
     "data": {
      "image/png": "[encoded data removed]",
      "text/plain": [
       "<Figure size 936x432 with 1 Axes>"
      ]
     },
     "metadata": {
      "needs_background": "light"
     },
     "output_type": "display_data"
    }
   ],
   "source": [
    "scenario = 11687\n",
    "if estimate:\n",
    "    run_smc_estimate(scenario, display=False, dist=0)\n",
    "trueX, trueY, smcX, smcY = loadCSV_subsample(scenario = scenario)\n",
    "plotError(trueX, trueY, smcX, smcY, \"données réelles\", \"prédictions\")"
   ]
  },
  {
   "cell_type": "code",
   "execution_count": 97,
   "id": "0faa0ee3-f4f5-4d86-8ea2-b05f93be346f",
   "metadata": {},
   "outputs": [
    {
     "data": {
      "image/png": "[encoded data removed]",
      "text/plain": [
       "<Figure size 936x432 with 1 Axes>"
      ]
     },
     "metadata": {
      "needs_background": "light"
     },
     "output_type": "display_data"
    }
   ],
   "source": [
    "scenario = 16844\n",
    "if estimate:\n",
    "    run_smc_estimate(scenario, display=False, dist=0)\n",
    "trueX, trueY, smcX, smcY = loadCSV_subsample(scenario = scenario)\n",
    "plotError(trueX, trueY, smcX, smcY, \"données réelles\", \"prédictions\")"
   ]
  },
  {
   "cell_type": "code",
   "execution_count": 103,
   "id": "42bcf912-8351-444e-b42e-313786906bb0",
   "metadata": {},
   "outputs": [
    {
     "name": "stdout",
     "output_type": "stream",
     "text": [
      "running : smc++ estimate 1.45e-08 --knots 21 --timepoints 0 34483 -o out/scenario_22972/dist_0 smc.gz_files/scenario_22972/dist_0/*.gz\n"
     ]
    },
    {
     "data": {
      "image/png": "[encoded data removed]",
      "text/plain": [
       "<Figure size 936x432 with 1 Axes>"
      ]
     },
     "metadata": {
      "needs_background": "light"
     },
     "output_type": "display_data"
    }
   ],
   "source": [
    "scenario = 22972\n",
    "if estimate:\n",
    "    run_smc_estimate(scenario, display=False, dist=0)\n",
    "trueX, trueY, smcX, smcY = loadCSV_subsample(scenario = scenario)\n",
    "plotError(trueX, trueY, smcX, smcY, \"données réelles\", \"prédictions\")"
   ]
  },
  {
   "cell_type": "code",
   "execution_count": 104,
   "id": "8e4166a7-85bd-4258-9bfc-c79e5cfa3b63",
   "metadata": {},
   "outputs": [
    {
     "name": "stdout",
     "output_type": "stream",
     "text": [
      "running : smc++ estimate 1.45e-08 --knots 21 --timepoints 0 34483 -o out/scenario_7924/dist_0 smc.gz_files/scenario_7924/dist_0/*.gz\n"
     ]
    },
    {
     "data": {
      "image/png": "[encoded data removed]",
      "text/plain": [
       "<Figure size 936x432 with 1 Axes>"
      ]
     },
     "metadata": {
      "needs_background": "light"
     },
     "output_type": "display_data"
    }
   ],
   "source": [
    "scenario = 7924\n",
    "if estimate:\n",
    "    run_smc_estimate(scenario, display=False, dist=0)\n",
    "trueX, trueY, smcX, smcY = loadCSV_subsample(scenario = scenario)\n",
    "plotError(trueX, trueY, smcX, smcY, \"données réelles\", \"prédictions\")"
   ]
  },
  {
   "cell_type": "code",
   "execution_count": 107,
   "id": "63d44670-80ad-43e5-a557-75ec51536af9",
   "metadata": {},
   "outputs": [
    {
     "name": "stdout",
     "output_type": "stream",
     "text": [
      "running : smc++ estimate 1.45e-08 --knots 21 --timepoints 0 34483 -o out/scenario_14891/dist_0 smc.gz_files/scenario_14891/dist_0/*.gz\n"
     ]
    },
    {
     "data": {
      "image/png": "[encoded data removed]",
      "text/plain": [
       "<Figure size 936x432 with 1 Axes>"
      ]
     },
     "metadata": {
      "needs_background": "light"
     },
     "output_type": "display_data"
    }
   ],
   "source": [
    "scenario = 14891\n",
    "if estimate:\n",
    "    run_smc_estimate(scenario, display=False, dist=0)\n",
    "trueX, trueY, smcX, smcY = loadCSV_subsample(scenario = scenario)\n",
    "plotError(trueX, trueY, smcX, smcY, \"données réelles\", \"prédictions\")"
   ]
  },
  {
   "cell_type": "code",
   "execution_count": 108,
   "id": "e3dc8caa-9aba-42f2-bc53-ce2c6beb19bd",
   "metadata": {},
   "outputs": [
    {
     "name": "stdout",
     "output_type": "stream",
     "text": [
      "running : smc++ estimate 1.45e-08 --knots 21 --timepoints 0 34483 -o out/scenario_2723/dist_0 smc.gz_files/scenario_2723/dist_0/*.gz\n"
     ]
    },
    {
     "data": {
      "image/png": "[encoded data removed]",
      "text/plain": [
       "<Figure size 936x432 with 1 Axes>"
      ]
     },
     "metadata": {
      "needs_background": "light"
     },
     "output_type": "display_data"
    }
   ],
   "source": [
    "scenario = 2723\n",
    "if estimate:\n",
    "    run_smc_estimate(scenario, display=False, dist=0)\n",
    "trueX, trueY, smcX, smcY = loadCSV_subsample(scenario = scenario)\n",
    "plotError(trueX, trueY, smcX, smcY, \"données réelles\", \"prédictions\")"
   ]
  },
  {
   "cell_type": "code",
   "execution_count": 111,
   "id": "60bfb510-96a8-427a-8ffc-49a6394d3df2",
   "metadata": {},
   "outputs": [
    {
     "data": {
      "image/png": "[encoded data removed]",
      "text/plain": [
       "<Figure size 936x432 with 1 Axes>"
      ]
     },
     "metadata": {
      "needs_background": "light"
     },
     "output_type": "display_data"
    }
   ],
   "source": [
    "scenario = 3992\n",
    "if estimate:\n",
    "    run_smc_estimate(scenario, display=False, dist=0)\n",
    "trueX, trueY, smcX, smcY = loadCSV_subsample(scenario = scenario)\n",
    "plotError(trueX, trueY, smcX, smcY, \"données réelles\", \"prédictions\")"
   ]
  },
  {
   "cell_type": "code",
   "execution_count": null,
   "id": "374d8b44-e83c-4ae7-9b9d-6be7111fd7ea",
   "metadata": {},
   "outputs": [],
   "source": []
  }
 ],
 "metadata": {
  "kernelspec": {
   "display_name": "Python 3",
   "language": "python",
   "name": "python3"
  },
  "language_info": {
   "codemirror_mode": {
    "name": "ipython",
    "version": 3
   },
   "file_extension": ".py",
   "mimetype": "text/x-python",
   "name": "python",
   "nbconvert_exporter": "python",
   "pygments_lexer": "ipython3",
   "version": "3.9.5"
  }
 },
 "nbformat": 4,
 "nbformat_minor": 5
}
