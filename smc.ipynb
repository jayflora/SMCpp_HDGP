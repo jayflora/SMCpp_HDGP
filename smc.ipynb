{
 "cells": [
  {
   "cell_type": "code",
   "execution_count": 1,
   "id": "bfef5b59-aea2-4ba4-b4fe-597475cfee0b",
   "metadata": {},
   "outputs": [],
   "source": [
    "import numpy as np\n",
    "from timeit import timeit as timeit\n",
    "import os\n",
    "import matplotlib.pyplot as plt\n",
    "import subprocess\n",
    "from joblib import Parallel, delayed\n",
    "import multiprocessing"
   ]
  },
  {
   "cell_type": "markdown",
   "id": "a0d4e14b",
   "metadata": {},
   "source": [
    "Ici on convertit une matrice SNP en SMC. Dans ces deux fonctions on va juste gérer les colonnes ( données )"
   ]
  },
  {
   "cell_type": "code",
   "execution_count": 2,
   "id": "0df23efe-f3ea-4af6-be56-eb3a2dbfbd45",
   "metadata": {},
   "outputs": [],
   "source": [
    "def SNPtoSMC(dist, SNP, POS):\n",
    "    \"\"\"\n",
    "    dist : id de l'individu distingué\n",
    "    SNP : matrice de SNPs\n",
    "    POS : postions de la matrice de SNPs\n",
    "    return : une matrice au format SMC\n",
    "    \"\"\"\n",
    "    N = SNP.shape[0]\n",
    "    N = N if N%2 == 0 else N - 1\n",
    "    assert dist < N/2\n",
    "    \n",
    "    dist *= 2\n",
    "    M = POS.shape[0]\n",
    "    SMC = np.zeros((2*M,4), dtype=int)\n",
    "    SMC[:,-1] = N*np.ones(2*M, dtype=int) - 2\n",
    "    SMC[:, 0] = np.ones(2*M, dtype=int)\n",
    "    d = SNP[dist, :] + SNP[dist+1, :]\n",
    "    u = np.sum(SNP, axis=0, dtype=int) - d\n",
    "    SMC[1::2, 1:-1] = np.transpose([d, u]) \n",
    "    SMC[0::2, 0:-1] = np.transpose([POS - 1, np.zeros(M, dtype=int), np.zeros(M, dtype=int)])\n",
    "    todelete = np.argwhere(POS <= 1).transpose()*2\n",
    "    return np.delete(SMC, todelete, 0)"
   ]
  },
  {
   "cell_type": "markdown",
   "id": "07787798",
   "metadata": {},
   "source": [
    "Ici on crée cette fonction pour corriger le bug des 0 dans les données"
   ]
  },
  {
   "cell_type": "code",
   "execution_count": 3,
   "id": "292bc258-7d7d-4e46-9308-3d1ce447aff5",
   "metadata": {},
   "outputs": [],
   "source": [
    "def loadfile(scenario, i):\n",
    "    file_name = \"hdgp/scenario_\" + scenario +\"/hdgp_\" + scenario + \"_\" + str(i) + \".npz\"\n",
    "    data = np.load(file_name)\n",
    "    return data"
   ]
  },
  {
   "cell_type": "markdown",
   "id": "e8dffd6a",
   "metadata": {},
   "source": [
    "On crée une fonction pour crée le header du format smc"
   ]
  },
  {
   "cell_type": "code",
   "execution_count": 4,
   "id": "584e4d93-8be0-426e-8692-ba739baede58",
   "metadata": {},
   "outputs": [],
   "source": [
    "def header_smc(pid, dist, n_ind):\n",
    "    \"\"\"\n",
    "    pid: id de la population considérée\n",
    "    dist: individu distingué\n",
    "    n_ind: nombre d'individus\n",
    "    return: le header correspondant pour le format SMC\n",
    "    \"\"\"\n",
    "    header = 'SMC++ {\"version\": \"1.15.4.dev18+gca077da\", \"pids\": [\"'+ pid +'\"], \"undist\": [['\n",
    "    for i in range(n_ind):\n",
    "        if(i != dist):\n",
    "            indid = pid + str(i)\n",
    "            header += '[\"' + indid + '\", 0], [\"' + indid + '\", 1], '\n",
    "    indid = pid + str(dist)\n",
    "    header = header[:-2] + ']], \"dist\": [[[\"' + indid +'\", 0], [\"' + indid + '\", 1]]]}'\n",
    "    return header"
   ]
  },
  {
   "cell_type": "code",
   "execution_count": 5,
   "id": "add46594-ae50-45f1-b0a0-269e94a43e32",
   "metadata": {},
   "outputs": [
    {
     "name": "stdout",
     "output_type": "stream",
     "text": [
      "[[2 0 0 4]\n",
      " [1 0 2 4]\n",
      " [4 0 0 4]\n",
      " [1 0 1 4]\n",
      " [1 1 0 4]\n",
      " [9 0 0 4]\n",
      " [1 2 1 4]]\n",
      "[[2 0 0 4]\n",
      " [1 2 0 4]\n",
      " [4 0 0 4]\n",
      " [1 0 1 4]\n",
      " [1 0 1 4]\n",
      " [9 0 0 4]\n",
      " [1 0 3 4]]\n",
      "[[2 0 0 4]\n",
      " [1 0 2 4]\n",
      " [4 0 0 4]\n",
      " [1 1 0 4]\n",
      " [1 0 1 4]\n",
      " [9 0 0 4]\n",
      " [1 1 2 4]]\n"
     ]
    }
   ],
   "source": [
    "## test sur un exemple simple\n",
    "def test():\n",
    "    snp = np.array([\n",
    "    [0, 0, 1, 1],\n",
    "    [0, 0, 0, 1],\n",
    "    [1, 0, 0, 0],\n",
    "    [1, 0, 0, 0],\n",
    "    [0, 1, 0, 0],\n",
    "    [0, 0, 0, 1],\n",
    "    ])\n",
    "    pos = np.array([3, 5, 1, 10])\n",
    "    print(SNPtoSMC(0, snp, pos))\n",
    "    print(SNPtoSMC(1, snp, pos))\n",
    "    print(SNPtoSMC(2, snp, pos))\n",
    "test()"
   ]
  },
  {
   "cell_type": "code",
   "execution_count": 6,
   "id": "6a5793a5-ad3b-480c-afc1-297eaa5d6f0a",
   "metadata": {},
   "outputs": [
    {
     "name": "stdout",
     "output_type": "stream",
     "text": [
      "[[2328    0    0    8]\n",
      " [   1    1    4    8]\n",
      " [3344    0    0    8]\n",
      " [   1    1    5    8]\n",
      " [ 183    0    0    8]\n",
      " [   1    1    5    8]\n",
      " [2579    0    0    8]\n",
      " [   1    1    5    8]\n",
      " [  28    0    0    8]\n",
      " [   1    0    3    8]]\n",
      "\n",
      "SNPtoSMC exec time 0.00075s\n"
     ]
    }
   ],
   "source": [
    "## mesure du temps prise par la fonction SNPtoSMC\n",
    "n = 1000\n",
    "data = loadfile(scenario=\"16844\", i=\"5\")\n",
    "SMC = SNPtoSMC(0, data['SNP'], data['POS'])\n",
    "print(SMC[:10])\n",
    "time = timeit(\"SNPtoSMC(0, data['SNP'], data['POS'])\", globals=globals(), number=n)/n\n",
    "print(f\"\\nSNPtoSMC exec time {time:.5f}s\")\n",
    "\n",
    "assert SMC[:, 0].any() > 0"
   ]
  },
  {
   "cell_type": "markdown",
   "id": "b94937c1",
   "metadata": {},
   "source": [
    "La première fonction sert à générer tous les fichiers SMC pour toutes données.\n",
    "Alors que la seconde fonction c'est juste pour un scénario en particulier"
   ]
  },
  {
   "cell_type": "code",
   "execution_count": 7,
   "id": "ca565e48-aa5f-4f34-914f-dc2bd38a461f",
   "metadata": {},
   "outputs": [],
   "source": [
    "def one_scenario(d=\"scenario_11687\", save_dir=\"smc_files\"):\n",
    "    if save_dir not in os.listdir():\n",
    "        os.mkdir(save_dir)\n",
    "    for file in os.listdir(\"hdgp/\" + d):\n",
    "        # chargement des données\n",
    "        data = np.load(\"hdgp/\" + d + \"/\" + file)\n",
    "        SNP, POS = data['SNP'], data['POS']\n",
    "        # remplace tous les 0 de la matrice de positions par des 1\n",
    "        POS[POS == 0] = 1 \n",
    "        # on récupère le nombre d'individus (on le suppose pair)\n",
    "        N = data['SNP'].shape[0]\n",
    "        N = N if N%2 == 0 else N - 1\n",
    "        # création du dossier du scénario\n",
    "        scenario_dir = save_dir + \"/\" + d\n",
    "        if d not in os.listdir(save_dir):\n",
    "            os.mkdir(scenario_dir)\n",
    "            \n",
    "        for dist in range(0, int(N/2)):\n",
    "            # pour chaque individu distingué, on crée un dossier qui contient les fichiers smc associés\n",
    "            dist_dir = scenario_dir + \"/\" + \"dist_\" + str(dist)\n",
    "            if \"dist_\" + str(dist) not in os.listdir(scenario_dir):\n",
    "                os.mkdir(dist_dir)\n",
    "            SMC = SNPtoSMC(dist, SNP, POS)\n",
    "            filename = dist_dir + \"/\" + file + str(dist) + \".smc\"\n",
    "            header = header_smc(\"hdgp\", dist, N)\n",
    "            np.savetxt(filename , SMC, delimiter=' ', fmt = \"%d\", header=header)\n",
    "            \n",
    "def all_scenarios(multi_thread=False):\n",
    "    if(multi_thread):\n",
    "        num_cores = multiprocessing.cpu_count()\n",
    "        Parallel(n_jobs=num_cores)(delayed(one_scenario)(d) for d in os.listdir(\"hdgp\"))\n",
    "    else:\n",
    "        for d in os.listdir(\"hdgp\"):\n",
    "            one_scenario(d)"
   ]
  },
  {
   "cell_type": "code",
   "execution_count": 8,
   "id": "96a2762d-0e91-4102-9f5c-7a379b40eabb",
   "metadata": {},
   "outputs": [
    {
     "name": "stdout",
     "output_type": "stream",
     "text": [
      "28.86s pour convertir tous les fichiers du scénario 6\n",
      "717.14s pour convertir tous les scénarios\n"
     ]
    }
   ],
   "source": [
    "n = 3\n",
    "time = timeit('one_scenario(\"scenario_6\")', globals=globals(), number=n)/n\n",
    "print(f\"{time:.2f}s pour convertir tous les fichiers du scénario 6\")\n",
    "n = 1\n",
    "time = timeit(\"all_scenarios(True)\", globals=globals(), number=n)/n\n",
    "print(f\"{time:.2f}s pour convertir tous les scénarios\")"
   ]
  },
  {
   "cell_type": "code",
   "execution_count": 9,
   "id": "26c79336-232d-4e36-88f7-3683c0a5e9b5",
   "metadata": {},
   "outputs": [
    {
     "name": "stdout",
     "output_type": "stream",
     "text": [
      "running : smc++ estimate 1.45e-08 --knots 22 -w 2000000 --timepoints 0 34483 -o out/scenario_11687/dist_5 smc_files/scenario_11687/dist_5/*.smc\n",
      "running : smc++ estimate 1.45e-08 --knots 22 -w 2000000 --timepoints 0 34483 -o out/scenario_11687/dist_3 smc_files/scenario_11687/dist_3/*.smc\n",
      "running : smc++ estimate 1.45e-08 --knots 22 -w 2000000 --timepoints 0 34483 -o out/scenario_11687/dist_0 smc_files/scenario_11687/dist_0/*.smc\n",
      "running : smc++ estimate 1.45e-08 --knots 22 -w 2000000 --timepoints 0 34483 -o out/scenario_11687/dist_4 smc_files/scenario_11687/dist_4/*.smc\n",
      "running : smc++ estimate 1.45e-08 --knots 22 -w 2000000 --timepoints 0 34483 -o out/scenario_11687/dist_1 smc_files/scenario_11687/dist_1/*.smc\n",
      "running : smc++ estimate 1.45e-08 --knots 22 -w 2000000 --timepoints 0 34483 -o out/scenario_11687/dist_2 smc_files/scenario_11687/dist_2/*.smc\n",
      "552.46s smc\n"
     ]
    }
   ],
   "source": [
    "def run_smc_estimate(scenario, out_dir=\"out\", display=False):\n",
    "    scenario_dir = f\"smc_files/{scenario}\"\n",
    "    scenario_out_dir = f\"{out_dir}/{scenario}\"\n",
    "    if out_dir not in os.listdir():\n",
    "        os.mkdir(out_dir)\n",
    "    if scenario not in os.listdir(out_dir):\n",
    "        os.mkdir(scenario_out_dir)\n",
    "    for dist in os.listdir(scenario_dir):\n",
    "        scenario_out_dist_dir = f\"{scenario_out_dir}/{dist}\"\n",
    "        if dist not in os.listdir(scenario_out_dir):\n",
    "            os.mkdir(scenario_out_dist_dir)\n",
    "        command_estimate = f'smc++ estimate 1.45e-08 --knots 22 -w 2000000 --timepoints 0 34483 -o {scenario_out_dist_dir} {scenario_dir}/{dist}/*.smc' # il faut enlever l'option -w\n",
    "        command_estimate = f'smc++ estimate 1.45e-08 --knots 22 -w 2000000 --timepoints 0 34483 -o {scenario_out_dist_dir} {scenario_dir}/{dist}/*.smc' # il faut enlever l'option -w\n",
    "        command_plot = 'smc++ plot '\n",
    "        print(f\"running : {command_smc_estimate}\")\n",
    "        process = subprocess.Popen(command_estimate, shell=True,  stdout=subprocess.PIPE, stderr=subprocess.PIPE, universal_newlines=True)\n",
    "        stdout, stderr = process.communicate()\n",
    "        if(display):\n",
    "            print(stdout, stderr)\n",
    "        \n",
    "        \n",
    "n = 1\n",
    "time = timeit('run_smc_estimate(\"scenario_11687\", display=False)', globals=globals(), number=n)/n\n",
    "print(f\"{time:.2f}s smc\")"
   ]
  },
  {
   "cell_type": "code",
   "execution_count": 10,
   "id": "eb1d79bf-033a-4064-87a2-e6ed0ec88525",
   "metadata": {},
   "outputs": [
    {
     "data": {
      "image/png": "[encoded data removed]",
      "text/plain": [
       "<Figure size 432x288 with 1 Axes>"
      ]
     },
     "metadata": {
      "needs_background": "light"
     },
     "output_type": "display_data"
    }
   ],
   "source": [
    "def plot_deep_learning_results(i):\n",
    "    \"\"\"\n",
    "    i : numéro du scénario\n",
    "    \"\"\"\n",
    "    fig, ax = plt.subplots(1, 1)\n",
    "    results_deep = np.genfromtxt('hdgp_demo_parameters_subsample.csv',delimiter=',', dtype=int)\n",
    "    X = results_deep[1,6:27]\n",
    "    ids = np.argwhere(results_deep[:,0] == i)\n",
    "    Y = results_deep[ids,27:].flatten()\n",
    "    X2 = np.zeros(2*X.size, dtype=int)\n",
    "    Y2 = np.zeros(2*Y.size, dtype=int)\n",
    "    X2[1::2], X2[::2] = X, X\n",
    "    Y2[1::2], Y2[::2] = Y, Y\n",
    "    X2 = X2[1:]\n",
    "    Y2 = Y2[:-1]\n",
    "    ax.plot(X2, Y2, label=f\"scénario_{i}\")\n",
    "    ax.set_yscale('log')\n",
    "    ax.legend()\n",
    "    \n",
    "plot_deep_learning_results(16844)"
   ]
  },
  {
   "cell_type": "code",
   "execution_count": null,
   "id": "a3466c88-fd90-4ff9-a90b-c4660c20e427",
   "metadata": {},
   "outputs": [],
   "source": []
  }
 ],
 "metadata": {
  "kernelspec": {
   "display_name": "Python 3",
   "language": "python",
   "name": "python3"
  },
  "language_info": {
   "codemirror_mode": {
    "name": "ipython",
    "version": 3
   },
   "file_extension": ".py",
   "mimetype": "text/x-python",
   "name": "python",
   "nbconvert_exporter": "python",
   "pygments_lexer": "ipython3",
   "version": "3.9.5"
  }
 },
 "nbformat": 4,
 "nbformat_minor": 5
}
