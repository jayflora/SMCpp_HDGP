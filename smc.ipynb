{
 "cells": [
  {
   "cell_type": "code",
   "execution_count": 51,
   "id": "e819fe92",
   "metadata": {},
   "outputs": [],
   "source": [
    "import numpy as np\n",
    "from timeit import timeit as timeit\n",
    "import os\n",
    "import matplotlib.pyplot as plt\n",
    "import subprocess\n",
    "from joblib import Parallel, delayed\n",
    "import multiprocessing \n",
    "import pandas as pd"
   ]
  },
  {
   "cell_type": "markdown",
   "id": "7686954b",
   "metadata": {},
   "source": [
    "# II - Formatage des données"
   ]
  },
  {
   "cell_type": "markdown",
   "id": "ed1faf10",
   "metadata": {},
   "source": [
    "## Conversion du format SNP vers SMC\n",
    "Ici on convertit une matrice SNP en SMC. Dans ces deux fonctions on va juste gérer les colonnes ( données )"
   ]
  },
  {
   "cell_type": "markdown",
   "id": "60556ea4",
   "metadata": {},
   "source": [
    "**15,1 Go sans compression vs 2,31 Go avec compression**"
   ]
  },
  {
   "cell_type": "code",
   "execution_count": 80,
   "id": "3c74cda8",
   "metadata": {},
   "outputs": [],
   "source": [
    "def SNPtoSMC(dist, SNP, POS):\n",
    "    \"\"\"\n",
    "    dist : id de l'individu distingué\n",
    "    SNP : matrice de SNPs\n",
    "    POS : postions de la matrice de SNPs\n",
    "    return : une matrice au format SMC\n",
    "    \"\"\"\n",
    "    N = SNP.shape[0]\n",
    "    M = POS.shape[0]\n",
    "    N = N if N%2 == 0 else N - 1\n",
    "    SNP = SNP[:N]\n",
    "    assert dist < N/2\n",
    "    \n",
    "    dist *= 2\n",
    "    SMC = np.zeros((2*M,4), dtype=int)\n",
    "    SMC[:,-1] = N*np.ones(2*M, dtype=int) - 2\n",
    "    SMC[:, 0] = np.ones(2*M, dtype=int)\n",
    "    d = SNP[dist, :] + SNP[dist+1, :]\n",
    "    u = np.sum(SNP, axis=0, dtype=int) - d\n",
    "    SMC[1::2, 1:-1] = np.transpose([d, u]) \n",
    "    SMC[0::2, 0:-1] = np.transpose([POS - 1, np.zeros(M, dtype=int), np.zeros(M, dtype=int)])\n",
    "    todelete = np.argwhere(POS <= 1).transpose()*2\n",
    "    return np.delete(SMC, todelete, 0)"
   ]
  },
  {
   "cell_type": "markdown",
   "id": "ae1304db",
   "metadata": {},
   "source": [
    "Ici on crée cette fonction pour corriger le bug des 0 dans les données"
   ]
  },
  {
   "cell_type": "code",
   "execution_count": 11,
   "id": "1bf2c401",
   "metadata": {},
   "outputs": [],
   "source": [
    "def loadfile(scenario, i, path=\"hdgp/scenario_\",form=\".npz\"):\n",
    "    file_name = path + scenario +\"/hdgp_\" + scenario + \"_\" + str(i) + form\n",
    "    print(file_name)\n",
    "    data = np.load(file_name)\n",
    "    return data"
   ]
  },
  {
   "cell_type": "code",
   "execution_count": 12,
   "id": "e830ba0d-0245-4a88-9159-16d4e718ccfd",
   "metadata": {},
   "outputs": [
    {
     "name": "stdout",
     "output_type": "stream",
     "text": [
      "hdgp/scenario_1576/hdgp_1576_1.npz\n",
      "(74, 654)\n"
     ]
    }
   ],
   "source": [
    "data = loadfile(\"1576\", 1)\n",
    "print(data[\"SNP\"].shape)"
   ]
  },
  {
   "cell_type": "markdown",
   "id": "6f465b80",
   "metadata": {},
   "source": [
    "On crée une fonction pour crée le header du format smc"
   ]
  },
  {
   "cell_type": "code",
   "execution_count": 164,
   "id": "b91baab7",
   "metadata": {},
   "outputs": [],
   "source": [
    "def header_smc(pid, dist, n_ind):\n",
    "    \"\"\"\n",
    "    pid: id de la population considérée\n",
    "    dist: individu distingué\n",
    "    n_ind: nombre d'individus\n",
    "    return: le header correspondant pour le format SMC\n",
    "    \"\"\"\n",
    "    header = 'SMC++ {\"version\": \"1.15.4.dev18+gca077da\", \"pids\": [\"'+ pid +'\"], \"undist\": [['\n",
    "    for i in range(n_ind):\n",
    "        if(i != dist):\n",
    "            indid = pid + str(i)\n",
    "            header += '[\"' + indid + '\", 0], [\"' + indid + '\", 1], '\n",
    "    indid = pid + str(dist)\n",
    "    header = header[:-2] + ']], \"dist\": [[[\"' + indid +'\", 0], [\"' + indid + '\", 1]]]}'\n",
    "    return header"
   ]
  },
  {
   "cell_type": "code",
   "execution_count": 165,
   "id": "dba6c667",
   "metadata": {},
   "outputs": [
    {
     "name": "stdout",
     "output_type": "stream",
     "text": [
      "[[2 0 0 4]\n",
      " [0 0 2 4]\n",
      " [4 0 0 4]\n",
      " [0 0 1 4]\n",
      " [0 1 0 4]\n",
      " [9 0 0 4]\n",
      " [0 2 1 4]]\n",
      "[[2 0 0 4]\n",
      " [0 2 0 4]\n",
      " [4 0 0 4]\n",
      " [0 0 1 4]\n",
      " [0 0 1 4]\n",
      " [9 0 0 4]\n",
      " [0 0 3 4]]\n",
      "[[2 0 0 4]\n",
      " [0 0 2 4]\n",
      " [4 0 0 4]\n",
      " [0 1 0 4]\n",
      " [0 0 1 4]\n",
      " [9 0 0 4]\n",
      " [0 1 2 4]]\n"
     ]
    }
   ],
   "source": [
    "## test sur un exemple simple\n",
    "def test():\n",
    "    snp = np.array([\n",
    "    [0, 0, 1, 1],\n",
    "    [0, 0, 0, 1],\n",
    "    [1, 0, 0, 0],\n",
    "    [1, 0, 0, 0],\n",
    "    [0, 1, 0, 0],\n",
    "    [0, 0, 0, 1],\n",
    "    ])\n",
    "    pos = np.array([3, 5, 1, 10])\n",
    "    print(SNPtoSMC(0, snp, pos))\n",
    "    print(SNPtoSMC(1, snp, pos))\n",
    "    print(SNPtoSMC(2, snp, pos))\n",
    "test()"
   ]
  },
  {
   "cell_type": "code",
   "execution_count": 6,
   "id": "8459f7ff",
   "metadata": {},
   "outputs": [
    {
     "name": "stdout",
     "output_type": "stream",
     "text": [
      "[[2328    0    0    8]\n",
      " [   1    1    4    8]\n",
      " [3344    0    0    8]\n",
      " [   1    1    5    8]\n",
      " [ 183    0    0    8]\n",
      " [   1    1    5    8]\n",
      " [2579    0    0    8]\n",
      " [   1    1    5    8]\n",
      " [  28    0    0    8]\n",
      " [   1    0    3    8]]\n",
      "\n",
      "SNPtoSMC exec time 0.00054s\n"
     ]
    }
   ],
   "source": [
    "## mesure du temps prise par la fonction SNPtoSMC\n",
    "n = 1000\n",
    "data = loadfile(scenario=\"16844\", i=\"5\")\n",
    "SMC = SNPtoSMC(0, data['SNP'], data['POS'])\n",
    "print(SMC[:10])\n",
    "time = timeit(\"SNPtoSMC(0, data['SNP'], data['POS'])\", globals=globals(), number=n)/n\n",
    "print(f\"\\nSNPtoSMC exec time {time:.5f}s\")\n",
    "\n",
    "assert SMC[:, 0].any() > 0"
   ]
  },
  {
   "cell_type": "markdown",
   "id": "2d4e2c3e",
   "metadata": {},
   "source": [
    "La première fonction sert à générer tous les fichiers SMC pour toutes données.\n",
    "Alors que la seconde fonction c'est juste pour un scénario en particulier"
   ]
  },
  {
   "cell_type": "code",
   "execution_count": 7,
   "id": "0c06bf39",
   "metadata": {},
   "outputs": [],
   "source": [
    "def one_scenario(d=\"scenario_11687\", save_dir=\"smc_files\"):\n",
    "    if save_dir not in os.listdir():\n",
    "        os.mkdir(save_dir)\n",
    "    for file in os.listdir(\"hdgp/\" + d):\n",
    "        # chargement des données\n",
    "        data = np.load(\"hdgp/\" + d + \"/\" + file)\n",
    "        SNP, POS = data['SNP'], data['POS']\n",
    "        # remplace tous les 0 de la matrice de positions par des 1\n",
    "        POS[POS == 0] = 1 \n",
    "        # on récupère le nombre d'individus (on le suppose pair)\n",
    "        N = data['SNP'].shape[0]\n",
    "        N = N if N%2 == 0 else N - 1\n",
    "        # création du dossier du scénario\n",
    "        scenario_dir = save_dir + \"/\" + d\n",
    "        if d not in os.listdir(save_dir):\n",
    "            os.mkdir(scenario_dir)\n",
    "            \n",
    "        for dist in range(0, int(N/2)):\n",
    "            # pour chaque individu distingué, on crée un dossier qui contient les fichiers smc associés\n",
    "            dist_dir = scenario_dir + \"/\" + \"dist_\" + str(dist)\n",
    "            if \"dist_\" + str(dist) not in os.listdir(scenario_dir):\n",
    "                os.mkdir(dist_dir)\n",
    "            SMC = SNPtoSMC(dist, SNP, POS)\n",
    "            filename = dist_dir + \"/\" + file + str(dist) + \".smc\"\n",
    "            header = header_smc(\"hdgp\", dist, N)\n",
    "            np.savetxt(filename , SMC, delimiter=' ', fmt = \"%d\", header=header)\n",
    "            \n",
    "def one_scenario_compressed (d=\"scenario_11687\", save_dir=\"smc.gz_files\"):\n",
    "    if save_dir not in os.listdir():\n",
    "        os.mkdir(save_dir)\n",
    "    for file in os.listdir(\"hdgp/\" + d):\n",
    "        # chargement des données\n",
    "        data = np.load(\"hdgp/\" + d + \"/\" + file)\n",
    "        SNP, POS = data['SNP'], data['POS']\n",
    "        # remplace tous les 0 de la matrice de positions par des 1\n",
    "        POS[POS == 0] = 1 \n",
    "        # on récupère le nombre d'individus (on le suppose pair)\n",
    "        N = data['SNP'].shape[0]\n",
    "        N = N if N%2 == 0 else N - 1\n",
    "        # création du dossier du scénario\n",
    "        scenario_dir = save_dir + \"/\" + d\n",
    "        if d not in os.listdir(save_dir):\n",
    "            os.mkdir(scenario_dir)\n",
    "            \n",
    "        for dist in range(0, int(N/2)):\n",
    "            # pour chaque individu distingué, on crée un dossier qui contient les fichiers smc associés\n",
    "            dist_dir = scenario_dir + \"/\" + \"dist_\" + str(dist)\n",
    "            if \"dist_\" + str(dist) not in os.listdir(scenario_dir):\n",
    "                os.mkdir(dist_dir)\n",
    "            SMC = SNPtoSMC(dist, SNP, POS)\n",
    "            filename = dist_dir + \"/\" + file + str(dist) + \".smc.gz\"\n",
    "            header = header_smc(\"hdgp\", dist, N)\n",
    "            np.savetxt(filename , SMC, delimiter=' ', fmt = \"%d\", header=header)\n",
    "            \n",
    "def all_scenarios(multi_thread=False, compressed=True):\n",
    "    if(multi_thread):\n",
    "        num_cores = multiprocessing.cpu_count()\n",
    "        if not compressed:\n",
    "            Parallel(n_jobs=num_cores)(delayed(one_scenario)(d) for d in os.listdir(\"hdgp\"))\n",
    "        else: \n",
    "            Parallel(n_jobs=num_cores)(delayed(one_scenario_compressed)(d) for d in os.listdir(\"hdgp\"))\n",
    "    else:\n",
    "        for d in os.listdir(\"hdgp\"):\n",
    "            if not compressed:\n",
    "                one_scenario(d)\n",
    "            else:\n",
    "                one_scenario_compressed(d)\n"
   ]
  },
  {
   "cell_type": "code",
   "execution_count": 8,
   "id": "b319d739",
   "metadata": {},
   "outputs": [
    {
     "ename": "KeyboardInterrupt",
     "evalue": "",
     "output_type": "error",
     "traceback": [
      "\u001b[0;31m---------------------------------------------------------------------------\u001b[0m",
      "\u001b[0;31mKeyboardInterrupt\u001b[0m                         Traceback (most recent call last)",
      "\u001b[0;32m<ipython-input-8-4c3534cda9c9>\u001b[0m in \u001b[0;36m<module>\u001b[0;34m\u001b[0m\n\u001b[1;32m      1\u001b[0m \u001b[0mn\u001b[0m \u001b[0;34m=\u001b[0m \u001b[0;36m3\u001b[0m\u001b[0;34m\u001b[0m\u001b[0;34m\u001b[0m\u001b[0m\n\u001b[0;32m----> 2\u001b[0;31m \u001b[0mtime\u001b[0m \u001b[0;34m=\u001b[0m \u001b[0mtimeit\u001b[0m\u001b[0;34m(\u001b[0m\u001b[0;34m'one_scenario(\"scenario_6\")'\u001b[0m\u001b[0;34m,\u001b[0m \u001b[0mglobals\u001b[0m\u001b[0;34m=\u001b[0m\u001b[0mglobals\u001b[0m\u001b[0;34m(\u001b[0m\u001b[0;34m)\u001b[0m\u001b[0;34m,\u001b[0m \u001b[0mnumber\u001b[0m\u001b[0;34m=\u001b[0m\u001b[0mn\u001b[0m\u001b[0;34m)\u001b[0m\u001b[0;34m/\u001b[0m\u001b[0mn\u001b[0m\u001b[0;34m\u001b[0m\u001b[0;34m\u001b[0m\u001b[0m\n\u001b[0m\u001b[1;32m      3\u001b[0m \u001b[0mprint\u001b[0m\u001b[0;34m(\u001b[0m\u001b[0;34mf\"{time:.2f}s pour convertir tous les fichiers du scénario 6\"\u001b[0m\u001b[0;34m)\u001b[0m\u001b[0;34m\u001b[0m\u001b[0;34m\u001b[0m\u001b[0m\n\u001b[1;32m      4\u001b[0m \u001b[0mn\u001b[0m \u001b[0;34m=\u001b[0m \u001b[0;36m1\u001b[0m\u001b[0;34m\u001b[0m\u001b[0;34m\u001b[0m\u001b[0m\n\u001b[1;32m      5\u001b[0m \u001b[0;31m#time = timeit(\"all_scenarios(True)\", globals=globals(), number=n)/n\u001b[0m\u001b[0;34m\u001b[0m\u001b[0;34m\u001b[0m\u001b[0;34m\u001b[0m\u001b[0m\n",
      "\u001b[0;32m/usr/lib/python3.8/timeit.py\u001b[0m in \u001b[0;36mtimeit\u001b[0;34m(stmt, setup, timer, number, globals)\u001b[0m\n\u001b[1;32m    231\u001b[0m            number=default_number, globals=None):\n\u001b[1;32m    232\u001b[0m     \u001b[0;34m\"\"\"Convenience function to create Timer object and call timeit method.\"\"\"\u001b[0m\u001b[0;34m\u001b[0m\u001b[0;34m\u001b[0m\u001b[0m\n\u001b[0;32m--> 233\u001b[0;31m     \u001b[0;32mreturn\u001b[0m \u001b[0mTimer\u001b[0m\u001b[0;34m(\u001b[0m\u001b[0mstmt\u001b[0m\u001b[0;34m,\u001b[0m \u001b[0msetup\u001b[0m\u001b[0;34m,\u001b[0m \u001b[0mtimer\u001b[0m\u001b[0;34m,\u001b[0m \u001b[0mglobals\u001b[0m\u001b[0;34m)\u001b[0m\u001b[0;34m.\u001b[0m\u001b[0mtimeit\u001b[0m\u001b[0;34m(\u001b[0m\u001b[0mnumber\u001b[0m\u001b[0;34m)\u001b[0m\u001b[0;34m\u001b[0m\u001b[0;34m\u001b[0m\u001b[0m\n\u001b[0m\u001b[1;32m    234\u001b[0m \u001b[0;34m\u001b[0m\u001b[0m\n\u001b[1;32m    235\u001b[0m def repeat(stmt=\"pass\", setup=\"pass\", timer=default_timer,\n",
      "\u001b[0;32m/usr/lib/python3.8/timeit.py\u001b[0m in \u001b[0;36mtimeit\u001b[0;34m(self, number)\u001b[0m\n\u001b[1;32m    175\u001b[0m         \u001b[0mgc\u001b[0m\u001b[0;34m.\u001b[0m\u001b[0mdisable\u001b[0m\u001b[0;34m(\u001b[0m\u001b[0;34m)\u001b[0m\u001b[0;34m\u001b[0m\u001b[0;34m\u001b[0m\u001b[0m\n\u001b[1;32m    176\u001b[0m         \u001b[0;32mtry\u001b[0m\u001b[0;34m:\u001b[0m\u001b[0;34m\u001b[0m\u001b[0;34m\u001b[0m\u001b[0m\n\u001b[0;32m--> 177\u001b[0;31m             \u001b[0mtiming\u001b[0m \u001b[0;34m=\u001b[0m \u001b[0mself\u001b[0m\u001b[0;34m.\u001b[0m\u001b[0minner\u001b[0m\u001b[0;34m(\u001b[0m\u001b[0mit\u001b[0m\u001b[0;34m,\u001b[0m \u001b[0mself\u001b[0m\u001b[0;34m.\u001b[0m\u001b[0mtimer\u001b[0m\u001b[0;34m)\u001b[0m\u001b[0;34m\u001b[0m\u001b[0;34m\u001b[0m\u001b[0m\n\u001b[0m\u001b[1;32m    178\u001b[0m         \u001b[0;32mfinally\u001b[0m\u001b[0;34m:\u001b[0m\u001b[0;34m\u001b[0m\u001b[0;34m\u001b[0m\u001b[0m\n\u001b[1;32m    179\u001b[0m             \u001b[0;32mif\u001b[0m \u001b[0mgcold\u001b[0m\u001b[0;34m:\u001b[0m\u001b[0;34m\u001b[0m\u001b[0;34m\u001b[0m\u001b[0m\n",
      "\u001b[0;32m<timeit-src>\u001b[0m in \u001b[0;36minner\u001b[0;34m(_it, _timer)\u001b[0m\n",
      "\u001b[0;32m<ipython-input-7-b089b3589307>\u001b[0m in \u001b[0;36mone_scenario\u001b[0;34m(d, save_dir)\u001b[0m\n\u001b[1;32m     24\u001b[0m             \u001b[0mfilename\u001b[0m \u001b[0;34m=\u001b[0m \u001b[0mdist_dir\u001b[0m \u001b[0;34m+\u001b[0m \u001b[0;34m\"/\"\u001b[0m \u001b[0;34m+\u001b[0m \u001b[0mfile\u001b[0m \u001b[0;34m+\u001b[0m \u001b[0mstr\u001b[0m\u001b[0;34m(\u001b[0m\u001b[0mdist\u001b[0m\u001b[0;34m)\u001b[0m \u001b[0;34m+\u001b[0m \u001b[0;34m\".smc\"\u001b[0m\u001b[0;34m\u001b[0m\u001b[0;34m\u001b[0m\u001b[0m\n\u001b[1;32m     25\u001b[0m             \u001b[0mheader\u001b[0m \u001b[0;34m=\u001b[0m \u001b[0mheader_smc\u001b[0m\u001b[0;34m(\u001b[0m\u001b[0;34m\"hdgp\"\u001b[0m\u001b[0;34m,\u001b[0m \u001b[0mdist\u001b[0m\u001b[0;34m,\u001b[0m \u001b[0mN\u001b[0m\u001b[0;34m)\u001b[0m\u001b[0;34m\u001b[0m\u001b[0;34m\u001b[0m\u001b[0m\n\u001b[0;32m---> 26\u001b[0;31m             \u001b[0mnp\u001b[0m\u001b[0;34m.\u001b[0m\u001b[0msavetxt\u001b[0m\u001b[0;34m(\u001b[0m\u001b[0mfilename\u001b[0m \u001b[0;34m,\u001b[0m \u001b[0mSMC\u001b[0m\u001b[0;34m,\u001b[0m \u001b[0mdelimiter\u001b[0m\u001b[0;34m=\u001b[0m\u001b[0;34m' '\u001b[0m\u001b[0;34m,\u001b[0m \u001b[0mfmt\u001b[0m \u001b[0;34m=\u001b[0m \u001b[0;34m\"%d\"\u001b[0m\u001b[0;34m,\u001b[0m \u001b[0mheader\u001b[0m\u001b[0;34m=\u001b[0m\u001b[0mheader\u001b[0m\u001b[0;34m)\u001b[0m\u001b[0;34m\u001b[0m\u001b[0;34m\u001b[0m\u001b[0m\n\u001b[0m\u001b[1;32m     27\u001b[0m \u001b[0;34m\u001b[0m\u001b[0m\n\u001b[1;32m     28\u001b[0m \u001b[0;32mdef\u001b[0m \u001b[0mone_scenario_compressed\u001b[0m \u001b[0;34m(\u001b[0m\u001b[0md\u001b[0m\u001b[0;34m=\u001b[0m\u001b[0;34m\"scenario_11687\"\u001b[0m\u001b[0;34m,\u001b[0m \u001b[0msave_dir\u001b[0m\u001b[0;34m=\u001b[0m\u001b[0;34m\"smc.gz_files\"\u001b[0m\u001b[0;34m)\u001b[0m\u001b[0;34m:\u001b[0m\u001b[0;34m\u001b[0m\u001b[0;34m\u001b[0m\u001b[0m\n",
      "\u001b[0;32m<__array_function__ internals>\u001b[0m in \u001b[0;36msavetxt\u001b[0;34m(*args, **kwargs)\u001b[0m\n",
      "\u001b[0;32m~/.local/lib/python3.8/site-packages/numpy/lib/npyio.py\u001b[0m in \u001b[0;36msavetxt\u001b[0;34m(fname, X, fmt, delimiter, newline, header, footer, comments, encoding)\u001b[0m\n\u001b[1;32m   1431\u001b[0m             \u001b[0;32mfor\u001b[0m \u001b[0mrow\u001b[0m \u001b[0;32min\u001b[0m \u001b[0mX\u001b[0m\u001b[0;34m:\u001b[0m\u001b[0;34m\u001b[0m\u001b[0;34m\u001b[0m\u001b[0m\n\u001b[1;32m   1432\u001b[0m                 \u001b[0;32mtry\u001b[0m\u001b[0;34m:\u001b[0m\u001b[0;34m\u001b[0m\u001b[0;34m\u001b[0m\u001b[0m\n\u001b[0;32m-> 1433\u001b[0;31m                     \u001b[0mv\u001b[0m \u001b[0;34m=\u001b[0m \u001b[0mformat\u001b[0m \u001b[0;34m%\u001b[0m \u001b[0mtuple\u001b[0m\u001b[0;34m(\u001b[0m\u001b[0mrow\u001b[0m\u001b[0;34m)\u001b[0m \u001b[0;34m+\u001b[0m \u001b[0mnewline\u001b[0m\u001b[0;34m\u001b[0m\u001b[0;34m\u001b[0m\u001b[0m\n\u001b[0m\u001b[1;32m   1434\u001b[0m                 \u001b[0;32mexcept\u001b[0m \u001b[0mTypeError\u001b[0m \u001b[0;32mas\u001b[0m \u001b[0me\u001b[0m\u001b[0;34m:\u001b[0m\u001b[0;34m\u001b[0m\u001b[0;34m\u001b[0m\u001b[0m\n\u001b[1;32m   1435\u001b[0m                     raise TypeError(\"Mismatch between array dtype ('%s') and \"\n",
      "\u001b[0;31mKeyboardInterrupt\u001b[0m: "
     ]
    }
   ],
   "source": [
    "n = 3\n",
    "time = timeit('one_scenario(\"scenario_6\")', globals=globals(), number=n)/n\n",
    "print(f\"{time:.2f}s pour convertir tous les fichiers du scénario 6\")\n",
    "n = 1\n",
    "#time = timeit(\"all_scenarios(True)\", globals=globals(), number=n)/n\n",
    "#print(f\"{time:.2f}s pour convertir tous les scénarios\")"
   ]
  },
  {
   "cell_type": "code",
   "execution_count": 9,
   "id": "7c6227d8",
   "metadata": {},
   "outputs": [],
   "source": [
    "n = 3\n",
    "#time = timeit('one_scenario(\"scenario_6\")', globals=globals(), number=n)/n\n",
    "#print(f\"{tim:.2f}s pour convertir tous les fichiers du scénario 6\")"
   ]
  },
  {
   "cell_type": "markdown",
   "id": "a4a5ad1d",
   "metadata": {},
   "source": [
    "**Le scenario 157 est assez lourd**"
   ]
  },
  {
   "cell_type": "code",
   "execution_count": 10,
   "id": "7af0e6ec",
   "metadata": {},
   "outputs": [],
   "source": [
    "n = 3\n",
    "#time = timeit('one_scenario(\"scenario_157\")', globals=globals(), number=n)/n\n",
    "#print(f\"{time:.2f}s pour convertir tous les fichiers du scénario 157\")"
   ]
  },
  {
   "cell_type": "markdown",
   "id": "5e7f6d1a",
   "metadata": {},
   "source": [
    "**Le scenario 565 est assez léger**"
   ]
  },
  {
   "cell_type": "code",
   "execution_count": 11,
   "id": "2f228773",
   "metadata": {},
   "outputs": [],
   "source": [
    "n = 3\n",
    "#time = timeit('one_scenario(\"scenario_565\")', globals=globals(), number=n)/n\n",
    "#print(f\"{time:.2f}s pour convertir tous les fichiers du scénario 565\")"
   ]
  },
  {
   "cell_type": "markdown",
   "id": "64cc2ced",
   "metadata": {},
   "source": [
    "## Transformations de tous les scénarios au format smc compressé"
   ]
  },
  {
   "cell_type": "code",
   "execution_count": 12,
   "id": "575349ed",
   "metadata": {},
   "outputs": [],
   "source": [
    "n = 1\n",
    "#time = timeit(\"all_scenarios(True)\", globals=globals(), number=n)/n\n",
    "#print(f\"{time:.2f}s pour convertir tous les scénarios\")"
   ]
  },
  {
   "cell_type": "markdown",
   "id": "1e223344",
   "metadata": {},
   "source": [
    "# III- Vérification"
   ]
  },
  {
   "cell_type": "code",
   "execution_count": 19,
   "id": "c9b34ccf",
   "metadata": {},
   "outputs": [],
   "source": [
    "def loadfile_vcf(scenario, i, path=\"data_hdgp_2mb_vcf/hdgp/scenario_\"):\n",
    "    file_name = path + scenario +\"/hdgp_\" + scenario + \"_\" + str(i) + \".vcf\"\n",
    "    data = np.load(file_name)\n",
    "    return data"
   ]
  },
  {
   "cell_type": "code",
   "execution_count": 20,
   "id": "e4b5d53a",
   "metadata": {},
   "outputs": [],
   "source": [
    "scenario_dir = \"data_hdgp_2mb_vcf/hdgp/scenario_\"\n",
    "scn = \"0\"\n",
    "index = \"5\""
   ]
  },
  {
   "cell_type": "code",
   "execution_count": 21,
   "id": "89e18e0e",
   "metadata": {},
   "outputs": [],
   "source": [
    "data = loadfile(scenario=scn, i=index, path= scenario_dir )\n",
    "SMC = SNPtoSMC(0, data['SNP'], data['POS'])"
   ]
  },
  {
   "cell_type": "markdown",
   "id": "ac81d727",
   "metadata": {},
   "source": [
    "**Ces commandes fonctionnent**"
   ]
  },
  {
   "cell_type": "markdown",
   "id": "03c97d9c",
   "metadata": {},
   "source": [
    "bgzip -c Adygei_hgdp_wgs.20190516.full.chr21.vcf > Adygei_hgdp_wgs.20190516.full.chr21.vcf.gz"
   ]
  },
  {
   "cell_type": "markdown",
   "id": "17d28904",
   "metadata": {},
   "source": [
    "tabix -p vcf Adygei_hgdp_wgs.20190516.full.chr21.vcf.gz"
   ]
  },
  {
   "cell_type": "markdown",
   "id": "f8737c02",
   "metadata": {},
   "source": [
    "smc++ vcf2smc Adygei_hgdp_wgs.20190516.full.chr21.vcf.gz output.smc chr21 adygei:HGDP01396,HGDP01402"
   ]
  },
  {
   "cell_type": "code",
   "execution_count": 42,
   "id": "68c44c1d",
   "metadata": {},
   "outputs": [
    {
     "name": "stdout",
     "output_type": "stream",
     "text": [
      "running : smc++ vcf2smc data_hdgp_2mb_vcf/hdgp/scenario_0/hdgp_0_5.vcf  data_hdgp_2mb_vcf/hdgp/scenario_0/hdgp_0_5_conv.smc tskit:tsk_0 \n",
      "\n",
      " b'' b'usage: smc++ vcf2smc [-h] [-v] [--cores CORES] [-d sample_id sample_id]\\n                     [--length LENGTH] [--ignore-missing] [--missing-cutoff c]\\n                     [--mask MASK] [--drop-first-last]\\n                     vcf.gz out[.gz] contig pop1 [pop2]\\nsmc++ vcf2smc: error: the following arguments are required: pop1\\n'\n"
     ]
    }
   ],
   "source": [
    "command = f'smc++ vcf2smc {scenario_dir}{scn}/hdgp_{scn}_{str(index)}.vcf  {scenario_dir}{scn}/hdgp_{scn}_{str(index)}_conv.smc tskit:tsk_0 ' \n",
    "print(f\"running : {command}\")\n",
    "# plot the result\n",
    "process = subprocess.Popen(command_plot, shell=True, stdout=subprocess.PIPE, stderr=subprocess.PIPE)\n",
    "stdout, stderr = process.communicate()\n",
    "print(\"\\n\",stdout, stderr)"
   ]
  },
  {
   "cell_type": "code",
   "execution_count": 40,
   "id": "794a5303",
   "metadata": {},
   "outputs": [],
   "source": [
    "t = \"tsk_0\ttsk_1\ttsk_2\ttsk_3\ttsk_4\ttsk_5\ttsk_6\ttsk_7\ttsk_8\ttsk_9\ttsk_10\ttsk_11\ttsk_12\ttsk_13\ttsk_14\ttsk_15\ttsk_16\ttsk_17\ttsk_18\ttsk_19\ttsk_20\ttsk_21\ttsk_22\ttsk_23\ttsk_24\ttsk_25\ttsk_26\ttsk_27\ttsk_28\ttsk_29\ttsk_30\""
   ]
  },
  {
   "cell_type": "code",
   "execution_count": 41,
   "id": "63ac772c",
   "metadata": {},
   "outputs": [
    {
     "name": "stdout",
     "output_type": "stream",
     "text": [
      "tsk_0,tsk_1,tsk_2,tsk_3,tsk_4,tsk_5,tsk_6,tsk_7,tsk_8,tsk_9,tsk_10,tsk_11,tsk_12,tsk_13,tsk_14,tsk_15,tsk_16,tsk_17,tsk_18,tsk_19,tsk_20,tsk_21,tsk_22,tsk_23,tsk_24,tsk_25,tsk_26,tsk_27,tsk_28,tsk_29,tsk_30\n"
     ]
    }
   ],
   "source": [
    "res = \"\"\n",
    "for i in t:\n",
    "    if i != \"\t\":\n",
    "        res+= i\n",
    "    else:\n",
    "        res+=\",\"\n",
    "        \n",
    "print(res)"
   ]
  },
  {
   "cell_type": "code",
   "execution_count": 46,
   "id": "671b97c8",
   "metadata": {},
   "outputs": [],
   "source": [
    "command1 = \"bgzip -c data_hdgp_2mb_vcf/hdgp/scenario_0/hdgp_0_0.vcf > data_hdgp_2mb_vcf/hdgp/scenario_0/hdgp_0_0.gz\""
   ]
  },
  {
   "cell_type": "code",
   "execution_count": 47,
   "id": "b4cc68f7",
   "metadata": {},
   "outputs": [],
   "source": [
    "command2 = \"tabix -p vcf data_hdgp_2mb_vcf/hdgp/scenario_0/hdgp_0_0.gz\""
   ]
  },
  {
   "cell_type": "code",
   "execution_count": 48,
   "id": "81d07376",
   "metadata": {},
   "outputs": [],
   "source": [
    "command3 = \"smc++ vcf2smc data_hdgp_2mb_vcf/hdgp/scenario_0/hdgp_0_0.gz output.smc 1 adygei:tsk_0,tsk_1,tsk_2,tsk_3,tsk_4,tsk_5,tsk_6,tsk_7,tsk_8,tsk_9,tsk_10,tsk_11,tsk_12,tsk_13,tsk_14,tsk_15,tsk_16,tsk_17,tsk_18,tsk_19,tsk_20,tsk_21,tsk_22,tsk_23,tsk_24,tsk_25,tsk_26,tsk_27,tsk_28,tsk_29,tsk_30\""
   ]
  },
  {
   "cell_type": "code",
   "execution_count": 64,
   "id": "0fae2cbd",
   "metadata": {},
   "outputs": [
    {
     "name": "stdout",
     "output_type": "stream",
     "text": [
      "\n",
      " b'' b''\n"
     ]
    }
   ],
   "source": [
    "process = subprocess.Popen(command1, shell=True, stdout=subprocess.PIPE, stderr=subprocess.PIPE)\n",
    "stdout, stderr = process.communicate()\n",
    "print(\"\\n\",stdout, stderr)"
   ]
  },
  {
   "cell_type": "markdown",
   "id": "48599480",
   "metadata": {},
   "source": [
    "**Ici commande qui pose problème**"
   ]
  },
  {
   "cell_type": "code",
   "execution_count": 65,
   "id": "49f48ff7",
   "metadata": {},
   "outputs": [
    {
     "name": "stdout",
     "output_type": "stream",
     "text": [
      "\n",
      " b'' b'[E::hts_idx_check_range] Region 1165930710..1165930711 cannot be stored in a tbi index. Try using a csi index with min_shift = 14, n_lvls >= 6\\ntbx_index_build failed: data_hdgp_2mb_vcf/hdgp/scenario_0/hdgp_0_0.gz\\n'\n"
     ]
    }
   ],
   "source": [
    "process = subprocess.Popen(command2, shell=True, stdout=subprocess.PIPE, stderr=subprocess.PIPE)\n",
    "stdout, stderr = process.communicate()\n",
    "print(\"\\n\",stdout, stderr)"
   ]
  },
  {
   "cell_type": "markdown",
   "id": "e759b957",
   "metadata": {},
   "source": [
    "**On peut résoudre le problème de la façon suivante**"
   ]
  },
  {
   "cell_type": "code",
   "execution_count": 66,
   "id": "723d095d",
   "metadata": {},
   "outputs": [
    {
     "name": "stdout",
     "output_type": "stream",
     "text": [
      "\n",
      " b'' b'\\nVersion: 1.10.2-3\\nUsage:   tabix [OPTIONS] [FILE] [REGION [...]]\\n\\nIndexing Options:\\n   -0, --zero-based           coordinates are zero-based\\n   -b, --begin INT            column number for region start [4]\\n   -c, --comment CHAR         skip comment lines starting with CHAR [null]\\n   -C, --csi                  generate CSI index for VCF (default is TBI)\\n   -e, --end INT              column number for region end (if no end, set INT to -b) [5]\\n   -f, --force                overwrite existing index without asking\\n   -m, --min-shift INT        set minimal interval size for CSI indices to 2^INT [14]\\n   -p, --preset STR           gff, bed, sam, vcf\\n   -s, --sequence INT         column number for sequence names (suppressed by -p) [1]\\n   -S, --skip-lines INT       skip first INT lines [0]\\n\\nQuerying and other options:\\n   -h, --print-header         print also the header lines\\n   -H, --only-header          print only the header lines\\n   -l, --list-chroms          list chromosome names\\n   -r, --reheader FILE        replace the header with the content of FILE\\n   -R, --regions FILE         restrict to regions listed in the file\\n   -T, --targets FILE         similar to -R but streams rather than index-jumps\\n   -D                         do not download the index file\\n\\n'\n"
     ]
    }
   ],
   "source": [
    "command2_fix = \"tabix -c data_hdgp_2mb_vcf/hdgp/scenario_0/hdgp_0_0.gz\"\n",
    "process = subprocess.Popen(command2_fix, shell=True, stdout=subprocess.PIPE, stderr=subprocess.PIPE)\n",
    "stdout, stderr = process.communicate()\n",
    "print(\"\\n\",stdout, stderr)"
   ]
  },
  {
   "cell_type": "markdown",
   "id": "f4057dae",
   "metadata": {},
   "source": [
    "# III- Prédictions"
   ]
  },
  {
   "cell_type": "code",
   "execution_count": 6,
   "id": "75ac9155",
   "metadata": {},
   "outputs": [],
   "source": [
    "def run_smc_estimate(scenario, out_dir=\"out\", display=False):\n",
    "    scenario_dir = f\"smc.gz_files/{scenario}\"\n",
    "    scenario_out_dir = f\"{out_dir}/{scenario}\"\n",
    "    if out_dir not in os.listdir():\n",
    "        os.mkdir(out_dir)\n",
    "    if scenario not in os.listdir(out_dir):\n",
    "        os.mkdir(scenario_out_dir)\n",
    "    for dist in os.listdir(scenario_dir):\n",
    "        scenario_out_dist_dir = f\"{scenario_out_dir}/{dist}\"\n",
    "        if dist not in os.listdir(scenario_out_dir):\n",
    "            os.mkdir(scenario_out_dist_dir)\n",
    "        command_estimate = f'smc++ estimate 1.45e-08 --knots 21 --timepoints 0 34483 -o {scenario_out_dist_dir} {scenario_dir}/{dist}/*.gz'\n",
    "        command_plot = f'smc++ plot {scenario_out_dist_dir}/plot.png {scenario_out_dist_dir}/model.final.json' \n",
    "        print(f\"running : {command_estimate}\")\n",
    "        # estimate\n",
    "        process = subprocess.Popen(command_estimate, shell=True,  stdout=subprocess.PIPE, stderr=subprocess.PIPE, universal_newlines=True)\n",
    "        stdout, stderr = process.communicate()\n",
    "        if(display):\n",
    "            print(stdout, stderr)\n",
    "        # plot the result\n",
    "        process = subprocess.Popen(command_plot, shell=True, stdout=subprocess.PIPE, stderr=subprocess.PIPE)\n",
    "        stdout, stderr = process.communicate()"
   ]
  },
  {
   "cell_type": "markdown",
   "id": "f43f9686",
   "metadata": {},
   "source": [
    "### Utilie pour faire les fichiers dont on a besoin"
   ]
  },
  {
   "cell_type": "code",
   "execution_count": 33,
   "id": "f87acb83",
   "metadata": {},
   "outputs": [
    {
     "name": "stdout",
     "output_type": "stream",
     "text": [
      "running : smc++ estimate 1.45e-08 --knots 22 --timepoints 0 34483 -o out/scenario_11687/dist_0 smc.gz_files/scenario_11687/dist_0/*.gz\n",
      "running : smc++ estimate 1.45e-08 --knots 22 --timepoints 0 34483 -o out/scenario_11687/dist_1 smc.gz_files/scenario_11687/dist_1/*.gz\n",
      "running : smc++ estimate 1.45e-08 --knots 22 --timepoints 0 34483 -o out/scenario_11687/dist_2 smc.gz_files/scenario_11687/dist_2/*.gz\n",
      "running : smc++ estimate 1.45e-08 --knots 22 --timepoints 0 34483 -o out/scenario_11687/dist_3 smc.gz_files/scenario_11687/dist_3/*.gz\n",
      "running : smc++ estimate 1.45e-08 --knots 22 --timepoints 0 34483 -o out/scenario_11687/dist_4 smc.gz_files/scenario_11687/dist_4/*.gz\n",
      "running : smc++ estimate 1.45e-08 --knots 22 --timepoints 0 34483 -o out/scenario_11687/dist_5 smc.gz_files/scenario_11687/dist_5/*.gz\n",
      "1973.42s smc\n"
     ]
    }
   ],
   "source": [
    "n = 1\n",
    "time = timeit('run_smc_estimate(\"scenario_11687\", display=False)', globals=globals(), number=n)/n\n",
    "print(f\"{time:.2f}s smc\")"
   ]
  },
  {
   "cell_type": "code",
   "execution_count": 1,
   "id": "fca53e3f",
   "metadata": {},
   "outputs": [],
   "source": [
    "def plot_csv_results(i,save_path):\n",
    "    \"\"\"\n",
    "    i : numéro du scénario\n",
    "    \"\"\"\n",
    "    fig, ax = plt.subplots(1, 1)\n",
    "    results_deep = np.genfromtxt('hdgp_demo_parameters_subsample.csv',delimiter=',', dtype=int)\n",
    "    X = results_deep[1,6:27]\n",
    "    ids = np.argwhere(results_deep[:,0] == i)\n",
    "    Y = results_deep[ids,27:].flatten()\n",
    "    X2 = np.zeros(2*X.size, dtype=int)\n",
    "    Y2 = np.zeros(2*Y.size, dtype=int)\n",
    "    X2[1::2], X2[::2] = X, X\n",
    "    Y2[1::2], Y2[::2] = Y, Y\n",
    "    X2 = X2[1:]\n",
    "    Y2 = Y2[:-1]\n",
    "    ax.plot(X2, Y2, label=f\"scénario_{i}\")\n",
    "    ax.set_yscale('log')\n",
    "    ax.legend()\n",
    "    plt.savefig(f'{save_path}/{i} .png')"
   ]
  },
  {
   "cell_type": "code",
   "execution_count": 4,
   "id": "ed363301",
   "metadata": {},
   "outputs": [
    {
     "ename": "FileNotFoundError",
     "evalue": "[Errno 2] No such file or directory: 'plot/11687 .png'",
     "output_type": "error",
     "traceback": [
      "\u001b[0;31m---------------------------------------------------------------------------\u001b[0m",
      "\u001b[0;31mFileNotFoundError\u001b[0m                         Traceback (most recent call last)",
      "\u001b[0;32m<ipython-input-4-f2569b91dc97>\u001b[0m in \u001b[0;36m<module>\u001b[0;34m\u001b[0m\n\u001b[0;32m----> 1\u001b[0;31m \u001b[0mplot_csv_results\u001b[0m\u001b[0;34m(\u001b[0m\u001b[0;36m11687\u001b[0m\u001b[0;34m,\u001b[0m\u001b[0;34m'plot'\u001b[0m\u001b[0;34m)\u001b[0m\u001b[0;34m\u001b[0m\u001b[0;34m\u001b[0m\u001b[0m\n\u001b[0m",
      "\u001b[0;32m<ipython-input-1-bfe13ab63bbe>\u001b[0m in \u001b[0;36mplot_csv_results\u001b[0;34m(i, save_path)\u001b[0m\n\u001b[1;32m     17\u001b[0m     \u001b[0max\u001b[0m\u001b[0;34m.\u001b[0m\u001b[0mset_yscale\u001b[0m\u001b[0;34m(\u001b[0m\u001b[0;34m'log'\u001b[0m\u001b[0;34m)\u001b[0m\u001b[0;34m\u001b[0m\u001b[0;34m\u001b[0m\u001b[0m\n\u001b[1;32m     18\u001b[0m     \u001b[0max\u001b[0m\u001b[0;34m.\u001b[0m\u001b[0mlegend\u001b[0m\u001b[0;34m(\u001b[0m\u001b[0;34m)\u001b[0m\u001b[0;34m\u001b[0m\u001b[0;34m\u001b[0m\u001b[0m\n\u001b[0;32m---> 19\u001b[0;31m     \u001b[0mplt\u001b[0m\u001b[0;34m.\u001b[0m\u001b[0msavefig\u001b[0m\u001b[0;34m(\u001b[0m\u001b[0;34mf'{save_path}/{i} .png'\u001b[0m\u001b[0;34m)\u001b[0m\u001b[0;34m\u001b[0m\u001b[0;34m\u001b[0m\u001b[0m\n\u001b[0m",
      "\u001b[0;32m/usr/lib/python3.9/site-packages/matplotlib/pyplot.py\u001b[0m in \u001b[0;36msavefig\u001b[0;34m(*args, **kwargs)\u001b[0m\n\u001b[1;32m    935\u001b[0m \u001b[0;32mdef\u001b[0m \u001b[0msavefig\u001b[0m\u001b[0;34m(\u001b[0m\u001b[0;34m*\u001b[0m\u001b[0margs\u001b[0m\u001b[0;34m,\u001b[0m \u001b[0;34m**\u001b[0m\u001b[0mkwargs\u001b[0m\u001b[0;34m)\u001b[0m\u001b[0;34m:\u001b[0m\u001b[0;34m\u001b[0m\u001b[0;34m\u001b[0m\u001b[0m\n\u001b[1;32m    936\u001b[0m     \u001b[0mfig\u001b[0m \u001b[0;34m=\u001b[0m \u001b[0mgcf\u001b[0m\u001b[0;34m(\u001b[0m\u001b[0;34m)\u001b[0m\u001b[0;34m\u001b[0m\u001b[0;34m\u001b[0m\u001b[0m\n\u001b[0;32m--> 937\u001b[0;31m     \u001b[0mres\u001b[0m \u001b[0;34m=\u001b[0m \u001b[0mfig\u001b[0m\u001b[0;34m.\u001b[0m\u001b[0msavefig\u001b[0m\u001b[0;34m(\u001b[0m\u001b[0;34m*\u001b[0m\u001b[0margs\u001b[0m\u001b[0;34m,\u001b[0m \u001b[0;34m**\u001b[0m\u001b[0mkwargs\u001b[0m\u001b[0;34m)\u001b[0m\u001b[0;34m\u001b[0m\u001b[0;34m\u001b[0m\u001b[0m\n\u001b[0m\u001b[1;32m    938\u001b[0m     \u001b[0mfig\u001b[0m\u001b[0;34m.\u001b[0m\u001b[0mcanvas\u001b[0m\u001b[0;34m.\u001b[0m\u001b[0mdraw_idle\u001b[0m\u001b[0;34m(\u001b[0m\u001b[0;34m)\u001b[0m   \u001b[0;31m# need this if 'transparent=True' to reset colors\u001b[0m\u001b[0;34m\u001b[0m\u001b[0;34m\u001b[0m\u001b[0m\n\u001b[1;32m    939\u001b[0m     \u001b[0;32mreturn\u001b[0m \u001b[0mres\u001b[0m\u001b[0;34m\u001b[0m\u001b[0;34m\u001b[0m\u001b[0m\n",
      "\u001b[0;32m/usr/lib/python3.9/site-packages/matplotlib/figure.py\u001b[0m in \u001b[0;36msavefig\u001b[0;34m(self, fname, transparent, **kwargs)\u001b[0m\n\u001b[1;32m   2960\u001b[0m                 \u001b[0mpatch\u001b[0m\u001b[0;34m.\u001b[0m\u001b[0mset_edgecolor\u001b[0m\u001b[0;34m(\u001b[0m\u001b[0;34m'none'\u001b[0m\u001b[0;34m)\u001b[0m\u001b[0;34m\u001b[0m\u001b[0;34m\u001b[0m\u001b[0m\n\u001b[1;32m   2961\u001b[0m \u001b[0;34m\u001b[0m\u001b[0m\n\u001b[0;32m-> 2962\u001b[0;31m         \u001b[0mself\u001b[0m\u001b[0;34m.\u001b[0m\u001b[0mcanvas\u001b[0m\u001b[0;34m.\u001b[0m\u001b[0mprint_figure\u001b[0m\u001b[0;34m(\u001b[0m\u001b[0mfname\u001b[0m\u001b[0;34m,\u001b[0m \u001b[0;34m**\u001b[0m\u001b[0mkwargs\u001b[0m\u001b[0;34m)\u001b[0m\u001b[0;34m\u001b[0m\u001b[0;34m\u001b[0m\u001b[0m\n\u001b[0m\u001b[1;32m   2963\u001b[0m \u001b[0;34m\u001b[0m\u001b[0m\n\u001b[1;32m   2964\u001b[0m         \u001b[0;32mif\u001b[0m \u001b[0mtransparent\u001b[0m\u001b[0;34m:\u001b[0m\u001b[0;34m\u001b[0m\u001b[0;34m\u001b[0m\u001b[0m\n",
      "\u001b[0;32m/usr/lib/python3.9/site-packages/matplotlib/backend_bases.py\u001b[0m in \u001b[0;36mprint_figure\u001b[0;34m(self, filename, dpi, facecolor, edgecolor, orientation, format, bbox_inches, pad_inches, bbox_extra_artists, backend, **kwargs)\u001b[0m\n\u001b[1;32m   2253\u001b[0m                 \u001b[0;31m# force the figure dpi to 72), so we need to set it again here.\u001b[0m\u001b[0;34m\u001b[0m\u001b[0;34m\u001b[0m\u001b[0;34m\u001b[0m\u001b[0m\n\u001b[1;32m   2254\u001b[0m                 \u001b[0;32mwith\u001b[0m \u001b[0mcbook\u001b[0m\u001b[0;34m.\u001b[0m\u001b[0m_setattr_cm\u001b[0m\u001b[0;34m(\u001b[0m\u001b[0mself\u001b[0m\u001b[0;34m.\u001b[0m\u001b[0mfigure\u001b[0m\u001b[0;34m,\u001b[0m \u001b[0mdpi\u001b[0m\u001b[0;34m=\u001b[0m\u001b[0mdpi\u001b[0m\u001b[0;34m)\u001b[0m\u001b[0;34m:\u001b[0m\u001b[0;34m\u001b[0m\u001b[0;34m\u001b[0m\u001b[0m\n\u001b[0;32m-> 2255\u001b[0;31m                     result = print_method(\n\u001b[0m\u001b[1;32m   2256\u001b[0m                         \u001b[0mfilename\u001b[0m\u001b[0;34m,\u001b[0m\u001b[0;34m\u001b[0m\u001b[0;34m\u001b[0m\u001b[0m\n\u001b[1;32m   2257\u001b[0m                         \u001b[0mfacecolor\u001b[0m\u001b[0;34m=\u001b[0m\u001b[0mfacecolor\u001b[0m\u001b[0;34m,\u001b[0m\u001b[0;34m\u001b[0m\u001b[0;34m\u001b[0m\u001b[0m\n",
      "\u001b[0;32m/usr/lib/python3.9/site-packages/matplotlib/backend_bases.py\u001b[0m in \u001b[0;36mwrapper\u001b[0;34m(*args, **kwargs)\u001b[0m\n\u001b[1;32m   1667\u001b[0m             \u001b[0mkwargs\u001b[0m\u001b[0;34m.\u001b[0m\u001b[0mpop\u001b[0m\u001b[0;34m(\u001b[0m\u001b[0marg\u001b[0m\u001b[0;34m)\u001b[0m\u001b[0;34m\u001b[0m\u001b[0;34m\u001b[0m\u001b[0m\n\u001b[1;32m   1668\u001b[0m \u001b[0;34m\u001b[0m\u001b[0m\n\u001b[0;32m-> 1669\u001b[0;31m         \u001b[0;32mreturn\u001b[0m \u001b[0mfunc\u001b[0m\u001b[0;34m(\u001b[0m\u001b[0;34m*\u001b[0m\u001b[0margs\u001b[0m\u001b[0;34m,\u001b[0m \u001b[0;34m**\u001b[0m\u001b[0mkwargs\u001b[0m\u001b[0;34m)\u001b[0m\u001b[0;34m\u001b[0m\u001b[0;34m\u001b[0m\u001b[0m\n\u001b[0m\u001b[1;32m   1670\u001b[0m \u001b[0;34m\u001b[0m\u001b[0m\n\u001b[1;32m   1671\u001b[0m     \u001b[0;32mreturn\u001b[0m \u001b[0mwrapper\u001b[0m\u001b[0;34m\u001b[0m\u001b[0;34m\u001b[0m\u001b[0m\n",
      "\u001b[0;32m/usr/lib/python3.9/site-packages/matplotlib/backends/backend_agg.py\u001b[0m in \u001b[0;36mprint_png\u001b[0;34m(self, filename_or_obj, metadata, pil_kwargs, *args)\u001b[0m\n\u001b[1;32m    507\u001b[0m         \"\"\"\n\u001b[1;32m    508\u001b[0m         \u001b[0mFigureCanvasAgg\u001b[0m\u001b[0;34m.\u001b[0m\u001b[0mdraw\u001b[0m\u001b[0;34m(\u001b[0m\u001b[0mself\u001b[0m\u001b[0;34m)\u001b[0m\u001b[0;34m\u001b[0m\u001b[0;34m\u001b[0m\u001b[0m\n\u001b[0;32m--> 509\u001b[0;31m         mpl.image.imsave(\n\u001b[0m\u001b[1;32m    510\u001b[0m             \u001b[0mfilename_or_obj\u001b[0m\u001b[0;34m,\u001b[0m \u001b[0mself\u001b[0m\u001b[0;34m.\u001b[0m\u001b[0mbuffer_rgba\u001b[0m\u001b[0;34m(\u001b[0m\u001b[0;34m)\u001b[0m\u001b[0;34m,\u001b[0m \u001b[0mformat\u001b[0m\u001b[0;34m=\u001b[0m\u001b[0;34m\"png\"\u001b[0m\u001b[0;34m,\u001b[0m \u001b[0morigin\u001b[0m\u001b[0;34m=\u001b[0m\u001b[0;34m\"upper\"\u001b[0m\u001b[0;34m,\u001b[0m\u001b[0;34m\u001b[0m\u001b[0;34m\u001b[0m\u001b[0m\n\u001b[1;32m    511\u001b[0m             dpi=self.figure.dpi, metadata=metadata, pil_kwargs=pil_kwargs)\n",
      "\u001b[0;32m/usr/lib/python3.9/site-packages/matplotlib/image.py\u001b[0m in \u001b[0;36mimsave\u001b[0;34m(fname, arr, vmin, vmax, cmap, format, origin, dpi, metadata, pil_kwargs)\u001b[0m\n\u001b[1;32m   1614\u001b[0m         \u001b[0mpil_kwargs\u001b[0m\u001b[0;34m.\u001b[0m\u001b[0msetdefault\u001b[0m\u001b[0;34m(\u001b[0m\u001b[0;34m\"format\"\u001b[0m\u001b[0;34m,\u001b[0m \u001b[0mformat\u001b[0m\u001b[0;34m)\u001b[0m\u001b[0;34m\u001b[0m\u001b[0;34m\u001b[0m\u001b[0m\n\u001b[1;32m   1615\u001b[0m         \u001b[0mpil_kwargs\u001b[0m\u001b[0;34m.\u001b[0m\u001b[0msetdefault\u001b[0m\u001b[0;34m(\u001b[0m\u001b[0;34m\"dpi\"\u001b[0m\u001b[0;34m,\u001b[0m \u001b[0;34m(\u001b[0m\u001b[0mdpi\u001b[0m\u001b[0;34m,\u001b[0m \u001b[0mdpi\u001b[0m\u001b[0;34m)\u001b[0m\u001b[0;34m)\u001b[0m\u001b[0;34m\u001b[0m\u001b[0;34m\u001b[0m\u001b[0m\n\u001b[0;32m-> 1616\u001b[0;31m         \u001b[0mimage\u001b[0m\u001b[0;34m.\u001b[0m\u001b[0msave\u001b[0m\u001b[0;34m(\u001b[0m\u001b[0mfname\u001b[0m\u001b[0;34m,\u001b[0m \u001b[0;34m**\u001b[0m\u001b[0mpil_kwargs\u001b[0m\u001b[0;34m)\u001b[0m\u001b[0;34m\u001b[0m\u001b[0;34m\u001b[0m\u001b[0m\n\u001b[0m\u001b[1;32m   1617\u001b[0m \u001b[0;34m\u001b[0m\u001b[0m\n\u001b[1;32m   1618\u001b[0m \u001b[0;34m\u001b[0m\u001b[0m\n",
      "\u001b[0;32m/usr/lib/python3.9/site-packages/PIL/Image.py\u001b[0m in \u001b[0;36msave\u001b[0;34m(self, fp, format, **params)\u001b[0m\n\u001b[1;32m   2167\u001b[0m                 \u001b[0mfp\u001b[0m \u001b[0;34m=\u001b[0m \u001b[0mbuiltins\u001b[0m\u001b[0;34m.\u001b[0m\u001b[0mopen\u001b[0m\u001b[0;34m(\u001b[0m\u001b[0mfilename\u001b[0m\u001b[0;34m,\u001b[0m \u001b[0;34m\"r+b\"\u001b[0m\u001b[0;34m)\u001b[0m\u001b[0;34m\u001b[0m\u001b[0;34m\u001b[0m\u001b[0m\n\u001b[1;32m   2168\u001b[0m             \u001b[0;32melse\u001b[0m\u001b[0;34m:\u001b[0m\u001b[0;34m\u001b[0m\u001b[0;34m\u001b[0m\u001b[0m\n\u001b[0;32m-> 2169\u001b[0;31m                 \u001b[0mfp\u001b[0m \u001b[0;34m=\u001b[0m \u001b[0mbuiltins\u001b[0m\u001b[0;34m.\u001b[0m\u001b[0mopen\u001b[0m\u001b[0;34m(\u001b[0m\u001b[0mfilename\u001b[0m\u001b[0;34m,\u001b[0m \u001b[0;34m\"w+b\"\u001b[0m\u001b[0;34m)\u001b[0m\u001b[0;34m\u001b[0m\u001b[0;34m\u001b[0m\u001b[0m\n\u001b[0m\u001b[1;32m   2170\u001b[0m \u001b[0;34m\u001b[0m\u001b[0m\n\u001b[1;32m   2171\u001b[0m         \u001b[0;32mtry\u001b[0m\u001b[0;34m:\u001b[0m\u001b[0;34m\u001b[0m\u001b[0;34m\u001b[0m\u001b[0m\n",
      "\u001b[0;31mFileNotFoundError\u001b[0m: [Errno 2] No such file or directory: 'plot/11687 .png'"
     ]
    },
    {
     "data": {
      "image/png": "[encoded data removed]",
      "text/plain": [
       "<Figure size 432x288 with 1 Axes>"
      ]
     },
     "metadata": {
      "needs_background": "light"
     },
     "output_type": "display_data"
    }
   ],
   "source": [
    "plot_csv_results(11687,'plot')"
   ]
  },
  {
   "cell_type": "code",
   "execution_count": 9,
   "id": "c8b392f4",
   "metadata": {},
   "outputs": [],
   "source": [
    "def run_smc_plot(scenario, out_dir=\"out\", display=False):\n",
    "    scenario_dir = f\"smc_files/{scenario}\"\n",
    "    scenario_out_dir = f\"{out_dir}/{scenario}\"\n",
    "    assert out_dir in os.listdir()\n",
    "    assert scenario in os.listdir(out_dir)\n",
    "    for dist in os.listdir(scenario_dir):\n",
    "        scenario_out_dist_dir = f\"{scenario_out_dir}/{dist}\"\n",
    "        assert dist in os.listdir(scenario_out_dir)\n",
    "        command_plot = f'smc++ plot -c {scenario_out_dist_dir}/plot.png {scenario_out_dist_dir}/model.final.json' \n",
    "        print(f\"running : {command_plot}\")\n",
    "        # plot the result\n",
    "        process = subprocess.Popen(command_plot, shell=True, stdout=subprocess.PIPE, stderr=subprocess.PIPE)\n",
    "        stdout, stderr = process.communicate()"
   ]
  },
  {
   "cell_type": "code",
   "execution_count": 10,
   "id": "86b52414",
   "metadata": {},
   "outputs": [
    {
     "name": "stdout",
     "output_type": "stream",
     "text": [
      "running : smc++ plot -c out/scenario_11687/dist_5/plot.png out/scenario_11687/dist_5/model.final.json\n",
      "running : smc++ plot -c out/scenario_11687/dist_3/plot.png out/scenario_11687/dist_3/model.final.json\n",
      "running : smc++ plot -c out/scenario_11687/dist_0/plot.png out/scenario_11687/dist_0/model.final.json\n",
      "running : smc++ plot -c out/scenario_11687/dist_4/plot.png out/scenario_11687/dist_4/model.final.json\n",
      "running : smc++ plot -c out/scenario_11687/dist_1/plot.png out/scenario_11687/dist_1/model.final.json\n",
      "running : smc++ plot -c out/scenario_11687/dist_2/plot.png out/scenario_11687/dist_2/model.final.json\n"
     ]
    }
   ],
   "source": [
    "run_smc_plot(\"scenario_11687\")"
   ]
  },
  {
   "cell_type": "code",
   "execution_count": 11,
   "id": "309477fe",
   "metadata": {},
   "outputs": [
    {
     "data": {
      "image/png": "[encoded data removed]",
      "text/plain": [
       "<Figure size 432x288 with 1 Axes>"
      ]
     },
     "metadata": {
      "needs_background": "light"
     },
     "output_type": "display_data"
    },
    {
     "data": {
      "image/png": "[encoded data removed]",
      "text/plain": [
       "<Figure size 432x288 with 1 Axes>"
      ]
     },
     "metadata": {
      "needs_background": "light"
     },
     "output_type": "display_data"
    },
    {
     "data": {
      "image/png": "[encoded data removed]",
      "text/plain": [
       "<Figure size 432x288 with 1 Axes>"
      ]
     },
     "metadata": {
      "needs_background": "light"
     },
     "output_type": "display_data"
    },
    {
     "data": {
      "image/png": "[encoded data removed]",
      "text/plain": [
       "<Figure size 432x288 with 1 Axes>"
      ]
     },
     "metadata": {
      "needs_background": "light"
     },
     "output_type": "display_data"
    },
    {
     "data": {
      "image/png": "[encoded data removed]",
      "text/plain": [
       "<Figure size 432x288 with 1 Axes>"
      ]
     },
     "metadata": {
      "needs_background": "light"
     },
     "output_type": "display_data"
    },
    {
     "data": {
      "image/png": "[encoded data removed]",
      "text/plain": [
       "<Figure size 432x288 with 1 Axes>"
      ]
     },
     "metadata": {
      "needs_background": "light"
     },
     "output_type": "display_data"
    }
   ],
   "source": [
    "scenario = 11687\n",
    "for dist in range(6):\n",
    "    fig = plt.imread(f\"out/scenario_{scenario}/dist_{dist}/plot.png\")\n",
    "    plt.title(f\"scenario_{11687},dist_{dist}\")\n",
    "    plt.imshow(fig)\n",
    "    plt.show()"
   ]
  },
  {
   "cell_type": "markdown",
   "id": "a7403015",
   "metadata": {},
   "source": [
    "## Je fais la moyenne des courbes sur les mêmes interballes de temps ici"
   ]
  },
  {
   "cell_type": "code",
   "execution_count": 13,
   "id": "5eb2d633",
   "metadata": {},
   "outputs": [
    {
     "name": "stdout",
     "output_type": "stream",
     "text": [
      "    label             x            y plot_type  plot_num\n",
      "0    hdgp      0.000000   426.689695      path         0\n",
      "1    hdgp    107.223901   426.689695      path         0\n",
      "2    hdgp    113.662709   426.689695      path         0\n",
      "3    hdgp    120.488168   426.689695      path         0\n",
      "4    hdgp    127.723496   426.689695      path         0\n",
      "..    ...           ...          ...       ...       ...\n",
      "96   hdgp  27308.600782  3740.915511      path         0\n",
      "97   hdgp  28948.485459  3740.915511      path         0\n",
      "98   hdgp  30686.845403  3740.915511      path         0\n",
      "99   hdgp  32529.594065  3740.915511      path         0\n",
      "100  hdgp  34483.000000   777.722134      path         0\n",
      "\n",
      "[101 rows x 5 columns]\n",
      "    label             x            y plot_type  plot_num\n",
      "0    hdgp      0.000000   420.273314      path         0\n",
      "1    hdgp    107.223901   420.273314      path         0\n",
      "2    hdgp    113.662709   420.273314      path         0\n",
      "3    hdgp    120.488168   420.273314      path         0\n",
      "4    hdgp    127.723496   420.273314      path         0\n",
      "..    ...           ...          ...       ...       ...\n",
      "96   hdgp  27308.600782  3603.336163      path         0\n",
      "97   hdgp  28948.485459  3603.336163      path         0\n",
      "98   hdgp  30686.845403  3603.336163      path         0\n",
      "99   hdgp  32529.594065  3603.336163      path         0\n",
      "100  hdgp  34483.000000   848.837449      path         0\n",
      "\n",
      "[101 rows x 5 columns]\n",
      "    label             x            y plot_type  plot_num\n",
      "0    hdgp      0.000000   416.069934      path         0\n",
      "1    hdgp    107.223901   416.069934      path         0\n",
      "2    hdgp    113.662709   416.069934      path         0\n",
      "3    hdgp    120.488168   416.069934      path         0\n",
      "4    hdgp    127.723496   416.069934      path         0\n",
      "..    ...           ...          ...       ...       ...\n",
      "96   hdgp  27308.600782  3471.333480      path         0\n",
      "97   hdgp  28948.485459  3471.333480      path         0\n",
      "98   hdgp  30686.845403  3471.333480      path         0\n",
      "99   hdgp  32529.594065  3471.333480      path         0\n",
      "100  hdgp  34483.000000   876.445494      path         0\n",
      "\n",
      "[101 rows x 5 columns]\n",
      "    label             x            y plot_type  plot_num\n",
      "0    hdgp      0.000000   616.731602      path         0\n",
      "1    hdgp    107.223901   616.731602      path         0\n",
      "2    hdgp    113.662709   616.731602      path         0\n",
      "3    hdgp    120.488168   616.731602      path         0\n",
      "4    hdgp    127.723496   616.731602      path         0\n",
      "..    ...           ...          ...       ...       ...\n",
      "96   hdgp  27308.600782  3428.852576      path         0\n",
      "97   hdgp  28948.485459  3428.852576      path         0\n",
      "98   hdgp  30686.845403  3428.852576      path         0\n",
      "99   hdgp  32529.594065  3428.852576      path         0\n",
      "100  hdgp  34483.000000   710.304333      path         0\n",
      "\n",
      "[101 rows x 5 columns]\n",
      "    label             x            y plot_type  plot_num\n",
      "0    hdgp      0.000000   501.695021      path         0\n",
      "1    hdgp    107.223901   501.695021      path         0\n",
      "2    hdgp    113.662709   501.695021      path         0\n",
      "3    hdgp    120.488168   501.695021      path         0\n",
      "4    hdgp    127.723496   501.695021      path         0\n",
      "..    ...           ...          ...       ...       ...\n",
      "96   hdgp  27308.600782  3653.104241      path         0\n",
      "97   hdgp  28948.485459  3653.104241      path         0\n",
      "98   hdgp  30686.845403  3653.104241      path         0\n",
      "99   hdgp  32529.594065  3653.104241      path         0\n",
      "100  hdgp  34483.000000   739.484776      path         0\n",
      "\n",
      "[101 rows x 5 columns]\n",
      "    label             x            y plot_type  plot_num\n",
      "0    hdgp      0.000000  6437.827212      path         0\n",
      "1    hdgp      0.029899  6437.827212      path         0\n",
      "2    hdgp      0.034426  6437.827212      path         0\n",
      "3    hdgp      0.039639  6434.373435      path         0\n",
      "4    hdgp      0.045641  6432.383212      path         0\n",
      "..    ...           ...          ...       ...       ...\n",
      "96   hdgp  19619.046050  7466.350039      path         0\n",
      "97   hdgp  22589.659018  7466.350039      path         0\n",
      "98   hdgp  26010.066608  7466.350039      path         0\n",
      "99   hdgp  29948.374361  7466.350039      path         0\n",
      "100  hdgp  34483.000000   178.402543      path         0\n",
      "\n",
      "[101 rows x 5 columns]\n"
     ]
    }
   ],
   "source": [
    "dfs = [0]*6\n",
    "for i in range(6):\n",
    "    dfs[i] = pd.read_csv(f\"out/scenario_11687/dist_{i}/plot.csv\") \n",
    "    print(dfs[i])"
   ]
  },
  {
   "cell_type": "code",
   "execution_count": 16,
   "id": "330e3605",
   "metadata": {},
   "outputs": [],
   "source": [
    "def meanPlot(scenario):\n",
    "    csv = pd.read_csv(f\"out/scenario_{scenario}/dist_{0}/plot.csv\") \n",
    "    y = csv['y'].to_numpy()\n",
    "\n",
    "    fig, ax = plt.subplots(1, 1)\n",
    "    ax.plot(csv['x'].to_numpy(), y, label=f\"scénario_{scenario}.dist{0}\")\n",
    "    \n",
    "    ax.ticklabel_format(style='sci', axis='x', scilimits=(0,0))\n",
    "    ax.set_xlim(100,10e3+1000)\n",
    "    ax.legend()\n"
   ]
  },
  {
   "cell_type": "markdown",
   "id": "b78ac69b",
   "metadata": {},
   "source": [
    "**On observe la même courbe faite à partir du csv que celle qui est générée, enfin plus ou moins**"
   ]
  },
  {
   "cell_type": "code",
   "execution_count": 27,
   "id": "35b563d1",
   "metadata": {},
   "outputs": [
    {
     "data": {
      "image/png": "[encoded data removed]",
      "text/plain": [
       "<Figure size 432x288 with 1 Axes>"
      ]
     },
     "metadata": {
      "needs_background": "light"
     },
     "output_type": "display_data"
    }
   ],
   "source": [
    "fig = plt.imread(f\"out/scenario_{scenario}/dist_{0}/plot.png\")\n",
    "plt.title(f\"scenario_{11687},dist_{0}\")\n",
    "plt.imshow(fig)\n",
    "plt.show()"
   ]
  },
  {
   "cell_type": "code",
   "execution_count": 29,
   "id": "85f5a0f1",
   "metadata": {
    "scrolled": true
   },
   "outputs": [
    {
     "data": {
      "image/png": "[encoded data removed]",
      "text/plain": [
       "<Figure size 432x288 with 1 Axes>"
      ]
     },
     "metadata": {
      "needs_background": "light"
     },
     "output_type": "display_data"
    }
   ],
   "source": [
    "meanPlot(11687) "
   ]
  },
  {
   "cell_type": "code",
   "execution_count": 133,
   "id": "35023a66",
   "metadata": {},
   "outputs": [],
   "source": [
    "def plotDist(scenario):\n",
    "    csv = pd.read_csv(f\"out/scenario_{scenario}/dist_{0}/plot.csv\") \n",
    "    y = csv['y'].to_numpy()\n",
    "    fig, ax = plt.subplots(1, 1, figsize=(15,15))\n",
    "    ax.plot(csv['x'].to_numpy(),csv['y'].to_numpy(),label=f\"scénario_{scenario}_dist_{0}\")\n",
    "    x = []\n",
    "    for dist in range(1,6):\n",
    "        csv = pd.read_csv(f\"out/scenario_{scenario}/dist_{dist}/plot.csv\") \n",
    "        y += csv['y'].to_numpy()\n",
    "        ax.plot(csv['x'].to_numpy(),csv['y'].to_numpy(),label=f\"scénario_{scenario}_dist_{dist}\")\n",
    "\n",
    "    y = y/5\n",
    "    \n",
    "    #fig, ax = plt.subplots(1, 1)\n",
    "    #ax.plot(csv['x'].to_numpy(), y, label=f\"scénario_{scenario} moyenne\")\n",
    "    ax.ticklabel_format(style='sci', axis='x', scilimits=(0,0))\n",
    "    ax.set_xlim(0,10e3+1000)\n",
    "    ax.legend()"
   ]
  },
  {
   "cell_type": "code",
   "execution_count": 134,
   "id": "5a7c950c",
   "metadata": {},
   "outputs": [
    {
     "data": {
      "image/png": "[encoded data removed]",
      "text/plain": [
       "<Figure size 1080x1080 with 1 Axes>"
      ]
     },
     "metadata": {
      "needs_background": "light"
     },
     "output_type": "display_data"
    }
   ],
   "source": [
    "plotDist(11687)"
   ]
  },
  {
   "cell_type": "code",
   "execution_count": 178,
   "id": "1bc5ebcb",
   "metadata": {},
   "outputs": [],
   "source": [
    "def meanPlot(scenario):\n",
    "    csv = pd.read_csv(f\"out/scenario_{scenario}/dist_{0}/plot.csv\") \n",
    "    x = csv['x'].to_numpy().tolist()\n",
    "    \n",
    "    \n",
    "    # je construit le grand intervalle ici\n",
    "    for dist in range(0,6):\n",
    "        csv = pd.read_csv(f\"out/scenario_{scenario}/dist_{dist}/plot.csv\") \n",
    "        x_temp = csv['x'].to_numpy().tolist()\n",
    "        \n",
    "        for i in x_temp:\n",
    "            if i not in x:\n",
    "                x.append(i)\n",
    "    x = np.array(x)\n",
    "    x = np.sort(x)\n",
    "    \n",
    "    y = np.zeros(len(x))\n",
    "    for dist in range(1,6):\n",
    "        csv = pd.read_csv(f\"out/scenario_{scenario}/dist_{dist}/plot.csv\")\n",
    "        \n",
    "        y_res = complete(x,csv['x'].to_numpy(),csv['y'].to_numpy())\n",
    "        y += y_res\n",
    "        \n",
    "        \n",
    "\n",
    "    y = y/5\n",
    "    \n",
    "    fig, ax = plt.subplots(1, 1)\n",
    "    ax.plot(x, y, label=f\"scénario_{scenario} moyenne\")\n",
    "    ax.ticklabel_format(style='sci', axis='x', scilimits=(0,0))\n",
    "    ax.set_xlim(0,10e3+1000)\n",
    "    ax.legend()\n",
    "    \n",
    "    return x,y\n",
    "\n",
    "    \n",
    "# ici il faut faire attention aux résultats de cette fonction\n",
    "\n",
    "def complete(x,x_v,y_v):\n",
    "    y_res = np.zeros(len(x))\n",
    "    \n",
    "    compteur_x = 0\n",
    "    compteur_y=0\n",
    "    for val in x_v:\n",
    "        if x[compteur_x] == val:\n",
    "            y_res[compteur_x] = y_v[compteur_y]\n",
    "            compteur_x +=1\n",
    "            \n",
    "            \n",
    "        while  x[compteur_x] <= val:\n",
    "            y_res[compteur_x] = y_v[compteur_y]\n",
    "            compteur_x +=1\n",
    "            if compteur_x  == len(x):\n",
    "                break\n",
    "        compteur_y +=1\n",
    "        \n",
    "        \n",
    "    return y_res\n",
    "            \n"
   ]
  },
  {
   "cell_type": "code",
   "execution_count": 179,
   "id": "846d95b7",
   "metadata": {},
   "outputs": [
    {
     "data": {
      "text/plain": [
       "array([ 10.,  11.,  11., 215., 215.])"
      ]
     },
     "execution_count": 179,
     "metadata": {},
     "output_type": "execute_result"
    }
   ],
   "source": [
    "complete( [1,2,3,4,5],[1,3,5],[10,11,215])"
   ]
  },
  {
   "cell_type": "code",
   "execution_count": 14,
   "id": "17810267",
   "metadata": {},
   "outputs": [],
   "source": [
    "#meanPlot(11687)"
   ]
  },
  {
   "cell_type": "markdown",
   "id": "350d35a1-eb78-4733-b93f-d2b08e4606f2",
   "metadata": {},
   "source": [
    "## Partie Adygei\n",
    "\n",
    "Dans cette partie, on va comparer le temps d'exécution et les résultats sur l'estimation smc, entre les fichiers de SNP et le fichier VCF.\n",
    "Les fichiers SNPs et les VCFs représentent les mêmes données, sous deux formats différents.\n",
    "\n",
    "On se concentre sur le chromosome21, avec 16 individus comme sample.\n",
    "\n",
    "Voici les fichiers SNPs associées\n",
    "```\n",
    "npz_data_pop_ancestral_derived $ ls -l | grep chr21\n",
    "-rw-r--r-- 1 jerome jerome  5665 Dec  1  2020 Adygei_chr21_1.npz\n",
    "-rw-r--r-- 1 jerome jerome  6266 Dec  1  2020 Adygei_chr21_10.npz\n",
    "-rw-r--r-- 1 jerome jerome  6071 Dec  1  2020 Adygei_chr21_11.npz\n",
    "-rw-r--r-- 1 jerome jerome  3672 Dec  1  2020 Adygei_chr21_12.npz\n",
    "-rw-r--r-- 1 jerome jerome  5833 Dec  1  2020 Adygei_chr21_13.npz\n",
    "-rw-r--r-- 1 jerome jerome  4055 Dec  1  2020 Adygei_chr21_14.npz\n",
    "-rw-r--r-- 1 jerome jerome  5206 Dec  1  2020 Adygei_chr21_15.npz\n",
    "-rw-r--r-- 1 jerome jerome  7222 Dec  1  2020 Adygei_chr21_16.npz\n",
    "-rw-r--r-- 1 jerome jerome  5802 Dec  1  2020 Adygei_chr21_2.npz\n",
    "-rw-r--r-- 1 jerome jerome  6950 Dec  1  2020 Adygei_chr21_3.npz\n",
    "-rw-r--r-- 1 jerome jerome  6251 Dec  1  2020 Adygei_chr21_4.npz\n",
    "-rw-r--r-- 1 jerome jerome  6116 Dec  1  2020 Adygei_chr21_5.npz\n",
    "-rw-r--r-- 1 jerome jerome  5602 Dec  1  2020 Adygei_chr21_6.npz\n",
    "-rw-r--r-- 1 jerome jerome  5624 Dec  1  2020 Adygei_chr21_7.npz\n",
    "-rw-r--r-- 1 jerome jerome  6579 Dec  1  2020 Adygei_chr21_8.npz\n",
    "-rw-r--r-- 1 jerome jerome  6916 Dec  1  2020 Adygei_chr21_9.npz\n",
    "\n",
    "```\n",
    "\n",
    "Voici les 16 individus du fichier VCF\n",
    "```\n",
    "HGDP01396\tHGDP01382\tHGDP01403\tHGDP01404\tHGDP01402\tHGDP01383\tHGDP01401\tHGDP01400\tHGDP01384\tHGDP01398\tHGDP01397\tHGDP01388\tHGDP01387\tHGDP01386\tHGDP01385\tHGDP01399\n",
    "```"
   ]
  },
  {
   "cell_type": "markdown",
   "id": "9b459b0d-331a-485a-a2be-6c2ed818911a",
   "metadata": {},
   "source": [
    "On commence par transformer le fichier vcf dans le format accepté par SMC :\n",
    "Pour cela, il faut indexer le vcf et le fichier mask avec tabix"
   ]
  },
  {
   "cell_type": "code",
   "execution_count": 99,
   "id": "61604c6c-a28c-4a7c-ae2e-094d5faca30a",
   "metadata": {},
   "outputs": [
    {
     "name": "stdout",
     "output_type": "stream",
     "text": [
      " [bgzip] can't create Adygei/Adygei_hgdp_wgs.20190516.full.chr21.vcf.gz: File exists\n",
      "\n",
      " [tabix] the index file exists. Please use '-f' to overwrite.\n",
      "\n",
      " [bgzip] can't create Adygei/hgdp_wgs.20190516.mask.bed.gz: File exists\n",
      "\n",
      " [tabix] the index file exists. Please use '-f' to overwrite.\n",
      "\n",
      "executing: smc++ vcf2smc Adygei/Adygei_hgdp_wgs.20190516.full.chr21.vcf.gz Adygei/out.smc -m Adygei/hgdp_wgs.20190516.mask.bed.gz chr21 HGPD:HGDP01396,HGDP01382,HGDP01403,HGDP01404,HGDP01402,HGDP01383,HGDP01401,HGDP01400,HGDP01384,HGDP01398,HGDP01397,HGDP01388,HGDP01387,HGDP01386,HGDP01385,HGDP01399\n",
      " 956 smcpp.commands.vcf2smc INFO Population 1:\n",
      "956 smcpp.commands.vcf2smc INFO Distinguished lineages: HGDP01396:0, HGDP01396:1\n",
      "956 smcpp.commands.vcf2smc INFO Undistinguished lineages: HGDP01382:0, HGDP01382:1, HGDP01403:0, HGDP01403:1, HGDP01404:0, HGDP01404:1, HGDP01402:0, HGDP01402:1, HGDP01383:0, HGDP01383:1, HGDP01401:0, HGDP01401:1, HGDP01400:0, HGDP01400:1, HGDP01384:0, HGDP01384:1, HGDP01398:0, HGDP01398:1, HGDP01397:0, HGDP01397:1, HGDP01388:0, HGDP01388:1, HGDP01387:0, HGDP01387:1, HGDP01386:0, HGDP01386:1, HGDP01385:0, HGDP01385:1, HGDP01399:0, HGDP01399:1\n",
      "\n",
      "  0%|          | 0.00/46.7M [00:00<?, ?bases/s]\n",
      " 11%|█         | 5.16M/46.7M [00:00<00:00, 51.6Mbases/s]\n",
      " 22%|██▏       | 10.3M/46.7M [00:06<00:26, 1.37Mbases/s]\n",
      " 28%|██▊       | 13.0M/46.7M [00:07<00:21, 1.53Mbases/s]\n",
      " 30%|███       | 14.2M/46.7M [00:11<00:34, 948kbases/s] \n",
      " 32%|███▏      | 15.0M/46.7M [00:15<00:48, 647kbases/s]\n",
      " 33%|███▎      | 15.5M/46.7M [00:17<01:00, 518kbases/s]\n",
      " 34%|███▍      | 15.9M/46.7M [00:19<01:09, 443kbases/s]\n",
      " 35%|███▍      | 16.1M/46.7M [00:21<01:18, 390kbases/s]\n",
      " 35%|███▍      | 16.3M/46.7M [00:22<01:25, 357kbases/s]\n",
      " 35%|███▌      | 16.4M/46.7M [00:22<01:29, 339kbases/s]\n",
      " 35%|███▌      | 16.5M/46.7M [00:22<01:29, 337kbases/s]\n",
      " 35%|███▌      | 16.6M/46.7M [00:23<01:31, 328kbases/s]\n",
      " 36%|███▌      | 16.6M/46.7M [00:23<01:31, 329kbases/s]\n",
      " 36%|███▌      | 16.7M/46.7M [00:23<01:26, 345kbases/s]\n",
      " 36%|███▌      | 16.7M/46.7M [00:23<01:27, 341kbases/s]\n",
      " 36%|███▌      | 16.8M/46.7M [00:23<01:34, 318kbases/s]\n",
      " 36%|███▌      | 16.8M/46.7M [00:24<01:40, 297kbases/s]\n",
      " 36%|███▋      | 16.9M/46.7M [00:24<01:12, 409kbases/s]\n",
      " 36%|███▋      | 17.0M/46.7M [00:24<01:44, 285kbases/s]\n",
      " 37%|███▋      | 17.1M/46.7M [00:24<01:58, 251kbases/s]\n",
      " 37%|███▋      | 17.1M/46.7M [00:25<02:01, 245kbases/s]\n",
      " 37%|███▋      | 17.1M/46.7M [00:25<02:00, 246kbases/s]\n",
      " 37%|███▋      | 17.2M/46.7M [00:25<01:58, 250kbases/s]\n",
      " 37%|███▋      | 17.2M/46.7M [00:25<02:01, 242kbases/s]\n",
      " 37%|███▋      | 17.2M/46.7M [00:25<02:12, 223kbases/s]\n",
      " 37%|███▋      | 17.2M/46.7M [00:25<02:19, 211kbases/s]\n",
      " 37%|███▋      | 17.3M/46.7M [00:25<02:16, 217kbases/s]\n",
      " 37%|███▋      | 17.3M/46.7M [00:25<02:12, 221kbases/s]\n",
      " 37%|███▋      | 17.3M/46.7M [00:26<02:09, 227kbases/s]\n",
      " 37%|███▋      | 17.3M/46.7M [00:26<02:25, 201kbases/s]\n",
      " 37%|███▋      | 17.3M/46.7M [00:26<02:38, 185kbases/s]\n",
      " 37%|███▋      | 17.4M/46.7M [00:26<02:52, 170kbases/s]\n",
      " 37%|███▋      | 17.4M/46.7M [00:26<03:07, 156kbases/s]\n",
      " 37%|███▋      | 17.4M/46.7M [00:26<03:19, 147kbases/s]\n",
      " 37%|███▋      | 17.4M/46.7M [00:26<03:16, 149kbases/s]\n",
      " 37%|███▋      | 17.4M/46.7M [00:26<03:29, 140kbases/s]\n",
      " 37%|███▋      | 17.4M/46.7M [00:27<03:20, 146kbases/s]\n",
      " 37%|███▋      | 17.5M/46.7M [00:27<03:04, 158kbases/s]\n",
      " 37%|███▋      | 17.5M/46.7M [00:27<02:45, 177kbases/s]\n",
      " 37%|███▋      | 17.5M/46.7M [00:27<02:43, 179kbases/s]\n",
      " 38%|███▊      | 17.5M/46.7M [00:27<02:52, 169kbases/s]\n",
      " 38%|███▊      | 17.5M/46.7M [00:27<03:08, 155kbases/s]\n",
      " 38%|███▊      | 17.6M/46.7M [00:27<02:55, 166kbases/s]\n",
      " 38%|███▊      | 17.6M/46.7M [00:27<03:01, 161kbases/s]\n",
      " 38%|███▊      | 17.6M/46.7M [00:27<03:00, 162kbases/s]\n",
      " 38%|███▊      | 17.6M/46.7M [00:28<03:11, 152kbases/s]\n",
      " 38%|███▊      | 17.6M/46.7M [00:28<03:18, 147kbases/s]\n",
      " 38%|███▊      | 17.6M/46.7M [00:28<03:16, 148kbases/s]\n",
      " 38%|███▊      | 17.7M/46.7M [00:28<03:10, 152kbases/s]\n",
      " 38%|███▊      | 17.7M/46.7M [00:28<03:10, 152kbases/s]\n",
      " 38%|███▊      | 17.7M/46.7M [00:28<03:10, 152kbases/s]\n",
      " 38%|███▊      | 17.7M/46.7M [00:28<02:55, 165kbases/s]\n",
      " 38%|███▊      | 17.7M/46.7M [00:28<03:05, 156kbases/s]\n",
      " 38%|███▊      | 17.7M/46.7M [00:28<03:13, 149kbases/s]\n",
      " 38%|███▊      | 17.8M/46.7M [00:28<03:11, 151kbases/s]\n",
      " 38%|███▊      | 17.8M/46.7M [00:29<03:19, 145kbases/s]\n",
      " 38%|███▊      | 17.8M/46.7M [00:29<03:23, 142kbases/s]\n",
      " 38%|███▊      | 17.8M/46.7M [00:29<03:32, 136kbases/s]\n",
      " 38%|███▊      | 17.8M/46.7M [00:29<03:27, 139kbases/s]\n",
      " 38%|███▊      | 17.8M/46.7M [00:29<03:13, 149kbases/s]\n",
      " 38%|███▊      | 17.9M/46.7M [00:29<02:55, 164kbases/s]\n",
      " 38%|███▊      | 17.9M/46.7M [00:29<02:30, 191kbases/s]\n",
      " 38%|███▊      | 17.9M/46.7M [00:29<02:21, 203kbases/s]\n",
      " 39%|███▊      | 18.1M/46.7M [00:29<00:47, 605kbases/s]\n",
      " 39%|███▉      | 18.1M/46.7M [00:30<00:46, 610kbases/s]\n",
      " 39%|███▉      | 18.3M/46.7M [00:30<00:27, 1.03Mbases/s]\n",
      " 39%|███▉      | 18.4M/46.7M [00:30<00:53, 527kbases/s] \n",
      " 40%|███▉      | 18.6M/46.7M [00:30<00:40, 688kbases/s]\n",
      " 40%|███▉      | 18.7M/46.7M [00:31<01:17, 361kbases/s]\n",
      " 40%|████      | 18.7M/46.7M [00:31<01:45, 264kbases/s]\n",
      " 40%|████      | 18.8M/46.7M [00:32<01:56, 239kbases/s]\n",
      " 40%|████      | 18.8M/46.7M [00:32<01:58, 236kbases/s]\n",
      " 40%|████      | 18.9M/46.7M [00:32<01:45, 264kbases/s]\n",
      " 41%|████      | 18.9M/46.7M [00:32<01:48, 256kbases/s]\n",
      " 41%|████      | 19.0M/46.7M [00:32<01:57, 237kbases/s]\n",
      " 41%|████      | 19.0M/46.7M [00:32<00:48, 577kbases/s]\n",
      "33887 smcpp.util   INFO Wrote 470436 observations\n",
      "33887 smcpp.commands.vcf2smc WARNING Multiple entries found at 1208 positions; skipped all but the first\n",
      "\n"
     ]
    }
   ],
   "source": [
    "adygei_folder = \"Adygei\"\n",
    "vcf_file = \"Adygei_hgdp_wgs.20190516.full.chr21.vcf\"\n",
    "mask_file = \"hgdp_wgs.20190516.mask.bed\"\n",
    "for file in [vcf_file, mask_file]:\n",
    "    bgzip = f\"bgzip {adygei_folder}/{file}\"\n",
    "    tabix = f\"tabix {adygei_folder}/{file}.gz\"\n",
    "    process = subprocess.Popen(bgzip, shell=True,  stdout=subprocess.PIPE, stderr=subprocess.PIPE, universal_newlines=True)\n",
    "    stdout, stderr = process.communicate()\n",
    "    print(stdout, stderr)\n",
    "    process = subprocess.Popen(tabix, shell=True,  stdout=subprocess.PIPE, stderr=subprocess.PIPE, universal_newlines=True)\n",
    "    stdout, stderr = process.communicate()\n",
    "    print(stdout, stderr)\n",
    "vcf2smc = f\"smc++ vcf2smc {adygei_folder}/{vcf_file}.gz {adygei_folder}/out.smc -m {adygei_folder}/hgdp_wgs.20190516.mask.bed.gz chr21 HGPD:HGDP01396,HGDP01382,HGDP01403,HGDP01404,HGDP01402,HGDP01383,HGDP01401,HGDP01400,HGDP01384,HGDP01398,HGDP01397,HGDP01388,HGDP01387,HGDP01386,HGDP01385,HGDP01399\"\n",
    "process = subprocess.Popen(vcf2smc, shell=True,  stdout=subprocess.PIPE, stderr=subprocess.PIPE, universal_newlines=True)\n",
    "print(f\"executing: {vcf2smc}\")\n",
    "stdout, stderr = process.communicate()\n",
    "print(stdout, stderr)"
   ]
  },
  {
   "cell_type": "markdown",
   "id": "69046a73-b446-484a-bbdc-027a48faa603",
   "metadata": {},
   "source": [
    "Puis on fait une estimation:"
   ]
  },
  {
   "cell_type": "code",
   "execution_count": 110,
   "id": "fbcb3ca5-c317-4ece-b51d-049289ac08b0",
   "metadata": {},
   "outputs": [],
   "source": [
    "estimate = f\"smc++ estimate 1e-10 {adygei_folder}/out.smc -o {adygei_folder}\"\n",
    "process = subprocess.Popen(estimate, shell=True,  stdout=subprocess.PIPE, stderr=subprocess.PIPE, universal_newlines=True)\n",
    "#stdout, stderr = process.communicate()"
   ]
  },
  {
   "cell_type": "markdown",
   "id": "41647614-05a3-4f41-a6cc-b164eb9ead01",
   "metadata": {},
   "source": [
    "On fait la même chose mais avec notre fonction adygei_folder"
   ]
  },
  {
   "cell_type": "code",
   "execution_count": 103,
   "id": "4ea5a05d-3593-46a8-8008-33b611a281a8",
   "metadata": {},
   "outputs": [],
   "source": [
    "if \"snptosmc\" not in os.listdir(adygei_folder):\n",
    "    os.mkdir(f\"{adygei_folder}/snptosmc\")\n",
    "for i in range(1, 17):\n",
    "    data = np.load(f\"{adygei_folder}/snps/Adygei_chr21_{i}.npz\")\n",
    "    SNP = data[\"SNP\"]\n",
    "    POS = data[\"POS\"]\n",
    "    SMC = SNPtoSMC(1, SNP, POS)\n",
    "    header = header_smc(\"adygei\", 1, SNP.shape[0])\n",
    "    np.savetxt(f\"{adygei_folder}/snptosmc/chr21_{i}.smc\" , SMC, delimiter=' ', fmt = \"%d\", header=header)"
   ]
  },
  {
   "cell_type": "markdown",
   "id": "3a65087a-b7ae-4eb3-a00b-a45358131f25",
   "metadata": {},
   "source": [
    "On fait l'estimation"
   ]
  },
  {
   "cell_type": "code",
   "execution_count": 111,
   "id": "e8ccaa1f-e664-4c3b-814d-3c86b1ca0745",
   "metadata": {},
   "outputs": [],
   "source": [
    "estimate = f\"smc++ estimate 1e-10 {adygei_folder}/snptosmc/*.smc -o {adygei_folder}/snptosmc\"\n",
    "process = subprocess.Popen(estimate, shell=True,  stdout=subprocess.PIPE, stderr=subprocess.PIPE, universal_newlines=True)\n",
    "#stdout, stderr = process.communicate()"
   ]
  },
  {
   "cell_type": "markdown",
   "id": "0d00abff-2910-4455-b141-9414ebd9afb8",
   "metadata": {},
   "source": [
    "On affiche ces deux estimations"
   ]
  },
  {
   "cell_type": "code",
   "execution_count": 109,
   "id": "c62157bc-7429-4a75-93ff-02dd1798f4f5",
   "metadata": {},
   "outputs": [
    {
     "name": "stdout",
     "output_type": "stream",
     "text": [
      " \n",
      " \n"
     ]
    },
    {
     "data": {
      "image/png": "[encoded data removed]",
      "text/plain": [
       "<Figure size 432x288 with 1 Axes>"
      ]
     },
     "metadata": {
      "needs_background": "light"
     },
     "output_type": "display_data"
    },
    {
     "data": {
      "image/png": "[encoded data removed]",
      "text/plain": [
       "<Figure size 432x288 with 1 Axes>"
      ]
     },
     "metadata": {
      "needs_background": "light"
     },
     "output_type": "display_data"
    }
   ],
   "source": [
    "plot = f\"smc++ plot -c {adygei_folder}/plot.png {adygei_folder}/model.final.json\"\n",
    "process = subprocess.Popen(plot, shell=True,  stdout=subprocess.PIPE, stderr=subprocess.PIPE, universal_newlines=True)\n",
    "stdout, stderr = process.communicate()\n",
    "print(stdout, stderr)\n",
    "plot = f\"smc++ plot -c {adygei_folder}/snptosmc/plot.png {adygei_folder}/snptosmc/model.final.json\"\n",
    "process = subprocess.Popen(plot, shell=True,  stdout=subprocess.PIPE, stderr=subprocess.PIPE, universal_newlines=True)\n",
    "stdout, stderr = process.communicate()\n",
    "print(stdout, stderr)\n",
    "figsnp = plt.imread(f\"{adygei_folder}/snptosmc/plot.png\")\n",
    "figvcf = plt.imread(f\"{adygei_folder}/plot.png\")\n",
    "plt.title(f\"snp\")\n",
    "plt.imshow(figsnp)\n",
    "plt.show()\n",
    "plt.title(f\"vcf\")\n",
    "plt.imshow(figvcf)\n",
    "plt.show()"
   ]
  },
  {
   "cell_type": "markdown",
   "id": "5347f17d-5669-4edc-ae02-de0fafd0740f",
   "metadata": {},
   "source": [
    "# Partie comparaison VCF et SMC"
   ]
  },
  {
   "cell_type": "code",
   "execution_count": 81,
   "id": "04db745d-135a-4340-beb4-957f3404925a",
   "metadata": {},
   "outputs": [
    {
     "name": "stdout",
     "output_type": "stream",
     "text": [
      " \n",
      "(6356, 4) (6356, 4)\n",
      "[[  1   1  31  60]\n",
      " [231   0   0  60]\n",
      " [  1   1  29  60]\n",
      " [567   0   0  60]\n",
      " [  1   1  18  60]\n",
      " [173   0   0  60]\n",
      " [  1   1  31  60]\n",
      " [595   0   0  60]\n",
      " [  1   1  18  60]\n",
      " [230   0   0  60]] \n",
      "\n",
      "[[  1   1  31  60]\n",
      " [231   0   0  60]\n",
      " [  1   1  29  60]\n",
      " [566   0   0  60]\n",
      " [  1   1  18  60]\n",
      " [173   0   0  60]\n",
      " [  1   1  31  60]\n",
      " [595   0   0  60]\n",
      " [  1   1  18  60]\n",
      " [230   0   0  60]] \n",
      "\n",
      "[[2389    1]\n",
      " [2389    2]\n",
      " [2390    0]\n",
      " ...\n",
      " [6353    0]\n",
      " [6354    2]\n",
      " [6355    0]]\n",
      "10.313089993706734 % de différence\n"
     ]
    }
   ],
   "source": [
    "file_directory = \"data_hdgp_2mb_vcf/hdgp\"\n",
    "scenario = \"0\"\n",
    "indiv = \"7\"\n",
    "scenario_dir = f\"{file_directory}/scenario_{scenario}\"\n",
    "\n",
    "## convertir le vcf en smc\n",
    "file = f\"{scenario_dir}/hdgp_{scenario}_{indiv}\"\n",
    "bgzip = f\"bgzip {file}.vcf\"\n",
    "tabix = f\"tabix -f {file}.vcf.gz\"\n",
    "process = subprocess.Popen(bgzip, shell=True,  stdout=subprocess.PIPE, stderr=subprocess.PIPE, universal_newlines=True)\n",
    "stdout, stderr = process.communicate()\n",
    "process = subprocess.Popen(tabix, shell=True,  stdout=subprocess.PIPE, stderr=subprocess.PIPE, universal_newlines=True)\n",
    "stdout, stderr = process.communicate()\n",
    "print(stdout, stderr)\n",
    "vcf2smc = f\"smc++ vcf2smc {file}.vcf.gz {file}.smc {int(scenario) + 1}  TSK:tsk_0,tsk_1,tsk_2,tsk_3,tsk_4,tsk_5,tsk_6,tsk_7,tsk_8,tsk_9,tsk_10,tsk_11,tsk_12,tsk_13,tsk_14,tsk_15,tsk_16,tsk_17,tsk_18,tsk_19,tsk_20,tsk_21,tsk_22,tsk_23,tsk_24,tsk_25,tsk_26,tsk_27,tsk_28,tsk_29,tsk_30\"\n",
    "process = subprocess.Popen(vcf2smc, shell=True,  stdout=subprocess.PIPE, stderr=subprocess.PIPE, universal_newlines=True)\n",
    "#print(f\"executing: {vcf2smc}\")\n",
    "stdout, stderr = process.communicate()\n",
    "#print(stdout, stderr)\n",
    "\n",
    "## convertir le snp en smc\n",
    "data = np.load(f\"{file}.npz\")\n",
    "SNP, POS = data[\"SNP\"], data[\"POS\"]\n",
    "\n",
    "## récupérer les smc en mémoire\n",
    "SMC_snp = SNPtoSMC(int(scenario), SNP, POS)\n",
    "SMC_vcf = np.loadtxt(f\"{file}.smc\", dtype=int)\n",
    "print(SMC_snp.shape, SMC_vcf.shape)\n",
    "assert SMC_snp.shape == SMC_vcf.shape\n",
    "\n",
    "n = 780\n",
    "print(SMC_vcf[n:n+10], '\\n')\n",
    "print(SMC_snp[n:n+10], '\\n')\n",
    "print( np.argwhere((SMC_vcf - SMC_snp > 1)))\n",
    "print( 100*(SMC_vcf - SMC_snp).sum() / SMC_vcf.size , \"% de différence\")"
   ]
  },
  {
   "cell_type": "code",
   "execution_count": 83,
   "id": "9218beff-a3ae-43c4-a60c-8fad6d15f326",
   "metadata": {},
   "outputs": [
    {
     "name": "stdout",
     "output_type": "stream",
     "text": [
      "vcf positions [ 582  102  167  479  600  746 2879  982  905  757]\n",
      "snp positions [ 581  101  167  478  599  746 2879  982  904  757]\n",
      "Les 0 dans les positions vcf [[1553 2059 2207 2702]]\n",
      "Les 0 dans les positions snp [[ 201 1553 2059 2207 2413 2529 2702 2939 3145]]\n"
     ]
    }
   ],
   "source": [
    "command = f'gunzip {file}.vcf.gz; awk ' + \"'{print $2}'\" + f\" {file}.vcf | tr '\\n' ',' | sed -E 's/.*POS,//' | sed -E 's/.$//' \"\n",
    "process = subprocess.Popen(command, shell=True,  stdout=subprocess.PIPE, stderr=subprocess.PIPE, universal_newlines=True)\n",
    "stdout, stderr = process.communicate()\n",
    "tab = np.fromstring(stdout, sep=',', dtype=int)\n",
    "tab_relative = np.zeros(len(tab), dtype=int)\n",
    "tab_relative[0] = tab[0]\n",
    "for i in range(1, len(tab)):\n",
    "    tab_relative[i] = tab[i] - tab[i-1]\n",
    "n = 10\n",
    "print(\"vcf positions\", tab_relative[:n])\n",
    "print(\"snp positions\", POS[:n])\n",
    "print(\"Les 0 dans les positions vcf\", np.argwhere(tab_relative == 0 ).transpose())\n",
    "print(\"Les 0 dans les positions snp\", np.argwhere(POS == 0 ).transpose())"
   ]
  },
  {
   "cell_type": "markdown",
   "id": "884c4355-9075-449c-b693-7760802aff30",
   "metadata": {},
   "source": [
    "# MSE"
   ]
  },
  {
   "cell_type": "code",
   "execution_count": 314,
   "id": "2c297675-883f-4f1e-ad75-ddb00809d3c3",
   "metadata": {},
   "outputs": [],
   "source": [
    "def loadCSV(scenario = 11687):\n",
    "    trueData = np.genfromtxt('hdgp_demo_parameters_subsample.csv',delimiter=',', dtype=int)\n",
    "    trueX = trueData[1,6:27]\n",
    "    ids = np.argwhere(trueData[:,0] == scenario)\n",
    "    trueY = trueData[ids,27:].flatten()\n",
    "    \n",
    "    dist = 0\n",
    "    file = f'out/scenario_{scenario}/dist_{dist}/plot.csv'\n",
    "    smcData = pd.read_csv(file)\n",
    "    smcX = smcData['x'].to_numpy()\n",
    "    smcY = smcData['y'].to_numpy()\n",
    "    return trueX, trueY, smcX, smcY"
   ]
  },
  {
   "cell_type": "code",
   "execution_count": 461,
   "id": "3a85f469-7297-4a04-b827-089658799f92",
   "metadata": {},
   "outputs": [],
   "source": [
    "def MSE(trueX, trueY, smcX, smcY):\n",
    "    error = np.zeros(len(trueX))\n",
    "    for i in range(1, len(trueX)):\n",
    "        valid_ids = (smcX >= trueX[i - 1]) * (smcX <= trueX[i])\n",
    "        if smcX[valid_ids].size > 1:\n",
    "            weight = np.array(smcX[valid_ids], dtype=float)\n",
    "            interval_size = max(weight) - min(weight)\n",
    "            weight /= interval_size\n",
    "            weight = weight[1:] - weight[:-1]\n",
    "            assert abs(weight.sum()) - 1 < 1e-10\n",
    "        else:\n",
    "            weight = np.array([1])\n",
    "            if (valid_ids == False).all():\n",
    "                valid_ids = np.argwhere(smcX <= trueX[i])[-1]\n",
    "            error[i] = np.dot(weight, np.array(smcY[valid_ids])) - trueY[i]\n",
    "            continue\n",
    "        error[i] = np.dot(weight, np.array(smcY[valid_ids])[:-1]) - trueY[i]\n",
    "    mse = np.sum(error**2)/len(error)\n",
    "    return mse, error"
   ]
  },
  {
   "cell_type": "markdown",
   "id": "a5002602-37b9-4a04-8709-add17c23f831",
   "metadata": {},
   "source": [
    "## Test de la fonction sur un exemple simple"
   ]
  },
  {
   "cell_type": "code",
   "execution_count": 486,
   "id": "1cc344c8-3120-44c5-8aab-5474e157f13b",
   "metadata": {},
   "outputs": [
    {
     "data": {
      "text/plain": [
       "<matplotlib.legend.Legend at 0x7fc7f21ebe20>"
      ]
     },
     "execution_count": 486,
     "metadata": {},
     "output_type": "execute_result"
    },
    {
     "data": {
      "image/png": "[encoded data removed]",
      "text/plain": [
       "<Figure size 432x288 with 1 Axes>"
      ]
     },
     "metadata": {
      "needs_background": "light"
     },
     "output_type": "display_data"
    }
   ],
   "source": [
    "trueX = np.array([0, 4, 6, 7, 8, 10])\n",
    "smcX = np.array([0, 1, 2, 3, 4, 5, 6, 7, 8, 9, 10])\n",
    "trueY = np.array([3, 3, 3, 8, 9, 8])\n",
    "smcY = np.array([3, 2, 3, 9, 3, 4, 3, 5, 3, 2, 1])\n",
    "mse, error = MSE(trueX, trueY, smcX, smcY)\n",
    "fig, ax = plt.subplots(1, 1)\n",
    "ax.plot(smcX, smcY, label='smc')\n",
    "ax.plot(trueX, trueY, label='true')\n",
    "ax.plot(trueX, abs(error), c='r', label='error')\n",
    "ax.set_title(f'MSE={mse:.2f}')\n",
    "ax.legend()"
   ]
  },
  {
   "cell_type": "code",
   "execution_count": 488,
   "id": "b8c97bf8-9731-41a1-b5eb-e39671501196",
   "metadata": {},
   "outputs": [
    {
     "name": "stdout",
     "output_type": "stream",
     "text": [
      "28039400835.852093\n"
     ]
    }
   ],
   "source": [
    "trueX, trueY, smcX, smcY = loadCSV()\n",
    "mse, error = MSE(trueX, trueY, smcX, smcY)\n",
    "print(mse)"
   ]
  },
  {
   "cell_type": "code",
   "execution_count": null,
   "id": "9ac7b7c2-ecdb-4595-92dd-9e1d3582d3cc",
   "metadata": {},
   "outputs": [],
   "source": []
  }
 ],
 "metadata": {
  "kernelspec": {
   "display_name": "Python 3",
   "language": "python",
   "name": "python3"
  },
  "language_info": {
   "codemirror_mode": {
    "name": "ipython",
    "version": 3
   },
   "file_extension": ".py",
   "mimetype": "text/x-python",
   "name": "python",
   "nbconvert_exporter": "python",
   "pygments_lexer": "ipython3",
   "version": "3.9.5"
  }
 },
 "nbformat": 4,
 "nbformat_minor": 5
}
