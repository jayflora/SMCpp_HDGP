{
 "cells": [
  {
   "cell_type": "code",
   "execution_count": 1,
   "id": "bfef5b59-aea2-4ba4-b4fe-597475cfee0b",
   "metadata": {},
   "outputs": [],
   "source": [
    "import numpy as np\n",
    "import time\n",
    "from timeit import timeit as timeit\n",
    "import subprocess\n",
    "import os\n",
    "import matplotlib.pyplot as plt"
   ]
  },
  {
   "cell_type": "code",
   "execution_count": 2,
   "id": "0df23efe-f3ea-4af6-be56-eb3a2dbfbd45",
   "metadata": {},
   "outputs": [],
   "source": [
    "def SNPtoSMC(dist, SNP, POS):\n",
    "    \"\"\"\n",
    "    dist : distinguished ind\n",
    "    SNP : snp matrix\n",
    "    POS : positions matrix of SNP\n",
    "    \"\"\"\n",
    "    N = SNP.shape[0]\n",
    "    N = N if N%2 == 0 else N - 1\n",
    "    assert dist < N/2\n",
    "    \n",
    "    dist *= 2\n",
    "    M = POS.shape[0]\n",
    "    SMC = np.zeros((2*M,4), dtype=int)\n",
    "    SMC[:,-1] = N*np.ones(2*M, dtype=int) - 2\n",
    "    SMC[:, 0] = np.ones(2*M, dtype=int)\n",
    "    d = SNP[dist, :] + SNP[dist+1, :]\n",
    "    u = np.sum(SNP, axis=0, dtype=int) - d\n",
    "    SMC[1::2, 1:-1] = np.transpose([d, u]) \n",
    "    SMC[0::2, 0:-1] = np.transpose([POS - 1, np.zeros(M, dtype=int), np.zeros(M, dtype=int)])\n",
    "    todelete = np.argwhere(POS <= 1).transpose()*2\n",
    "    return np.delete(SMC, todelete, 0)"
   ]
  },
  {
   "cell_type": "code",
   "execution_count": 3,
   "id": "292bc258-7d7d-4e46-9308-3d1ce447aff5",
   "metadata": {},
   "outputs": [],
   "source": [
    "def deleteZerosSNP(SNP, POS):\n",
    "    ids = POS == 0\n",
    "    return np.delete(SNP, ids, 1), np.delete(POS, ids)\n",
    "\n",
    "def loadfile(scenario, i):\n",
    "    file_name = \"hdgp/scenario_\" + scenario +\"/hdgp_\" + scenario + \"_\" + str(i) + \".npz\"\n",
    "    data = np.load(file_name)\n",
    "    return data"
   ]
  },
  {
   "cell_type": "code",
   "execution_count": 4,
   "id": "584e4d93-8be0-426e-8692-ba739baede58",
   "metadata": {},
   "outputs": [],
   "source": [
    "def header_smc(pid, dist, n_ind):\n",
    "    \"\"\"\n",
    "    pid: id de la population considérée\n",
    "    dist: individu distingué\n",
    "    n_ind: nombre d'individus\n",
    "    \"\"\"\n",
    "    header = 'SMC++ {\"version\": \"1.15.4.dev18+gca077da\", \"pids\": [\"'+ pid +'\"], \"undist\": [['\n",
    "    for i in range(n_ind):\n",
    "        if(i != dist):\n",
    "            indid = pid + str(i)\n",
    "            header += '[\"' + indid + '\", 0], [\"' + indid + '\", 1], '\n",
    "    indid = pid + str(dist)\n",
    "    header = header[:-2] + ']], \"dist\": [[[\"' + indid +'\", 0], [\"' + indid + '\", 1]]]}'\n",
    "    return header"
   ]
  },
  {
   "cell_type": "code",
   "execution_count": 5,
   "id": "add46594-ae50-45f1-b0a0-269e94a43e32",
   "metadata": {},
   "outputs": [
    {
     "name": "stdout",
     "output_type": "stream",
     "text": [
      "[[2 0 0 4]\n",
      " [1 0 2 4]\n",
      " [4 0 0 4]\n",
      " [1 0 1 4]\n",
      " [1 1 0 4]\n",
      " [9 0 0 4]\n",
      " [1 2 1 4]]\n",
      "[[2 0 0 4]\n",
      " [1 2 0 4]\n",
      " [4 0 0 4]\n",
      " [1 0 1 4]\n",
      " [1 0 1 4]\n",
      " [9 0 0 4]\n",
      " [1 0 3 4]]\n",
      "[[2 0 0 4]\n",
      " [1 0 2 4]\n",
      " [4 0 0 4]\n",
      " [1 1 0 4]\n",
      " [1 0 1 4]\n",
      " [9 0 0 4]\n",
      " [1 1 2 4]]\n"
     ]
    }
   ],
   "source": [
    "## test sur un exemple simple\n",
    "def test():\n",
    "    snp = np.array([\n",
    "    [0, 0, 1, 1],\n",
    "    [0, 0, 0, 1],\n",
    "    [1, 0, 0, 0],\n",
    "    [1, 0, 0, 0],\n",
    "    [0, 1, 0, 0],\n",
    "    [0, 0, 0, 1],\n",
    "    ])\n",
    "    pos = np.array([3, 5, 1, 10])\n",
    "    print(SNPtoSMC(0, snp, pos))\n",
    "    print(SNPtoSMC(1, snp, pos))\n",
    "    print(SNPtoSMC(2, snp, pos))\n",
    "test()"
   ]
  },
  {
   "cell_type": "code",
   "execution_count": 6,
   "id": "6a5793a5-ad3b-480c-afc1-297eaa5d6f0a",
   "metadata": {},
   "outputs": [
    {
     "name": "stdout",
     "output_type": "stream",
     "text": [
      "[[13774     0     0    10]\n",
      " [    1     1     0    10]\n",
      " [29507     0     0    10]\n",
      " [    1     0     1    10]\n",
      " [50438     0     0    10]\n",
      " [    1     1     8    10]\n",
      " [ 6364     0     0    10]\n",
      " [    1     1     0    10]\n",
      " [29786     0     0    10]\n",
      " [    1     1     7    10]]\n",
      "\n",
      "SNPtoSMC exec time 0.00064s\n"
     ]
    }
   ],
   "source": [
    "## mesure du temps prise par la fonction SNPtoSMC\n",
    "data = loadfile(scenario=\"11687\", i=\"3\")\n",
    "n = 1000\n",
    "SNP, POS = deleteZerosSNP(data['SNP'], data['POS'])\n",
    "SMC = SNPtoSMC(0, data['SNP'], data['POS'])\n",
    "print(SMC[:10])\n",
    "time = timeit(\"SNPtoSMC(0, data['SNP'], data['POS'])\", globals=globals(), number=n)/n\n",
    "print(f\"\\nSNPtoSMC exec time {time:.5f}s\")\n",
    "\n",
    "assert SMC[:, 0].any() > 0"
   ]
  },
  {
   "cell_type": "code",
   "execution_count": 7,
   "id": "ca565e48-aa5f-4f34-914f-dc2bd38a461f",
   "metadata": {},
   "outputs": [],
   "source": [
    "def boucle():\n",
    "    for d in os.listdir(\"hdgp\"):\n",
    "        for f in os.listdir(\"hdgp/\" + d):\n",
    "            data = np.load(\"hdgp/\" + d + \"/\" + f)\n",
    "            SNP, POS = deleteZerosSNP(data['SNP'], data['POS'])\n",
    "            N = data['SNP'].shape[0]\n",
    "            N = N if N%2 == 0 else N - 1\n",
    "            for dist in range(0, int(N/2)):\n",
    "                SMC = SNPtoSMC(dist, SNP, POS)\n",
    "                filename = \"out/\" + d + \"/\" + f + str(dist) + \".smc\"\n",
    "                header = header_smc(\"hdgp\", dist, N)\n",
    "                np.savetxt(filename , SMC, delimiter=' ', fmt = \"%d\", header=header)\n",
    "                \n",
    "def one_scenario(d=\"11687\"):\n",
    "    d = f\"scenario_{d}\"\n",
    "    for f in os.listdir(\"hdgp/\" + d):\n",
    "        data = np.load(\"hdgp/\" + d + \"/\" + f)\n",
    "        SNP, POS = deleteZerosSNP(data['SNP'], data['POS'])\n",
    "        N = data['SNP'].shape[0]\n",
    "        N = N if N%2 == 0 else N - 1\n",
    "        for dist in range(0, int(N/2)):\n",
    "            SMC = SNPtoSMC(dist, SNP, POS)\n",
    "            filename = \"out/\" + d + \"/\" + f + str(dist) + \".smc\"\n",
    "            header = header_smc(\"hdgp\", dist, N)\n",
    "            np.savetxt(filename , SMC, delimiter=' ', fmt = \"%d\", header=header)"
   ]
  },
  {
   "cell_type": "code",
   "execution_count": 8,
   "id": "96a2762d-0e91-4102-9f5c-7a379b40eabb",
   "metadata": {},
   "outputs": [
    {
     "name": "stdout",
     "output_type": "stream",
     "text": [
      "1.03s pour convertir tous les fichiers du scénario\n",
      "1.05s pour convertir tous les fichiers du scénario\n"
     ]
    }
   ],
   "source": [
    "n = 3\n",
    "time = timeit(\"one_scenario()\", globals=globals(), number=n)/n\n",
    "print(f\"{time:.2f}s pour convertir tous les fichiers du scénario\")\n",
    "\n",
    "n = 3\n",
    "time = timeit(\"one_scenario(d='16844')\", globals=globals(), number=n)/n\n",
    "print(f\"{time:.2f}s pour convertir tous les fichiers du scénario\")\n",
    "\n",
    "boucle() ## prend une dizaine de minutes"
   ]
  },
  {
   "cell_type": "code",
   "execution_count": 15,
   "id": "a9a47c3b-0d5b-46b5-a59f-3dee3de9c0b9",
   "metadata": {},
   "outputs": [
    {
     "ename": "CalledProcessError",
     "evalue": "Command 'smc++ estimate .5e-9 --knots 22 --timepoints 0 34483 out/scenario_11687/*.smc' returned non-zero exit status 120.",
     "output_type": "error",
     "traceback": [
      "\u001b[0;31m---------------------------------------------------------------------------\u001b[0m",
      "\u001b[0;31mCalledProcessError\u001b[0m                        Traceback (most recent call last)",
      "\u001b[0;32m<ipython-input-15-c1aabd33829f>\u001b[0m in \u001b[0;36m<module>\u001b[0;34m\u001b[0m\n\u001b[0;32m----> 1\u001b[0;31m \u001b[0msubprocess\u001b[0m\u001b[0;34m.\u001b[0m\u001b[0mcheck_output\u001b[0m\u001b[0;34m(\u001b[0m\u001b[0;34m\"smc++ estimate .5e-9 --knots 22 --timepoints 0 34483 out/scenario_11687/*.smc\"\u001b[0m\u001b[0;34m,\u001b[0m \u001b[0mshell\u001b[0m\u001b[0;34m=\u001b[0m\u001b[0;32mTrue\u001b[0m\u001b[0;34m)\u001b[0m\u001b[0;34m\u001b[0m\u001b[0;34m\u001b[0m\u001b[0m\n\u001b[0m",
      "\u001b[0;32m/usr/lib/python3.9/subprocess.py\u001b[0m in \u001b[0;36mcheck_output\u001b[0;34m(timeout, *popenargs, **kwargs)\u001b[0m\n\u001b[1;32m    422\u001b[0m         \u001b[0mkwargs\u001b[0m\u001b[0;34m[\u001b[0m\u001b[0;34m'input'\u001b[0m\u001b[0;34m]\u001b[0m \u001b[0;34m=\u001b[0m \u001b[0mempty\u001b[0m\u001b[0;34m\u001b[0m\u001b[0;34m\u001b[0m\u001b[0m\n\u001b[1;32m    423\u001b[0m \u001b[0;34m\u001b[0m\u001b[0m\n\u001b[0;32m--> 424\u001b[0;31m     return run(*popenargs, stdout=PIPE, timeout=timeout, check=True,\n\u001b[0m\u001b[1;32m    425\u001b[0m                **kwargs).stdout\n\u001b[1;32m    426\u001b[0m \u001b[0;34m\u001b[0m\u001b[0m\n",
      "\u001b[0;32m/usr/lib/python3.9/subprocess.py\u001b[0m in \u001b[0;36mrun\u001b[0;34m(input, capture_output, timeout, check, *popenargs, **kwargs)\u001b[0m\n\u001b[1;32m    526\u001b[0m         \u001b[0mretcode\u001b[0m \u001b[0;34m=\u001b[0m \u001b[0mprocess\u001b[0m\u001b[0;34m.\u001b[0m\u001b[0mpoll\u001b[0m\u001b[0;34m(\u001b[0m\u001b[0;34m)\u001b[0m\u001b[0;34m\u001b[0m\u001b[0;34m\u001b[0m\u001b[0m\n\u001b[1;32m    527\u001b[0m         \u001b[0;32mif\u001b[0m \u001b[0mcheck\u001b[0m \u001b[0;32mand\u001b[0m \u001b[0mretcode\u001b[0m\u001b[0;34m:\u001b[0m\u001b[0;34m\u001b[0m\u001b[0;34m\u001b[0m\u001b[0m\n\u001b[0;32m--> 528\u001b[0;31m             raise CalledProcessError(retcode, process.args,\n\u001b[0m\u001b[1;32m    529\u001b[0m                                      output=stdout, stderr=stderr)\n\u001b[1;32m    530\u001b[0m     \u001b[0;32mreturn\u001b[0m \u001b[0mCompletedProcess\u001b[0m\u001b[0;34m(\u001b[0m\u001b[0mprocess\u001b[0m\u001b[0;34m.\u001b[0m\u001b[0margs\u001b[0m\u001b[0;34m,\u001b[0m \u001b[0mretcode\u001b[0m\u001b[0;34m,\u001b[0m \u001b[0mstdout\u001b[0m\u001b[0;34m,\u001b[0m \u001b[0mstderr\u001b[0m\u001b[0;34m)\u001b[0m\u001b[0;34m\u001b[0m\u001b[0;34m\u001b[0m\u001b[0m\n",
      "\u001b[0;31mCalledProcessError\u001b[0m: Command 'smc++ estimate .5e-9 --knots 22 --timepoints 0 34483 out/scenario_11687/*.smc' returned non-zero exit status 120."
     ]
    }
   ],
   "source": [
    "subprocess.check_output(\"smc++ estimate .5e-9 --knots 22 --timepoints 0 34483 out/scenario_11687/*.smc\", shell=True)"
   ]
  },
  {
   "cell_type": "code",
   "execution_count": 67,
   "id": "26c79336-232d-4e36-88f7-3683c0a5e9b5",
   "metadata": {},
   "outputs": [
    {
     "ename": "CalledProcessError",
     "evalue": "Command 'smc++ estimate .5e-9 --knots 22 --timepoints 0 34483 out/scenario_16844/*.smc' returned non-zero exit status 120.",
     "output_type": "error",
     "traceback": [
      "\u001b[0;31m---------------------------------------------------------------------------\u001b[0m",
      "\u001b[0;31mCalledProcessError\u001b[0m                        Traceback (most recent call last)",
      "\u001b[0;32m<ipython-input-67-8b48e7217ece>\u001b[0m in \u001b[0;36m<module>\u001b[0;34m\u001b[0m\n\u001b[0;32m----> 1\u001b[0;31m \u001b[0msubprocess\u001b[0m\u001b[0;34m.\u001b[0m\u001b[0mcheck_output\u001b[0m\u001b[0;34m(\u001b[0m\u001b[0;34m\"smc++ estimate .5e-9 --knots 22 --timepoints 0 34483 out/scenario_16844/*.smc\"\u001b[0m\u001b[0;34m,\u001b[0m \u001b[0mshell\u001b[0m\u001b[0;34m=\u001b[0m\u001b[0;32mTrue\u001b[0m\u001b[0;34m)\u001b[0m\u001b[0;34m\u001b[0m\u001b[0;34m\u001b[0m\u001b[0m\n\u001b[0m",
      "\u001b[0;32m/usr/lib/python3.9/subprocess.py\u001b[0m in \u001b[0;36mcheck_output\u001b[0;34m(timeout, *popenargs, **kwargs)\u001b[0m\n\u001b[1;32m    422\u001b[0m         \u001b[0mkwargs\u001b[0m\u001b[0;34m[\u001b[0m\u001b[0;34m'input'\u001b[0m\u001b[0;34m]\u001b[0m \u001b[0;34m=\u001b[0m \u001b[0mempty\u001b[0m\u001b[0;34m\u001b[0m\u001b[0;34m\u001b[0m\u001b[0m\n\u001b[1;32m    423\u001b[0m \u001b[0;34m\u001b[0m\u001b[0m\n\u001b[0;32m--> 424\u001b[0;31m     return run(*popenargs, stdout=PIPE, timeout=timeout, check=True,\n\u001b[0m\u001b[1;32m    425\u001b[0m                **kwargs).stdout\n\u001b[1;32m    426\u001b[0m \u001b[0;34m\u001b[0m\u001b[0m\n",
      "\u001b[0;32m/usr/lib/python3.9/subprocess.py\u001b[0m in \u001b[0;36mrun\u001b[0;34m(input, capture_output, timeout, check, *popenargs, **kwargs)\u001b[0m\n\u001b[1;32m    526\u001b[0m         \u001b[0mretcode\u001b[0m \u001b[0;34m=\u001b[0m \u001b[0mprocess\u001b[0m\u001b[0;34m.\u001b[0m\u001b[0mpoll\u001b[0m\u001b[0;34m(\u001b[0m\u001b[0;34m)\u001b[0m\u001b[0;34m\u001b[0m\u001b[0;34m\u001b[0m\u001b[0m\n\u001b[1;32m    527\u001b[0m         \u001b[0;32mif\u001b[0m \u001b[0mcheck\u001b[0m \u001b[0;32mand\u001b[0m \u001b[0mretcode\u001b[0m\u001b[0;34m:\u001b[0m\u001b[0;34m\u001b[0m\u001b[0;34m\u001b[0m\u001b[0m\n\u001b[0;32m--> 528\u001b[0;31m             raise CalledProcessError(retcode, process.args,\n\u001b[0m\u001b[1;32m    529\u001b[0m                                      output=stdout, stderr=stderr)\n\u001b[1;32m    530\u001b[0m     \u001b[0;32mreturn\u001b[0m \u001b[0mCompletedProcess\u001b[0m\u001b[0;34m(\u001b[0m\u001b[0mprocess\u001b[0m\u001b[0;34m.\u001b[0m\u001b[0margs\u001b[0m\u001b[0;34m,\u001b[0m \u001b[0mretcode\u001b[0m\u001b[0;34m,\u001b[0m \u001b[0mstdout\u001b[0m\u001b[0;34m,\u001b[0m \u001b[0mstderr\u001b[0m\u001b[0;34m)\u001b[0m\u001b[0;34m\u001b[0m\u001b[0;34m\u001b[0m\u001b[0m\n",
      "\u001b[0;31mCalledProcessError\u001b[0m: Command 'smc++ estimate .5e-9 --knots 22 --timepoints 0 34483 out/scenario_16844/*.smc' returned non-zero exit status 120."
     ]
    }
   ],
   "source": [
    "subprocess.check_output(\"smc++ estimate .5e-9 --knots 22 --timepoints 0 34483 out/scenario_16844/*.smc\", shell=True)"
   ]
  },
  {
   "cell_type": "code",
   "execution_count": 11,
   "id": "eb1d79bf-033a-4064-87a2-e6ed0ec88525",
   "metadata": {},
   "outputs": [
    {
     "data": {
      "image/png": "[encoded data removed]",
      "text/plain": [
       "<Figure size 432x288 with 1 Axes>"
      ]
     },
     "metadata": {
      "needs_background": "light"
     },
     "output_type": "display_data"
    }
   ],
   "source": [
    "def plot_deep_learning_results(i):\n",
    "    \"\"\"\n",
    "    i : numéro du scénario\n",
    "    \"\"\"\n",
    "    results_deep = np.genfromtxt('hdgp_demo_parameters_subsample.csv',delimiter=',', dtype=int)\n",
    "    X = results_deep[1,6:27]\n",
    "    ids = np.argwhere(results_deep[:,0] == i)\n",
    "    Y = results_deep[ids,27:].flatten()\n",
    "    X2 = np.zeros(2*X.size, dtype=int)\n",
    "    X2[1::2], X2[::2] = X, X\n",
    "    X2 = X2[1:]\n",
    "    Y2 = np.zeros(2*X.size, dtype=int)\n",
    "    Y2[1::2], Y2[::2] = Y, Y\n",
    "    Y2 = Y2[:-1]\n",
    "    fig, ax = plt.subplots(1, 1)\n",
    "    ax.plot(X2, Y2, label=f\"scénario_{i}\")\n",
    "    ax.legend()\n",
    "    \n",
    "plot_deep_learning_results(11687)"
   ]
  },
  {
   "cell_type": "code",
   "execution_count": null,
   "id": "a3466c88-fd90-4ff9-a90b-c4660c20e427",
   "metadata": {},
   "outputs": [],
   "source": []
  }
 ],
 "metadata": {
  "kernelspec": {
   "display_name": "Python 3",
   "language": "python",
   "name": "python3"
  },
  "language_info": {
   "codemirror_mode": {
    "name": "ipython",
    "version": 3
   },
   "file_extension": ".py",
   "mimetype": "text/x-python",
   "name": "python",
   "nbconvert_exporter": "python",
   "pygments_lexer": "ipython3",
   "version": "3.9.5"
  }
 },
 "nbformat": 4,
 "nbformat_minor": 5
}
