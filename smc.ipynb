{
 "cells": [
  {
   "cell_type": "code",
   "execution_count": 23,
   "id": "e819fe92",
   "metadata": {},
   "outputs": [],
   "source": [
    "import numpy as np\n",
    "from timeit import timeit as timeit\n",
    "import os\n",
    "import matplotlib.pyplot as plt\n",
    "import subprocess\n",
    "from joblib import Parallel, delayed\n",
    "import multiprocessing \n",
    "import pandas as pd"
   ]
  },
  {
   "cell_type": "markdown",
   "id": "7686954b",
   "metadata": {},
   "source": [
    "# **I - Formatage des données**"
   ]
  },
  {
   "cell_type": "markdown",
   "id": "ed1faf10",
   "metadata": {},
   "source": [
    "## Conversion du format SNP vers SMC\n",
    "Ici on convertit une matrice SNP en SMC. Dans ces deux fonctions on va juste gérer les colonnes ( données )"
   ]
  },
  {
   "cell_type": "markdown",
   "id": "60556ea4",
   "metadata": {},
   "source": [
    "**15,1 Go sans compression vs 2,31 Go avec compression**"
   ]
  },
  {
   "cell_type": "code",
   "execution_count": 24,
   "id": "3c74cda8",
   "metadata": {},
   "outputs": [],
   "source": [
    "def SNPtoSMC(dist, SNP, POS):\n",
    "    \"\"\"\n",
    "    dist : id de l'individu distingué\n",
    "    SNP : matrice de SNPs\n",
    "    POS : postions de la matrice de SNPs\n",
    "    return : une matrice au format SMC\n",
    "    \"\"\"\n",
    "    N = SNP.shape[0]\n",
    "    M = POS.shape[0]\n",
    "    N = N if N%2 == 0 else N - 1\n",
    "    SNP = SNP[:N]\n",
    "    # on remplace les 0 de la matrice de position par des 1\n",
    "    POS[POS == 0] = 1\n",
    "    assert dist < N/2\n",
    "    \n",
    "    dist *= 2\n",
    "    SMC = np.zeros((2*M,4), dtype=int)\n",
    "    SMC[:,-1] = N*np.ones(2*M, dtype=int) - 2\n",
    "    SMC[:, 0] = np.ones(2*M, dtype=int)\n",
    "    d = SNP[dist, :] + SNP[dist+1, :]\n",
    "    u = np.sum(SNP, axis=0, dtype=int) - d\n",
    "    SMC[1::2, 1:-1] = np.transpose([d, u]) \n",
    "    SMC[0::2, 0:-1] = np.transpose([POS - 1, np.zeros(M, dtype=int), np.zeros(M, dtype=int)])\n",
    "    todelete = np.argwhere(POS <= 1).transpose()*2\n",
    "    return np.delete(SMC, todelete, 0)"
   ]
  },
  {
   "cell_type": "code",
   "execution_count": 25,
   "id": "1bf2c401",
   "metadata": {},
   "outputs": [],
   "source": [
    "def loadfile(scenario, i, path=\"hdgp/scenario_\",form=\".npz\"):\n",
    "    file_name = path + scenario +\"/hdgp_\" + scenario + \"_\" + str(i) + form\n",
    "    print(file_name)\n",
    "    data = np.load(file_name)\n",
    "    return data"
   ]
  },
  {
   "cell_type": "code",
   "execution_count": 26,
   "id": "e830ba0d-0245-4a88-9159-16d4e718ccfd",
   "metadata": {},
   "outputs": [
    {
     "name": "stdout",
     "output_type": "stream",
     "text": [
      "hdgp/scenario_1576/hdgp_1576_1.npz\n",
      "(74, 654)\n"
     ]
    }
   ],
   "source": [
    "data = loadfile(\"1576\", 1)\n",
    "print(data[\"SNP\"].shape)"
   ]
  },
  {
   "cell_type": "markdown",
   "id": "6f465b80",
   "metadata": {},
   "source": [
    "Le les fichiers SMC ont besoin d'un header qui décrit la version du logiciel, une liste des individus distingués et une liste des individus non distingués.\n",
    "On crée alors une fonction qui prend en paramèmtre l'identifiant de la population considérée, l'individu distingué et le nombre total d'individus.\n",
    "La fonction renvoie le header correspondant."
   ]
  },
  {
   "cell_type": "code",
   "execution_count": 27,
   "id": "b91baab7",
   "metadata": {},
   "outputs": [],
   "source": [
    "def header_smc(pid, dist, n_ind):\n",
    "    \"\"\"\n",
    "    pid: id de la population considérée\n",
    "    dist: individu distingué\n",
    "    n_ind: nombre d'individus\n",
    "    return: le header correspondant pour le format SMC\n",
    "    \"\"\"\n",
    "    header = 'SMC++ {\"version\": \"1.15.4.dev18+gca077da\", \"pids\": [\"'+ pid +'\"], \"undist\": [['\n",
    "    for i in range(n_ind):\n",
    "        if(i != dist):\n",
    "            indid = pid + str(i)\n",
    "            header += '[\"' + indid + '\", 0], [\"' + indid + '\", 1], '\n",
    "    indid = pid + str(dist)\n",
    "    header = header[:-2] + ']], \"dist\": [[[\"' + indid +'\", 0], [\"' + indid + '\", 1]]]}'\n",
    "    return header"
   ]
  },
  {
   "cell_type": "code",
   "execution_count": 28,
   "id": "dba6c667",
   "metadata": {},
   "outputs": [
    {
     "name": "stdout",
     "output_type": "stream",
     "text": [
      "[[2 0 0 4]\n",
      " [1 0 2 4]\n",
      " [4 0 0 4]\n",
      " [1 0 1 4]\n",
      " [1 1 0 4]\n",
      " [9 0 0 4]\n",
      " [1 2 1 4]]\n",
      "[[2 0 0 4]\n",
      " [1 2 0 4]\n",
      " [4 0 0 4]\n",
      " [1 0 1 4]\n",
      " [1 0 1 4]\n",
      " [9 0 0 4]\n",
      " [1 0 3 4]]\n",
      "[[2 0 0 4]\n",
      " [1 0 2 4]\n",
      " [4 0 0 4]\n",
      " [1 1 0 4]\n",
      " [1 0 1 4]\n",
      " [9 0 0 4]\n",
      " [1 1 2 4]]\n"
     ]
    }
   ],
   "source": [
    "## test sur un exemple simple\n",
    "def test():\n",
    "    snp = np.array([\n",
    "    [0, 0, 1, 1],\n",
    "    [0, 0, 0, 1],\n",
    "    [1, 0, 0, 0],\n",
    "    [1, 0, 0, 0],\n",
    "    [0, 1, 0, 0],\n",
    "    [0, 0, 0, 1],\n",
    "    ])\n",
    "    pos = np.array([3, 5, 1, 10])\n",
    "    print(SNPtoSMC(0, snp, pos))\n",
    "    print(SNPtoSMC(1, snp, pos))\n",
    "    print(SNPtoSMC(2, snp, pos))\n",
    "test()"
   ]
  },
  {
   "cell_type": "code",
   "execution_count": 29,
   "id": "8459f7ff",
   "metadata": {},
   "outputs": [
    {
     "name": "stdout",
     "output_type": "stream",
     "text": [
      "hdgp/scenario_6/hdgp_6_5.npz\n",
      "[[ 320    0    0   34]\n",
      " [   1    1   17   34]\n",
      " [1091    0    0   34]\n",
      " [   1    0    3   34]\n",
      " [  54    0    0   34]\n",
      " [   1    1   17   34]\n",
      " [ 705    0    0   34]\n",
      " [   1    1    4   34]\n",
      " [ 210    0    0   34]\n",
      " [   1    0    2   34]]\n",
      "\n",
      "SNPtoSMC exec time 0.00166s\n",
      "Nombre de 0 dans la matrice de position : 19\n"
     ]
    }
   ],
   "source": [
    "## mesure du temps prise par la fonction SNPtoSMC\n",
    "n = 1000\n",
    "data = loadfile(scenario=\"6\", i=\"5\")\n",
    "SMC = SNPtoSMC(0, data['SNP'], data['POS'])\n",
    "print(SMC[:10])\n",
    "time = timeit(\"SNPtoSMC(0, data['SNP'], data['POS'])\", globals=globals(), number=n)/n\n",
    "print(f\"\\nSNPtoSMC exec time {time:.5f}s\")\n",
    "\n",
    "print(f\"Nombre de 0 dans la matrice de position : {np.sum(data['POS'] == 0)}\")\n",
    "assert (SMC[:, 0] > 0).any()"
   ]
  },
  {
   "cell_type": "markdown",
   "id": "2d4e2c3e",
   "metadata": {},
   "source": [
    "La première fonction sert à générer tous les fichiers SMC pour toutes données.\n",
    "Alors que la seconde fonction c'est juste pour un scénario en particulier"
   ]
  },
  {
   "cell_type": "code",
   "execution_count": 30,
   "id": "0c06bf39",
   "metadata": {},
   "outputs": [],
   "source": [
    "def one_scenario(d=\"scenario_11687\", save_dir=\"smc_files\"):\n",
    "    if save_dir not in os.listdir():\n",
    "        os.mkdir(save_dir)\n",
    "    for file in os.listdir(\"hdgp/\" + d):\n",
    "        # chargement des données\n",
    "        data = np.load(\"hdgp/\" + d + \"/\" + file)\n",
    "        SNP, POS = data['SNP'], data['POS']\n",
    "        # remplace tous les 0 de la matrice de positions par des 1\n",
    "        POS[POS == 0] = 1 \n",
    "        # on récupère le nombre d'individus (on le suppose pair)\n",
    "        N = data['SNP'].shape[0]\n",
    "        N = N if N%2 == 0 else N - 1\n",
    "        # création du dossier du scénario\n",
    "        scenario_dir = save_dir + \"/\" + d\n",
    "        if d not in os.listdir(save_dir):\n",
    "            os.mkdir(scenario_dir)\n",
    "            \n",
    "        for dist in range(0, int(N/2)):\n",
    "            # pour chaque individu distingué, on crée un dossier qui contient les fichiers smc associés\n",
    "            dist_dir = scenario_dir + \"/\" + \"dist_\" + str(dist)\n",
    "            if \"dist_\" + str(dist) not in os.listdir(scenario_dir):\n",
    "                os.mkdir(dist_dir)\n",
    "            SMC = SNPtoSMC(dist, SNP, POS)\n",
    "            filename = dist_dir + \"/\" + file + str(dist) + \".smc\"\n",
    "            header = header_smc(\"hdgp\", dist, N)\n",
    "            np.savetxt(filename , SMC, delimiter=' ', fmt = \"%d\", header=header)\n",
    "            \n",
    "def one_scenario_compressed (d=\"scenario_11687\", save_dir=\"smc.gz_files\"):\n",
    "    if save_dir not in os.listdir():\n",
    "        os.mkdir(save_dir)\n",
    "    for file in os.listdir(\"hdgp/\" + d):\n",
    "        # chargement des données\n",
    "        data = np.load(\"hdgp/\" + d + \"/\" + file)\n",
    "        SNP, POS = data['SNP'], data['POS']\n",
    "        # remplace tous les 0 de la matrice de positions par des 1\n",
    "        POS[POS == 0] = 1 \n",
    "        # on récupère le nombre d'individus (on le suppose pair)\n",
    "        N = data['SNP'].shape[0]\n",
    "        N = N if N%2 == 0 else N - 1\n",
    "        # création du dossier du scénario\n",
    "        scenario_dir = save_dir + \"/\" + d\n",
    "        if d not in os.listdir(save_dir):\n",
    "            os.mkdir(scenario_dir)\n",
    "            \n",
    "        for dist in range(0, int(N/2)):\n",
    "            # pour chaque individu distingué, on crée un dossier qui contient les fichiers smc associés\n",
    "            dist_dir = scenario_dir + \"/\" + \"dist_\" + str(dist)\n",
    "            if \"dist_\" + str(dist) not in os.listdir(scenario_dir):\n",
    "                os.mkdir(dist_dir)\n",
    "            SMC = SNPtoSMC(dist, SNP, POS)\n",
    "            filename = dist_dir + \"/\" + file + str(dist) + \".smc.gz\"\n",
    "            header = header_smc(\"hdgp\", dist, N)\n",
    "            np.savetxt(filename , SMC, delimiter=' ', fmt = \"%d\", header=header)\n",
    "            \n",
    "def all_scenarios(multi_thread=False, compressed=True):\n",
    "    if(multi_thread):\n",
    "        num_cores = multiprocessing.cpu_count()\n",
    "        if not compressed:\n",
    "            Parallel(n_jobs=num_cores)(delayed(one_scenario)(d) for d in os.listdir(\"hdgp\"))\n",
    "        else: \n",
    "            Parallel(n_jobs=num_cores)(delayed(one_scenario_compressed)(d) for d in os.listdir(\"hdgp\"))\n",
    "    else:\n",
    "        for d in os.listdir(\"hdgp\"):\n",
    "            if not compressed:\n",
    "                one_scenario(d)\n",
    "            else:\n",
    "                one_scenario_compressed(d)"
   ]
  },
  {
   "cell_type": "code",
   "execution_count": 31,
   "id": "b319d739",
   "metadata": {},
   "outputs": [],
   "source": [
    "#n = 3\n",
    "#time = timeit('one_scenario(\"scenario_6\")', globals=globals(), number=n)/n\n",
    "#print(f\"{time:.2f}s pour convertir tous les fichiers du scénario 6\")\n",
    "#n = 1\n",
    "#time = timeit(\"all_scenarios(True)\", globals=globals(), number=n)/n\n",
    "#print(f\"{time:.2f}s pour convertir tous les scénarios\")"
   ]
  },
  {
   "cell_type": "code",
   "execution_count": 32,
   "id": "7c6227d8",
   "metadata": {},
   "outputs": [],
   "source": [
    "n = 3\n",
    "#time = timeit('one_scenario(\"scenario_6\")', globals=globals(), number=n)/n\n",
    "#print(f\"{tim:.2f}s pour convertir tous les fichiers du scénario 6\")"
   ]
  },
  {
   "cell_type": "markdown",
   "id": "a4a5ad1d",
   "metadata": {},
   "source": [
    "**Le scenario 157 est assez lourd**"
   ]
  },
  {
   "cell_type": "code",
   "execution_count": 33,
   "id": "7af0e6ec",
   "metadata": {},
   "outputs": [],
   "source": [
    "n = 3\n",
    "#time = timeit('one_scenario(\"scenario_157\")', globals=globals(), number=n)/n\n",
    "#print(f\"{time:.2f}s pour convertir tous les fichiers du scénario 157\")"
   ]
  },
  {
   "cell_type": "markdown",
   "id": "5e7f6d1a",
   "metadata": {},
   "source": [
    "**Le scenario 565 est assez léger**"
   ]
  },
  {
   "cell_type": "code",
   "execution_count": 34,
   "id": "2f228773",
   "metadata": {},
   "outputs": [],
   "source": [
    "n = 3\n",
    "#time = timeit('one_scenario(\"scenario_565\")', globals=globals(), number=n)/n\n",
    "#print(f\"{time:.2f}s pour convertir tous les fichiers du scénario 565\")"
   ]
  },
  {
   "cell_type": "markdown",
   "id": "64cc2ced",
   "metadata": {},
   "source": [
    "## Transformations de tous les scénarios au format smc compressé"
   ]
  },
  {
   "cell_type": "code",
   "execution_count": 35,
   "id": "575349ed",
   "metadata": {},
   "outputs": [],
   "source": [
    "n = 1\n",
    "#time = timeit(\"all_scenarios(True)\", globals=globals(), number=n)/n\n",
    "#print(f\"{time:.2f}s pour convertir tous les scénarios\")"
   ]
  },
  {
   "cell_type": "markdown",
   "id": "f4057dae",
   "metadata": {},
   "source": [
    "# **III- Prédictions**"
   ]
  },
  {
   "cell_type": "code",
   "execution_count": 36,
   "id": "75ac9155",
   "metadata": {},
   "outputs": [],
   "source": [
    "def run_smc_estimate(scenario, out_dir=\"out\", display=False):\n",
    "    scenario_dir = f\"smc.gz_files/{scenario}\"\n",
    "    scenario_out_dir = f\"{out_dir}/{scenario}\"\n",
    "    if out_dir not in os.listdir():\n",
    "        os.mkdir(out_dir)\n",
    "    if scenario not in os.listdir(out_dir):\n",
    "        os.mkdir(scenario_out_dir)\n",
    "    for dist in os.listdir(scenario_dir):\n",
    "        scenario_out_dist_dir = f\"{scenario_out_dir}/{dist}\"\n",
    "        if dist not in os.listdir(scenario_out_dir):\n",
    "            os.mkdir(scenario_out_dist_dir)\n",
    "        command_estimate = f'smc++ estimate 1.45e-08 --knots 21 --timepoints 0 34483 -o {scenario_out_dist_dir} {scenario_dir}/{dist}/*.gz'\n",
    "        command_plot = f'smc++ plot {scenario_out_dist_dir}/plot.png {scenario_out_dist_dir}/model.final.json' \n",
    "        print(f\"running : {command_estimate}\")\n",
    "        # estimate\n",
    "        process = subprocess.Popen(command_estimate, shell=True,  stdout=subprocess.PIPE, stderr=subprocess.PIPE, universal_newlines=True)\n",
    "        stdout, stderr = process.communicate()\n",
    "        if(display):\n",
    "            print(stdout, stderr)\n",
    "        # plot the result\n",
    "        process = subprocess.Popen(command_plot, shell=True, stdout=subprocess.PIPE, stderr=subprocess.PIPE)\n",
    "        stdout, stderr = process.communicate()"
   ]
  },
  {
   "cell_type": "markdown",
   "id": "f43f9686",
   "metadata": {},
   "source": [
    "### Utilie pour faire les fichiers dont on a besoin"
   ]
  },
  {
   "cell_type": "code",
   "execution_count": 33,
   "id": "f87acb83",
   "metadata": {},
   "outputs": [
    {
     "name": "stdout",
     "output_type": "stream",
     "text": [
      "running : smc++ estimate 1.45e-08 --knots 22 --timepoints 0 34483 -o out/scenario_11687/dist_0 smc.gz_files/scenario_11687/dist_0/*.gz\n",
      "running : smc++ estimate 1.45e-08 --knots 22 --timepoints 0 34483 -o out/scenario_11687/dist_1 smc.gz_files/scenario_11687/dist_1/*.gz\n",
      "running : smc++ estimate 1.45e-08 --knots 22 --timepoints 0 34483 -o out/scenario_11687/dist_2 smc.gz_files/scenario_11687/dist_2/*.gz\n",
      "running : smc++ estimate 1.45e-08 --knots 22 --timepoints 0 34483 -o out/scenario_11687/dist_3 smc.gz_files/scenario_11687/dist_3/*.gz\n",
      "running : smc++ estimate 1.45e-08 --knots 22 --timepoints 0 34483 -o out/scenario_11687/dist_4 smc.gz_files/scenario_11687/dist_4/*.gz\n",
      "running : smc++ estimate 1.45e-08 --knots 22 --timepoints 0 34483 -o out/scenario_11687/dist_5 smc.gz_files/scenario_11687/dist_5/*.gz\n",
      "1973.42s smc\n"
     ]
    }
   ],
   "source": [
    "n = 1\n",
    "time = timeit('run_smc_estimate(\"scenario_11687\", display=False)', globals=globals(), number=n)/n\n",
    "print(f\"{time:.2f}s smc\")"
   ]
  },
  {
   "cell_type": "code",
   "execution_count": 41,
   "id": "c8b392f4",
   "metadata": {},
   "outputs": [],
   "source": [
    "def run_smc_plot(scenario, out_dir=\"out\", display=False):\n",
    "    scenario_dir = f\"smc_files/{scenario}\"\n",
    "    scenario_out_dir = f\"{out_dir}/{scenario}\"\n",
    "    assert out_dir in os.listdir()\n",
    "    assert scenario in os.listdir(out_dir)\n",
    "    for dist in os.listdir(scenario_dir):\n",
    "        scenario_out_dist_dir = f\"{scenario_out_dir}/{dist}\"\n",
    "        assert dist in os.listdir(scenario_out_dir)\n",
    "        command_plot = f'smc++ plot -c {scenario_out_dist_dir}/plot.png {scenario_out_dist_dir}/model.final.json' \n",
    "        print(f\"running : {command_plot}\")\n",
    "        # plot the result\n",
    "        process = subprocess.Popen(command_plot, shell=True, stdout=subprocess.PIPE, stderr=subprocess.PIPE)\n",
    "        stdout, stderr = process.communicate()"
   ]
  },
  {
   "cell_type": "code",
   "execution_count": 10,
   "id": "86b52414",
   "metadata": {},
   "outputs": [
    {
     "name": "stdout",
     "output_type": "stream",
     "text": [
      "running : smc++ plot -c out/scenario_11687/dist_5/plot.png out/scenario_11687/dist_5/model.final.json\n",
      "running : smc++ plot -c out/scenario_11687/dist_3/plot.png out/scenario_11687/dist_3/model.final.json\n",
      "running : smc++ plot -c out/scenario_11687/dist_0/plot.png out/scenario_11687/dist_0/model.final.json\n",
      "running : smc++ plot -c out/scenario_11687/dist_4/plot.png out/scenario_11687/dist_4/model.final.json\n",
      "running : smc++ plot -c out/scenario_11687/dist_1/plot.png out/scenario_11687/dist_1/model.final.json\n",
      "running : smc++ plot -c out/scenario_11687/dist_2/plot.png out/scenario_11687/dist_2/model.final.json\n"
     ]
    }
   ],
   "source": [
    "run_smc_plot(\"scenario_11687\")"
   ]
  },
  {
   "cell_type": "markdown",
   "id": "a7403015",
   "metadata": {},
   "source": [
    "## Je fais la moyenne des courbes sur les mêmes intervalles de temps ici"
   ]
  },
  {
   "cell_type": "code",
   "execution_count": 16,
   "id": "330e3605",
   "metadata": {},
   "outputs": [],
   "source": [
    "def meanPlot(scenario):\n",
    "    csv = pd.read_csv(f\"out/scenario_{scenario}/dist_{0}/plot.csv\") \n",
    "    y = csv['y'].to_numpy()\n",
    "\n",
    "    fig, ax = plt.subplots(1, 1)\n",
    "    ax.plot(csv['x'].to_numpy(), y, label=f\"scénario_{scenario}.dist{0}\")\n",
    "    \n",
    "    ax.ticklabel_format(style='sci', axis='x', scilimits=(0,0))\n",
    "    ax.set_xlim(100,10e3+1000)\n",
    "    ax.legend()\n"
   ]
  },
  {
   "cell_type": "markdown",
   "id": "b78ac69b",
   "metadata": {},
   "source": [
    "**On observe la même courbe faite à partir du csv que celle qui est générée, enfin plus ou moins**"
   ]
  },
  {
   "cell_type": "code",
   "execution_count": 27,
   "id": "35b563d1",
   "metadata": {},
   "outputs": [
    {
     "data": {
      "image/png": "[encoded data removed]",
      "text/plain": [
       "<Figure size 432x288 with 1 Axes>"
      ]
     },
     "metadata": {
      "needs_background": "light"
     },
     "output_type": "display_data"
    }
   ],
   "source": [
    "fig = plt.imread(f\"out/scenario_{scenario}/dist_{0}/plot.png\")\n",
    "plt.title(f\"scenario_{11687},dist_{0}\")\n",
    "plt.imshow(fig)\n",
    "plt.show()"
   ]
  },
  {
   "cell_type": "code",
   "execution_count": 29,
   "id": "85f5a0f1",
   "metadata": {
    "scrolled": true
   },
   "outputs": [
    {
     "data": {
      "image/png": "[encoded data removed]",
      "text/plain": [
       "<Figure size 432x288 with 1 Axes>"
      ]
     },
     "metadata": {
      "needs_background": "light"
     },
     "output_type": "display_data"
    }
   ],
   "source": [
    "meanPlot(11687) "
   ]
  },
  {
   "cell_type": "code",
   "execution_count": 81,
   "id": "35023a66",
   "metadata": {},
   "outputs": [],
   "source": [
    "def plotDist(scenario, populationStyle=True):\n",
    "    fig, ax = plt.subplots(1, 1, figsize=(13,6))\n",
    "    n_ind = len(os.listdir(f'out/scenario_{scenario}'))\n",
    "    for dist in range(n_ind):\n",
    "        file = f'out/scenario_{scenario}/dist_{dist}/plot.csv'\n",
    "        csv = pd.read_csv(file)\n",
    "        if populationStyle:\n",
    "            X, Y = toPlotPopulation(csv['x'].to_numpy(), csv['y'].to_numpy())\n",
    "        else:\n",
    "            X, Y = csv['x'].to_numpy(), csv['y'].to_numpy()\n",
    "        ax.plot(X, Y, label=f'dist_{dist}')\n",
    "    \n",
    "    ax.set_xlim(0,10e3+1000)\n",
    "    ax.set_yscale('log')\n",
    "    ax.legend()\n",
    "    ax.plot()"
   ]
  },
  {
   "cell_type": "code",
   "execution_count": 82,
   "id": "5a7c950c",
   "metadata": {},
   "outputs": [
    {
     "data": {
      "image/png": "[encoded data removed]",
      "text/plain": [
       "<Figure size 936x432 with 1 Axes>"
      ]
     },
     "metadata": {
      "needs_background": "light"
     },
     "output_type": "display_data"
    },
    {
     "data": {
      "image/png": "[encoded data removed]",
      "text/plain": [
       "<Figure size 936x432 with 1 Axes>"
      ]
     },
     "metadata": {
      "needs_background": "light"
     },
     "output_type": "display_data"
    }
   ],
   "source": [
    "plotDist(11687)\n",
    "plotDist(11687, False)"
   ]
  },
  {
   "cell_type": "code",
   "execution_count": 74,
   "id": "1bc5ebcb",
   "metadata": {},
   "outputs": [],
   "source": [
    "def meanPlot(scenario):\n",
    "    csv = pd.read_csv(f\"out/scenario_{scenario}/dist_{0}/plot.csv\") \n",
    "    x = csv['x'].to_numpy().tolist()\n",
    "    # je construit le grand intervalle ici\n",
    "    for dist in range(0,6):\n",
    "        csv = pd.read_csv(f\"out/scenario_{scenario}/dist_{dist}/plot.csv\") \n",
    "        x_temp = csv['x'].to_numpy().tolist()\n",
    "        for i in x_temp:\n",
    "            if i not in x:\n",
    "                x.append(i)\n",
    "    x = np.array(x)\n",
    "    x = np.sort(x)\n",
    "    y = np.zeros(len(x))\n",
    "    for dist in range(1,6):\n",
    "        csv = pd.read_csv(f\"out/scenario_{scenario}/dist_{dist}/plot.csv\")\n",
    "        y_res = complete(x,csv['x'].to_numpy(),csv['y'].to_numpy())\n",
    "        y += y_res\n",
    "    y = y/5\n",
    "    fig, ax = plt.subplots(1, 1)\n",
    "    ax.plot(x, y, label=f\"scénario_{scenario} moyenne\")\n",
    "    ax.ticklabel_format(style='sci', axis='x', scilimits=(0,0))\n",
    "    ax.set_xlim(0,10e3+1000)\n",
    "    ax.legend()\n",
    "    return x,y\n",
    "\n",
    "# ici il faut faire attention aux résultats de cette fonction\n",
    "def complete(x,x_v,y_v):\n",
    "    y_res = np.zeros(len(x))\n",
    "    compteur_x = 0\n",
    "    compteur_y=0\n",
    "    for val in x_v:\n",
    "        if x[compteur_x] == val:\n",
    "            y_res[compteur_x] = y_v[compteur_y]\n",
    "            compteur_x +=1\n",
    "        while  x[compteur_x] <= val:\n",
    "            y_res[compteur_x] = y_v[compteur_y]\n",
    "            compteur_x +=1\n",
    "            if compteur_x  == len(x):\n",
    "                break\n",
    "        compteur_y +=1\n",
    "    return y_res"
   ]
  },
  {
   "cell_type": "code",
   "execution_count": 179,
   "id": "846d95b7",
   "metadata": {},
   "outputs": [
    {
     "data": {
      "text/plain": [
       "array([ 10.,  11.,  11., 215., 215.])"
      ]
     },
     "execution_count": 179,
     "metadata": {},
     "output_type": "execute_result"
    }
   ],
   "source": [
    "complete( [1,2,3,4,5],[1,3,5],[10,11,215])"
   ]
  },
  {
   "cell_type": "code",
   "execution_count": 14,
   "id": "17810267",
   "metadata": {},
   "outputs": [],
   "source": [
    "#meanPlot(11687)"
   ]
  },
  {
   "cell_type": "markdown",
   "id": "350d35a1-eb78-4733-b93f-d2b08e4606f2",
   "metadata": {},
   "source": [
    "# **Partie Adygei**\n",
    "\n",
    "Dans cette partie, on va comparer le temps d'exécution et les résultats sur l'estimation smc, entre les fichiers de SNP et le fichier VCF.\n",
    "Les fichiers SNPs et les VCFs représentent les mêmes données, sous deux formats différents.\n",
    "\n",
    "On se concentre sur le chromosome21, avec 16 individus comme sample.\n",
    "\n",
    "Voici les fichiers SNPs associées\n",
    "```\n",
    "npz_data_pop_ancestral_derived $ ls -l | grep chr21\n",
    "-rw-r--r-- 1 jerome jerome  5665 Dec  1  2020 Adygei_chr21_1.npz\n",
    "-rw-r--r-- 1 jerome jerome  6266 Dec  1  2020 Adygei_chr21_10.npz\n",
    "-rw-r--r-- 1 jerome jerome  6071 Dec  1  2020 Adygei_chr21_11.npz\n",
    "-rw-r--r-- 1 jerome jerome  3672 Dec  1  2020 Adygei_chr21_12.npz\n",
    "-rw-r--r-- 1 jerome jerome  5833 Dec  1  2020 Adygei_chr21_13.npz\n",
    "-rw-r--r-- 1 jerome jerome  4055 Dec  1  2020 Adygei_chr21_14.npz\n",
    "-rw-r--r-- 1 jerome jerome  5206 Dec  1  2020 Adygei_chr21_15.npz\n",
    "-rw-r--r-- 1 jerome jerome  7222 Dec  1  2020 Adygei_chr21_16.npz\n",
    "-rw-r--r-- 1 jerome jerome  5802 Dec  1  2020 Adygei_chr21_2.npz\n",
    "-rw-r--r-- 1 jerome jerome  6950 Dec  1  2020 Adygei_chr21_3.npz\n",
    "-rw-r--r-- 1 jerome jerome  6251 Dec  1  2020 Adygei_chr21_4.npz\n",
    "-rw-r--r-- 1 jerome jerome  6116 Dec  1  2020 Adygei_chr21_5.npz\n",
    "-rw-r--r-- 1 jerome jerome  5602 Dec  1  2020 Adygei_chr21_6.npz\n",
    "-rw-r--r-- 1 jerome jerome  5624 Dec  1  2020 Adygei_chr21_7.npz\n",
    "-rw-r--r-- 1 jerome jerome  6579 Dec  1  2020 Adygei_chr21_8.npz\n",
    "-rw-r--r-- 1 jerome jerome  6916 Dec  1  2020 Adygei_chr21_9.npz\n",
    "\n",
    "```\n",
    "\n",
    "Voici les 16 individus du fichier VCF\n",
    "```\n",
    "HGDP01396\tHGDP01382\tHGDP01403\tHGDP01404\tHGDP01402\tHGDP01383\tHGDP01401\tHGDP01400\tHGDP01384\tHGDP01398\tHGDP01397\tHGDP01388\tHGDP01387\tHGDP01386\tHGDP01385\tHGDP01399\n",
    "```"
   ]
  },
  {
   "cell_type": "markdown",
   "id": "9b459b0d-331a-485a-a2be-6c2ed818911a",
   "metadata": {},
   "source": [
    "**On commence par transformer le fichier vcf dans le format accepté par SMC :\n",
    "Pour cela, il faut indexer le vcf et le fichier mask avec tabix**"
   ]
  },
  {
   "cell_type": "code",
   "execution_count": 89,
   "id": "61604c6c-a28c-4a7c-ae2e-094d5faca30a",
   "metadata": {},
   "outputs": [
    {
     "name": "stdout",
     "output_type": "stream",
     "text": [
      " [bgzip] can't create Adygei/Adygei_hgdp_wgs.20190516.full.chr21.vcf.gz: File exists\n",
      "\n",
      " [tabix] the index file exists. Please use '-f' to overwrite.\n",
      "\n",
      " [bgzip] can't create Adygei/hgdp_wgs.20190516.mask.bed.gz: File exists\n",
      "\n",
      " [tabix] the index file exists. Please use '-f' to overwrite.\n",
      "\n",
      "executing: smc++ vcf2smc Adygei/Adygei_hgdp_wgs.20190516.full.chr21.vcf.gz Adygei/out.smc -m Adygei/hgdp_wgs.20190516.mask.bed.gz chr21 HGPD:HGDP01396,HGDP01382,HGDP01403,HGDP01404,HGDP01402,HGDP01383,HGDP01401,HGDP01400,HGDP01384,HGDP01398,HGDP01397,HGDP01388,HGDP01387,HGDP01386,HGDP01385,HGDP01399\n"
     ]
    }
   ],
   "source": [
    "adygei_folder = \"Adygei\"\n",
    "vcf_file = \"Adygei_hgdp_wgs.20190516.full.chr21.vcf\"\n",
    "mask_file = \"hgdp_wgs.20190516.mask.bed\"\n",
    "for file in [vcf_file, mask_file]:\n",
    "    bgzip = f\"bgzip {adygei_folder}/{file}\"\n",
    "    tabix = f\"tabix {adygei_folder}/{file}.gz\"\n",
    "    process = subprocess.Popen(bgzip, shell=True,  stdout=subprocess.PIPE, stderr=subprocess.PIPE, universal_newlines=True)\n",
    "    stdout, stderr = process.communicate()\n",
    "    print(stdout, stderr)\n",
    "    process = subprocess.Popen(tabix, shell=True,  stdout=subprocess.PIPE, stderr=subprocess.PIPE, universal_newlines=True)\n",
    "    stdout, stderr = process.communicate()\n",
    "    print(stdout, stderr)\n",
    "vcf2smc = f\"smc++ vcf2smc {adygei_folder}/{vcf_file}.gz {adygei_folder}/out.smc -m {adygei_folder}/hgdp_wgs.20190516.mask.bed.gz chr21 HGPD:HGDP01396,HGDP01382,HGDP01403,HGDP01404,HGDP01402,HGDP01383,HGDP01401,HGDP01400,HGDP01384,HGDP01398,HGDP01397,HGDP01388,HGDP01387,HGDP01386,HGDP01385,HGDP01399\"\n",
    "process = subprocess.Popen(vcf2smc, shell=True,  stdout=subprocess.PIPE, stderr=subprocess.PIPE, universal_newlines=True)\n",
    "print(f\"executing: {vcf2smc}\")\n",
    "stdout, stderr = process.communicate()\n",
    "#print(stdout, stderr)"
   ]
  },
  {
   "cell_type": "markdown",
   "id": "69046a73-b446-484a-bbdc-027a48faa603",
   "metadata": {},
   "source": [
    "**Puis on fait une estimation:**"
   ]
  },
  {
   "cell_type": "code",
   "execution_count": 120,
   "id": "fbcb3ca5-c317-4ece-b51d-049289ac08b0",
   "metadata": {},
   "outputs": [],
   "source": [
    "estimate = f\"smc++ estimate 1e-8 {adygei_folder}/out.smc -o {adygei_folder} --timepoints 0 10000\"\n",
    "process = subprocess.Popen(estimate, shell=True,  stdout=subprocess.PIPE, stderr=subprocess.PIPE, universal_newlines=True)\n",
    "timecsv = timeit('process.communicate()', globals=globals(), number=1)"
   ]
  },
  {
   "cell_type": "markdown",
   "id": "41647614-05a3-4f41-a6cc-b164eb9ead01",
   "metadata": {},
   "source": [
    "**On fait la même chose mais avec notre fonction adygei_folder**"
   ]
  },
  {
   "cell_type": "code",
   "execution_count": 121,
   "id": "4ea5a05d-3593-46a8-8008-33b611a281a8",
   "metadata": {},
   "outputs": [],
   "source": [
    "if \"snptosmc\" not in os.listdir(adygei_folder):\n",
    "    os.mkdir(f\"{adygei_folder}/snptosmc\")\n",
    "for i in range(1, 17):\n",
    "    data = np.load(f\"{adygei_folder}/snps/Adygei_chr21_{i}.npz\")\n",
    "    SNP = data[\"SNP\"]\n",
    "    POS = data[\"POS\"]\n",
    "    SMC = SNPtoSMC(1, SNP, POS)\n",
    "    header = header_smc(\"adygei\", 1, SNP.shape[0])\n",
    "    np.savetxt(f\"{adygei_folder}/snptosmc/chr21_{i}.smc\" , SMC, delimiter=' ', fmt = \"%d\", header=header)"
   ]
  },
  {
   "cell_type": "markdown",
   "id": "3a65087a-b7ae-4eb3-a00b-a45358131f25",
   "metadata": {},
   "source": [
    "**On fait l'estimation**"
   ]
  },
  {
   "cell_type": "code",
   "execution_count": 122,
   "id": "e8ccaa1f-e664-4c3b-814d-3c86b1ca0745",
   "metadata": {},
   "outputs": [],
   "source": [
    "estimate = f\"smc++ estimate 1e-8 {adygei_folder}/snptosmc/*.smc -o {adygei_folder}/snptosmc --timepoints 0 10000\"\n",
    "process = subprocess.Popen(estimate, shell=True,  stdout=subprocess.PIPE, stderr=subprocess.PIPE, universal_newlines=True)\n",
    "timesnp = timeit('process.communicate()', globals=globals())"
   ]
  },
  {
   "cell_type": "markdown",
   "id": "0d00abff-2910-4455-b141-9414ebd9afb8",
   "metadata": {},
   "source": [
    "**On affiche ces deux estimations**"
   ]
  },
  {
   "cell_type": "code",
   "execution_count": 123,
   "id": "c62157bc-7429-4a75-93ff-02dd1798f4f5",
   "metadata": {},
   "outputs": [
    {
     "name": "stdout",
     "output_type": "stream",
     "text": [
      " \n",
      " \n"
     ]
    },
    {
     "data": {
      "image/png": "[encoded data removed]",
      "text/plain": [
       "<Figure size 432x288 with 1 Axes>"
      ]
     },
     "metadata": {
      "needs_background": "light"
     },
     "output_type": "display_data"
    },
    {
     "data": {
      "image/png": "[encoded data removed]",
      "text/plain": [
       "<Figure size 432x288 with 1 Axes>"
      ]
     },
     "metadata": {
      "needs_background": "light"
     },
     "output_type": "display_data"
    },
    {
     "name": "stdout",
     "output_type": "stream",
     "text": [
      "temps pour snp :26.6min,\n",
      "pour csv 10.8min\n"
     ]
    },
    {
     "ename": "AssertionError",
     "evalue": "",
     "output_type": "error",
     "traceback": [
      "\u001b[0;31m---------------------------------------------------------------------------\u001b[0m",
      "\u001b[0;31mAssertionError\u001b[0m                            Traceback (most recent call last)",
      "\u001b[0;32m<ipython-input-123-636550a330d6>\u001b[0m in \u001b[0;36m<module>\u001b[0;34m\u001b[0m\n\u001b[1;32m     21\u001b[0m \u001b[0mX_csv\u001b[0m\u001b[0;34m,\u001b[0m \u001b[0mY_csv\u001b[0m \u001b[0;34m=\u001b[0m \u001b[0mloadCSV_plot\u001b[0m\u001b[0;34m(\u001b[0m\u001b[0;34mf\"{adygei_folder}/plot.csv\"\u001b[0m\u001b[0;34m)\u001b[0m\u001b[0;34m\u001b[0m\u001b[0;34m\u001b[0m\u001b[0m\n\u001b[1;32m     22\u001b[0m \u001b[0;32massert\u001b[0m \u001b[0mX_smc\u001b[0m\u001b[0;34m[\u001b[0m\u001b[0;36m0\u001b[0m\u001b[0;34m]\u001b[0m \u001b[0;34m==\u001b[0m \u001b[0mX_csv\u001b[0m\u001b[0;34m[\u001b[0m\u001b[0;36m0\u001b[0m\u001b[0;34m]\u001b[0m\u001b[0;34m\u001b[0m\u001b[0;34m\u001b[0m\u001b[0m\n\u001b[0;32m---> 23\u001b[0;31m \u001b[0;32massert\u001b[0m \u001b[0mX_smc\u001b[0m\u001b[0;34m[\u001b[0m\u001b[0;34m-\u001b[0m\u001b[0;36m1\u001b[0m\u001b[0;34m]\u001b[0m \u001b[0;34m==\u001b[0m \u001b[0mX_csv\u001b[0m\u001b[0;34m[\u001b[0m\u001b[0;34m-\u001b[0m\u001b[0;36m1\u001b[0m\u001b[0;34m]\u001b[0m\u001b[0;34m\u001b[0m\u001b[0;34m\u001b[0m\u001b[0m\n\u001b[0m\u001b[1;32m     24\u001b[0m \u001b[0mplotError\u001b[0m\u001b[0;34m(\u001b[0m\u001b[0mX_csv\u001b[0m\u001b[0;34m,\u001b[0m \u001b[0mY_csv\u001b[0m\u001b[0;34m,\u001b[0m \u001b[0mX_smc\u001b[0m\u001b[0;34m,\u001b[0m \u001b[0mY_smc\u001b[0m\u001b[0;34m)\u001b[0m\u001b[0;34m\u001b[0m\u001b[0;34m\u001b[0m\u001b[0m\n",
      "\u001b[0;31mAssertionError\u001b[0m: "
     ]
    }
   ],
   "source": [
    "plot = f\"smc++ plot -c {adygei_folder}/plot.png {adygei_folder}/model.final.json\"\n",
    "process = subprocess.Popen(plot, shell=True,  stdout=subprocess.PIPE, stderr=subprocess.PIPE, universal_newlines=True)\n",
    "stdout, stderr = process.communicate()\n",
    "print(stdout, stderr)\n",
    "plot = f\"smc++ plot -c {adygei_folder}/snptosmc/plot.png {adygei_folder}/snptosmc/model.final.json\"\n",
    "process = subprocess.Popen(plot, shell=True,  stdout=subprocess.PIPE, stderr=subprocess.PIPE, universal_newlines=True)\n",
    "stdout, stderr = process.communicate()\n",
    "print(stdout, stderr)\n",
    "figsnp = plt.imread(f\"{adygei_folder}/snptosmc/plot.png\")\n",
    "figvcf = plt.imread(f\"{adygei_folder}/plot.png\")\n",
    "plt.title(f\"snp\")\n",
    "plt.imshow(figsnp)\n",
    "plt.show()\n",
    "plt.title(f\"vcf\")\n",
    "plt.imshow(figvcf)\n",
    "plt.show()\n",
    "\n",
    "print(f\"temps pour snp :{timesnp/60:.1f}min,\\npour csv {timecsv/60:.1f}min\")\n",
    "\n",
    "X_smc, Y_smc = loadCSV_plot(f\"{adygei_folder}/snptosmc/plot.csv\")\n",
    "X_csv, Y_csv = loadCSV_plot(f\"{adygei_folder}/plot.csv\")\n",
    "assert X_smc[0] == X_csv[0]\n",
    "assert X_smc[-1] == X_csv[-1]\n",
    "plotError(X_csv, Y_csv, X_smc, Y_smc)"
   ]
  },
  {
   "cell_type": "markdown",
   "id": "cacc0033-908e-4374-ab45-062d6281ece3",
   "metadata": {},
   "source": [
    "On ne comprend pas pourquoi sur l'estimation à partir du csv, on n'a pas le bon intervalle.\n",
    "Comme les résultats sont différents, on ne peut pas conclure sur le temps de calcul."
   ]
  },
  {
   "cell_type": "code",
   "execution_count": 124,
   "id": "219a0d79-2c13-4102-8dd6-02e502d4b07b",
   "metadata": {},
   "outputs": [
    {
     "name": "stdout",
     "output_type": "stream",
     "text": [
      "10000.0 47129.51010176622\n"
     ]
    }
   ],
   "source": [
    "print(X_smc[-1], X_csv[-1])"
   ]
  },
  {
   "cell_type": "markdown",
   "id": "40133947-133d-47b8-930f-41dbed2b43ed",
   "metadata": {},
   "source": [
    "# **MSE**\n",
    "\n",
    "* On s'interesse à calculer la MSE entre deux courbres sur les mêmes intervalles, mais avec des découpages différents.\n",
    "* On prend donc un découpage de référence (ici le premier donné à la fonction MSE)\n",
    "* On fait alors la moyenne pondéré de la taille de l'intervalle pour calculer l'erreur entre les deux courbes."
   ]
  },
  {
   "cell_type": "code",
   "execution_count": 129,
   "id": "67b1dfc9-5d71-43b9-991b-a680ed3dc5e0",
   "metadata": {},
   "outputs": [],
   "source": [
    "def toPlotPopulation(X, Y):\n",
    "    \"\"\"\n",
    "    Cette fonction permet la création de \n",
    "    tableaux numpy pour faire un affichage\n",
    "    de populations sur des intervalles\n",
    "    \"\"\"\n",
    "    X2 = np.zeros(2*X.size)\n",
    "    Y2 = np.zeros(2*Y.size)\n",
    "    X2[1::2], X2[::2] = X, X\n",
    "    Y2[1::2], Y2[::2] = Y, Y\n",
    "    X2 = X2[1:]\n",
    "    Y2 = Y2[:-1]\n",
    "    N = X.size\n",
    "    interval_size = max(X2) - min(X2)\n",
    "    X2 = np.append(X2, X2[-1] + interval_size/N)\n",
    "    Y2 = np.append(Y2, Y2[-1])\n",
    "    return X2, Y2"
   ]
  },
  {
   "cell_type": "code",
   "execution_count": 130,
   "id": "c1a240c6-b10d-43f2-96df-4a8b4178b7e8",
   "metadata": {},
   "outputs": [],
   "source": [
    "def plotError(trueX, trueY, smcX, smcY):\n",
    "    mse, error = MSE(trueX, trueY, smcX, smcY)\n",
    "    trueX2, trueY2 = toPlotPopulation(trueX, trueY)\n",
    "    smcX2, smcY2 = toPlotPopulation(smcX, smcY)\n",
    "    trueX2, error2 = toPlotPopulation(trueX, error)\n",
    "    fig, ax = plt.subplots(1, 1, figsize=(20, 10))\n",
    "    ax.plot(trueX2, trueY2, label='true')\n",
    "    ax.plot(smcX2, smcY2, label='smc')\n",
    "    ax.plot(trueX2, error2, c='red', label='error')\n",
    "    ax.set_title(f\"MSE={mse:.2f}\")\n",
    "    ax.set_yscale('log')\n",
    "    ax.legend()"
   ]
  },
  {
   "cell_type": "code",
   "execution_count": 131,
   "id": "c9d1a9ef-b8af-4c76-b196-44178e0077b6",
   "metadata": {},
   "outputs": [],
   "source": [
    "def MSE(trueX, trueY, smcX, smcY):\n",
    "    \"\"\"\n",
    "    Prend deux estimations sur des intervalles de même taille, mais avec des découpages différents.\n",
    "    Renvoie l'erreur et la MSE par rapport au découpage des données \"true\"\n",
    "    \"\"\"\n",
    "    assert trueX[0] == smcX[0]\n",
    "    assert trueX[-1] == smcX[-1]\n",
    "    error = np.zeros(len(trueX))\n",
    "    for i in range(1, len(trueX)):\n",
    "        validIds = (smcX >= trueX[i-1]) * (smcX <= trueX[i])\n",
    "        subX = smcX[validIds]\n",
    "        subY = smcY[validIds]\n",
    "        if trueX[i-1] not in subX:\n",
    "            subX = np.insert(subX, 0, trueX[i-1])\n",
    "            lastId = np.argwhere(smcX < trueX[i-1])[-1]\n",
    "            subY = np.insert(subY, 0, smcY[lastId])\n",
    "        if trueX[i] not in subX:\n",
    "            subX = np.append(subX, trueX[i])\n",
    "            subY = np.append(subY, subY[-1])\n",
    "        subX /= (max(subX) - min(subX))\n",
    "        subX = subX[1:] - subX[:-1]\n",
    "        error[i-1] = abs(np.dot(subX, subY[:-1]) - trueY[i-1])\n",
    "    error[-1] = abs(np.dot(subX[-1], subX[-1]) - trueY[-1])\n",
    "    mse = np.sum(np.dot(error, error))/len(error)\n",
    "    return mse, error"
   ]
  },
  {
   "cell_type": "markdown",
   "id": "ac1851a5-1b75-4844-91ce-b6706bdde9be",
   "metadata": {},
   "source": [
    "**On teste les fonctions plotError et MSE avec des fonctions simples**"
   ]
  },
  {
   "cell_type": "code",
   "execution_count": 517,
   "id": "caa88904-e02b-4316-8268-853566621b8b",
   "metadata": {},
   "outputs": [
    {
     "data": {
      "image/png": "[encoded data removed]",
      "text/plain": [
       "<Figure size 1440x720 with 1 Axes>"
      ]
     },
     "metadata": {
      "needs_background": "light"
     },
     "output_type": "display_data"
    }
   ],
   "source": [
    "trueX = np.linspace(1, 10, 20)\n",
    "smcX = np.linspace(1, 10, 100)\n",
    "trueY = np.log(trueX)\n",
    "smcY = np.sin(smcX)\n",
    "plotError(trueX, trueY, smcX, smcY)"
   ]
  },
  {
   "cell_type": "markdown",
   "id": "5347f17d-5669-4edc-ae02-de0fafd0740f",
   "metadata": {},
   "source": [
    "# Partie comparaison VCF et SMC"
   ]
  },
  {
   "cell_type": "markdown",
   "id": "68422517-24fb-4639-b0d8-952dd2674ddd",
   "metadata": {},
   "source": [
    "L'objectif est de comparer notre parser SNP → SMC avec le programme vcf2smc de smc++.\n",
    "On commence par charger les données en mémoire."
   ]
  },
  {
   "cell_type": "code",
   "execution_count": 103,
   "id": "ff483aa7-b7b2-46aa-8580-ef64e1c14a28",
   "metadata": {},
   "outputs": [],
   "source": [
    "def loadCSV_plot(file):\n",
    "    smcData = pd.read_csv(file, sep=',')\n",
    "    X = smcData['x'].to_numpy()\n",
    "    Y = smcData['y'].to_numpy()\n",
    "    return X, Y\n",
    "    \n",
    "def loadCSV_subsample(scenario = 11687):\n",
    "    trueData = np.genfromtxt('hdgp_demo_parameters_subsample.csv',delimiter=',', dtype=int)\n",
    "    trueX = trueData[1,6:27]\n",
    "    ids = np.argwhere(trueData[:,0] == scenario)\n",
    "    trueY = trueData[ids,27:].flatten()\n",
    "    \n",
    "    dist = 0\n",
    "    file = f'out/scenario_{scenario}/dist_{dist}/plot.csv'\n",
    "    smcData = pd.read_csv(file)\n",
    "    smcX = smcData['x'].to_numpy()\n",
    "    smcY = smcData['y'].to_numpy()\n",
    "    return trueX, trueY, smcX, smcY\n",
    "\n",
    "def generate_string_vcftosmc(pop, N):\n",
    "    \"\"\"\n",
    "    pop: the name of the poppulation\n",
    "    N: the number of individuals (not the number of chromosomes)\n",
    "    \"\"\"\n",
    "    string = f\"{pop}:\"\n",
    "    for i in range(N):\n",
    "        string += f\"{pop}_{i},\"\n",
    "    return string[:-1]"
   ]
  },
  {
   "cell_type": "code",
   "execution_count": 107,
   "id": "04db745d-135a-4340-beb4-957f3404925a",
   "metadata": {},
   "outputs": [
    {
     "name": "stdout",
     "output_type": "stream",
     "text": [
      "N=10, scenario 46\n",
      "bgzip data_hdgp_2mb_vcf/hdgp/scenario_46/hdgp_46_73.vcf  [bgzip] No such file or directory: data_hdgp_2mb_vcf/hdgp/scenario_46/hdgp_46_73.vcf\n",
      "\n",
      "tabix data_hdgp_2mb_vcf/hdgp/scenario_46/hdgp_46_73.vcf.gz  [tabix] the index file exists. Please use '-f' to overwrite.\n",
      "\n",
      " 925 smcpp.commands.vcf2smc WARNING Neither missing cutoff (-c) or mask (-m) has been specified. This means that stretches of the chromosome that do not have any VCF entries (for example, centromeres) will be interpreted as homozygous recessive.\n",
      "925 smcpp.commands.vcf2smc INFO Population 1:\n",
      "925 smcpp.commands.vcf2smc INFO Distinguished lineages: tsk_0:0, tsk_0:1\n",
      "925 smcpp.commands.vcf2smc INFO Undistinguished lineages: tsk_1:0, tsk_1:1, tsk_2:0, tsk_2:1, tsk_3:0, tsk_3:1, tsk_4:0, tsk_4:1\n",
      "\n",
      "  0%|          | 0.00/2.00M [00:00<?, ?bases/s]\n",
      "100%|█████████▉| 2.00M/2.00M [00:00<00:00, 81.5Mbases/s]\n",
      "952 smcpp.util   INFO Wrote 1491 observations\n",
      "\n",
      "(1489, 4) (1491, 4)\n",
      "[[10077     0     0     8]\n",
      " [    1     0     1     8]\n",
      " [ 2527     0     0     8]\n",
      " [    1     0     1     8]\n",
      " [ 2100     0     0     8]\n",
      " [    1     0     1     8]\n",
      " [  195     0     0     8]\n",
      " [    1     0     1     8]\n",
      " [ 7786     0     0     8]\n",
      " [    1     0     1     8]\n",
      " [  346     0     0     8]\n",
      " [    1     1     3     8]\n",
      " [  575     0     0     8]\n",
      " [    1     0     3     8]\n",
      " [  713     0     0     8]\n",
      " [    1     0     1     8]\n",
      " [  482     0     0     8]\n",
      " [    1     0     1     8]\n",
      " [ 2112     0     0     8]\n",
      " [    1     1     0     8]] \n",
      "\n",
      "[[10077     0     0     8]\n",
      " [    1     0     1     8]\n",
      " [ 2526     0     0     8]\n",
      " [    1     0     1     8]\n",
      " [ 2099     0     0     8]\n",
      " [    1     0     1     8]\n",
      " [  195     0     0     8]\n",
      " [    1     0     1     8]\n",
      " [ 7786     0     0     8]\n",
      " [    1     0     1     8]\n",
      " [  345     0     0     8]\n",
      " [    1     1     3     8]\n",
      " [  574     0     0     8]\n",
      " [    1     0     3     8]\n",
      " [  713     0     0     8]\n",
      " [    1     0     1     8]\n",
      " [  481     0     0     8]\n",
      " [    1     0     1     8]\n",
      " [ 2111     0     0     8]\n",
      " [    1     1     0     8]] \n",
      "\n",
      "[[0 0 0 0]\n",
      " [0 0 0 0]\n",
      " [1 0 0 0]\n",
      " [0 0 0 0]\n",
      " [1 0 0 0]\n",
      " [0 0 0 0]\n",
      " [0 0 0 0]\n",
      " [0 0 0 0]\n",
      " [0 0 0 0]\n",
      " [0 0 0 0]\n",
      " [1 0 0 0]\n",
      " [0 0 0 0]\n",
      " [1 0 0 0]\n",
      " [0 0 0 0]\n",
      " [0 0 0 0]\n",
      " [0 0 0 0]\n",
      " [1 0 0 0]\n",
      " [0 0 0 0]\n",
      " [1 0 0 0]\n",
      " [0 0 0 0]]\n",
      "26.02 % de différence\n"
     ]
    }
   ],
   "source": [
    "directory = \"data_hdgp_2mb_vcf\"\n",
    "hdgp_dir = f\"{directory}/hdgp\"\n",
    "scenario = \"46\"\n",
    "indiv = \"73\"\n",
    "scenario_dir = f\"{hdgp_dir}/scenario_{scenario}\"\n",
    "dist = 0\n",
    "file = f\"{scenario_dir}/hdgp_{scenario}_{indiv}\"\n",
    "smc_dir = f\"{directory}/smc\"\n",
    "if \"smc\" not in os.listdir(directory):\n",
    "    os.mkdir(smc_dir)\n",
    "if f\"scenario_{scenario}\" not in os.listdir(smc_dir):\n",
    "    os.mkdir(f\"{smc_dir}/scenario_{scenario}\")\n",
    "smc_file_vcf = f\"{smc_dir}/scenario_{scenario}/hdgp_{scenario}_{indiv}.vcf.smc\"\n",
    "smc_file_snp = f\"{smc_dir}/scenario_{scenario}/hdgp_{scenario}_{indiv}.snp.smc\"\n",
    "\n",
    "## convertir le snp en smc\n",
    "data = np.load(f\"{file}.npz\")\n",
    "SNP, POS = data[\"SNP\"], data[\"POS\"]\n",
    "N = len(SNP) if len(SNP) % 2 == 0 else len(SNP) - 1\n",
    "print(f\"N={N}, scenario {scenario}\")\n",
    "SMC_snp = SNPtoSMC(dist, SNP, POS)\n",
    "header = header_smc(\"tsk\", dist, N)\n",
    "np.savetxt(smc_file_snp, SMC_snp, delimiter=' ', fmt = \"%d\", header=header)\n",
    "\n",
    "## convertir le vcf en smc\n",
    "bgzip = f\"bgzip {file}.vcf\"\n",
    "tabix = f\"tabix {file}.vcf.gz\"\n",
    "process = subprocess.Popen(bgzip, shell=True,  stdout=subprocess.PIPE, stderr=subprocess.PIPE, universal_newlines=True)\n",
    "stdout, stderr = process.communicate()\n",
    "print(bgzip, stdout, stderr)\n",
    "process = subprocess.Popen(tabix, shell=True,  stdout=subprocess.PIPE, stderr=subprocess.PIPE, universal_newlines=True)\n",
    "stdout, stderr = process.communicate()\n",
    "print(tabix, stdout, stderr)\n",
    "string = generate_string_vcftosmc(\"tsk\", int(N/2))\n",
    "vcf2smc = f\"smc++ vcf2smc {file}.vcf.gz {smc_file_vcf} 1 {string}\"\n",
    "process = subprocess.Popen(vcf2smc, shell=True,  stdout=subprocess.PIPE, stderr=subprocess.PIPE, universal_newlines=True)\n",
    "stdout, stderr = process.communicate()\n",
    "print(stdout, stderr)\n",
    "\n",
    "## récupérer les smc en mémoire\n",
    "SMC_vcf = np.loadtxt(f\"{smc_file_vcf}\", dtype=int)\n",
    "print(SMC_snp.shape, SMC_vcf.shape)\n",
    "n = 0\n",
    "minSize = min([SMC_snp.shape[0], SMC_vcf.shape[0]])\n",
    "print(SMC_vcf[n:n+20], '\\n')\n",
    "print(SMC_snp[n:n+20], '\\n')\n",
    "print((SMC_vcf[:minSize] - SMC_snp[:minSize])[n:n+20])\n",
    "print( f\"{100*(SMC_vcf[:minSize] != SMC_snp[:minSize]).sum() / SMC_vcf.size:.2f}\" , \"% de différence\")"
   ]
  },
  {
   "cell_type": "markdown",
   "id": "5b2171c2-0f7e-4e05-bd70-3e5b9ba6cdfb",
   "metadata": {},
   "source": [
    "**On observe 26% de différence. Cela est du aux décallages qu'il y a entre les deux fichiers.\n",
    "En effet, on s'apercoit que les positions (transformées en positions relatives) du fichier VCF et les positions relatives du fichier SNP ne sont pas tout à fait identiques.**\n",
    "\n",
    "**De plus, il y a des zéros dans les fichiers.\n",
    "Sur ce scénario, il n'y a pas de 0 sur le VCF mais c'est n'est pas le cas de tous les scénarios.\n",
    "Pour les SNP, nous remplaçons tous les 0 par des 1 dans notre fonction SNPtoSMC.**"
   ]
  },
  {
   "cell_type": "code",
   "execution_count": 105,
   "id": "9218beff-a3ae-43c4-a60c-8fad6d15f326",
   "metadata": {},
   "outputs": [
    {
     "name": "stdout",
     "output_type": "stream",
     "text": [
      "vcf positions [10078  2528  2101   196  7787   347   576   714   483  2113]\n",
      "snp positions [10078  2527  2100   196  7787   346   575   714   482  2112]\n",
      "Les 0 dans les positions vcf []\n",
      "Les 0 dans les positions snp []\n"
     ]
    }
   ],
   "source": [
    "command = f'gunzip {file}.vcf.gz; awk ' + \"'{print $2}'\" + f\" {file}.vcf | tr '\\n' ',' | sed -E 's/.*POS,//' | sed -E 's/.$//' \"\n",
    "process = subprocess.Popen(command, shell=True,  stdout=subprocess.PIPE, stderr=subprocess.PIPE, universal_newlines=True)\n",
    "stdout, stderr = process.communicate()\n",
    "tab = np.fromstring(stdout, sep=',', dtype=int)\n",
    "tab_relative = np.zeros(len(tab), dtype=int)\n",
    "tab_relative[0] = tab[0]\n",
    "for i in range(1, len(tab)):\n",
    "    tab_relative[i] = tab[i] - tab[i-1]\n",
    "n = 10\n",
    "print(\"vcf positions\", tab_relative[:n])\n",
    "print(\"snp positions\", POS[:n])\n",
    "print(\"Les 0 dans les positions vcf\", np.argwhere(tab_relative == 0 ).transpose())\n",
    "print(\"Les 0 dans les positions snp\", np.argwhere(POS == 0 ).transpose())\n",
    "u, c = np.unique(tab, return_counts=True)\n",
    "dup = u[c > 1]"
   ]
  },
  {
   "cell_type": "markdown",
   "id": "3342001e-4c60-41cd-aa3f-e0fb8dccecbf",
   "metadata": {},
   "source": [
    "### Prédictions sur ces fichiers\n",
    "\n",
    "**Malgré les grosses différences entre les fichiers générés, on va quand même faire une estimation, puis comparer les résultats.**"
   ]
  },
  {
   "cell_type": "code",
   "execution_count": 450,
   "id": "709e1337-d882-446f-8b38-349cfdd46c90",
   "metadata": {},
   "outputs": [],
   "source": [
    "# pour le fichier snp\n",
    "estimate = f'smc++ estimate 1.45e-08 --knots 21 --timepoints 0 34483 {smc_file_snp}'\n",
    "process = subprocess.Popen(estimate, shell=True,  stdout=subprocess.PIPE, stderr=subprocess.PIPE, universal_newlines=True)\n",
    "stdout, stderr = process.communicate()\n",
    "model_snp = f\"{smc_dir}/scenario_{scenario}/model_{scenario}_{indiv}.snp.json\"\n",
    "os.rename('model.final.json', model_snp)\n",
    "\n",
    "# pour le ficher vcf\n",
    "estimate = f'smc++ estimate 1.45e-08 --knots 21 --timepoints 0 34483 {smc_file_vcf}'\n",
    "process = subprocess.Popen(estimate, shell=True,  stdout=subprocess.PIPE, stderr=subprocess.PIPE, universal_newlines=True)\n",
    "stdout, stderr = process.communicate()\n",
    "model_vcf = f\"{smc_dir}/scenario_{scenario}/model_{scenario}_{indiv}.vcf.json\"\n",
    "os.rename('model.final.json', model_vcf)"
   ]
  },
  {
   "cell_type": "code",
   "execution_count": null,
   "id": "986e275f-e832-4a49-b105-e6bd9f011fe7",
   "metadata": {},
   "outputs": [],
   "source": [
    "model_snp = f\"{smc_dir}/scenario_{scenario}/model_{scenario}_{indiv}.snp.json\"\n",
    "model_vcf = f\"{smc_dir}/scenario_{scenario}/model_{scenario}_{indiv}.vcf.json\"\n",
    "# finalement on enregistre les résultats dans les fichiers csv\n",
    "plot_snp = f\"{smc_dir}/scenario_{scenario}/plot_{scenario}_{indiv}.snp.png\"\n",
    "csv_snp = f\"{smc_dir}/scenario_{scenario}/plot_{scenario}_{indiv}.snp.csv\"\n",
    "plot = f\"smc++ plot -c {plot_snp} {model_snp}\"\n",
    "process = subprocess.Popen(plot, shell=True,  stdout=subprocess.PIPE, stderr=subprocess.PIPE, universal_newlines=True)\n",
    "stdout, stderr = process.communicate()\n",
    "print(stdout, stderr)\n",
    "\n",
    "plot_vcf = f\"{smc_dir}/scenario_{scenario}/plot_{scenario}_{indiv}.vcf.png\"\n",
    "csv_vcf = f\"{smc_dir}/scenario_{scenario}/plot_{scenario}_{indiv}.vcf.csv\"\n",
    "plot = f\"smc++ plot -c {plot_vcf} {model_vcf}\"\n",
    "process = subprocess.Popen(plot, shell=True,  stdout=subprocess.PIPE, stderr=subprocess.PIPE, universal_newlines=True)\n",
    "stdout, stderr = process.communicate()\n",
    "print(stdout, stderr)"
   ]
  },
  {
   "cell_type": "code",
   "execution_count": 519,
   "id": "d21a2d08-eff1-437d-8120-24a4152f351d",
   "metadata": {},
   "outputs": [
    {
     "data": {
      "image/png": "[encoded data removed]",
      "text/plain": [
       "<Figure size 1440x720 with 1 Axes>"
      ]
     },
     "metadata": {
      "needs_background": "light"
     },
     "output_type": "display_data"
    }
   ],
   "source": [
    "# affichage de l'erreur\n",
    "Xsnp, Ysnp = loadCSV_plot(csv_snp)\n",
    "Xvcf, Yvcf = loadCSV_plot(csv_vcf)\n",
    "mse, error = MSE(Xvcf, Yvcf, Xsnp, Ysnp)\n",
    "plotError(Xvcf, Yvcf, Xsnp, Ysnp)"
   ]
  },
  {
   "cell_type": "markdown",
   "id": "924c4825-8af9-46f3-bc90-405820359564",
   "metadata": {},
   "source": [
    "**Ici, on compare autre le csv des données réelles avec nos estimations**"
   ]
  },
  {
   "cell_type": "code",
   "execution_count": 133,
   "id": "b8c97bf8-9731-41a1-b5eb-e39671501196",
   "metadata": {},
   "outputs": [
    {
     "data": {
      "image/png": "[encoded data removed]",
      "text/plain": [
       "<Figure size 1440x720 with 1 Axes>"
      ]
     },
     "metadata": {
      "needs_background": "light"
     },
     "output_type": "display_data"
    }
   ],
   "source": [
    "trueX, trueY, smcX, smcY = loadCSV_subsample()\n",
    "plotError(trueX, trueY, smcX, smcY)"
   ]
  },
  {
   "cell_type": "code",
   "execution_count": null,
   "id": "f175865f-fa89-45ba-9619-be31f7aca007",
   "metadata": {},
   "outputs": [],
   "source": []
  }
 ],
 "metadata": {
  "kernelspec": {
   "display_name": "Python 3",
   "language": "python",
   "name": "python3"
  },
  "language_info": {
   "codemirror_mode": {
    "name": "ipython",
    "version": 3
   },
   "file_extension": ".py",
   "mimetype": "text/x-python",
   "name": "python",
   "nbconvert_exporter": "python",
   "pygments_lexer": "ipython3",
   "version": "3.9.5"
  }
 },
 "nbformat": 4,
 "nbformat_minor": 5
}
